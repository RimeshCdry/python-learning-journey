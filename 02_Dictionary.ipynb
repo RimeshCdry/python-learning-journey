{
 "cells": [
  {
   "cell_type": "markdown",
   "id": "2ebfd523-8ae9-466f-aff9-f90ba27ddea9",
   "metadata": {},
   "source": [
    "### 🔷 11. Filter Dictionary by Value\n",
    "- You are given:\n",
    "    - scores = {'Aayush': 45, 'Bina': 78, 'Chetan': 60, 'Deepa': 30}\n",
    "\n",
    "- Write a program to create a new dictionary with only those students who scored more than 50."
   ]
  },
  {
   "cell_type": "code",
   "execution_count": 14,
   "id": "32f5426e-9c7c-4f50-aa4e-59cd0b8cf20b",
   "metadata": {},
   "outputs": [],
   "source": [
    "scores = {'Aayush': 45, 'Bina': 78, 'Chetan': 60, 'Deepa': 30}\n",
    "val_more_than_50 = {}\n",
    "for name in scores:\n",
    "    if scores[name] > 50:\n",
    "        val_more_than_50[name] = scores[name]"
   ]
  },
  {
   "cell_type": "code",
   "execution_count": 15,
   "id": "9ff8ed49-23b1-478a-bf6d-697392c39805",
   "metadata": {},
   "outputs": [
    {
     "name": "stdout",
     "output_type": "stream",
     "text": [
      "{'Bina': 78, 'Chetan': 60}\n"
     ]
    }
   ],
   "source": [
    "print(val_more_than_50)"
   ]
  },
  {
   "cell_type": "markdown",
   "id": "14a70c17-8b57-4c98-bc4e-8f67a0c4fa1f",
   "metadata": {},
   "source": [
    "OR"
   ]
  },
  {
   "cell_type": "code",
   "execution_count": 17,
   "id": "b02bb1c1-7677-4f82-8903-5777268f64cb",
   "metadata": {},
   "outputs": [],
   "source": [
    "scores = {'Aayush': 45, 'Bina': 78, 'Chetan': 60, 'Deepa': 30}\n",
    "more_than_50 = {}\n",
    "for name, score in scores.items():\n",
    "    if score > 50:\n",
    "        more_than_50[name] = score"
   ]
  },
  {
   "cell_type": "code",
   "execution_count": 18,
   "id": "6ef75300-4161-4891-8e4f-7fb8c0270bad",
   "metadata": {},
   "outputs": [
    {
     "name": "stdout",
     "output_type": "stream",
     "text": [
      "{'Bina': 78, 'Chetan': 60}\n"
     ]
    }
   ],
   "source": [
    "print(more_than_50)"
   ]
  },
  {
   "cell_type": "markdown",
   "id": "f30487c3-b034-489d-ae1d-0d925bc31665",
   "metadata": {},
   "source": [
    "### 🔷 12. Find Key with Maximum Value\n",
    "- Given:\n",
    "    - sales = {'Jan': 5000, 'Feb': 6000, 'Mar': 5500, 'Apr': 7000}\n",
    "- Find the month with the highest sales.\n",
    "\n"
   ]
  },
  {
   "cell_type": "code",
   "execution_count": 19,
   "id": "e2e66b6b-eafc-4dea-afe3-4c4893ec737e",
   "metadata": {},
   "outputs": [
    {
     "name": "stdout",
     "output_type": "stream",
     "text": [
      "Month with highest sales: Apr\n",
      "Maximum sales: 7000\n"
     ]
    }
   ],
   "source": [
    "sales = {'Jan': 5000, 'Feb': 6000, 'Mar': 5500, 'Apr': 7000}\n",
    "max_sales = 0\n",
    "month_with_max_sales = \"\"\n",
    "for month, sale in sales.items():\n",
    "    if sale > max_sales:\n",
    "        max_sales = sale\n",
    "        month_with_max_sales = month\n",
    "\n",
    "print(f\"Month with highest sales: {month_with_max_sales}\")\n",
    "print(f\"Maximum sales: {max_sales}\")\n",
    "    "
   ]
  },
  {
   "cell_type": "markdown",
   "id": "6a2ed273-744a-456a-88b3-48c11af1bdf9",
   "metadata": {},
   "source": [
    "### 🔷 13. Group Words by Length\n",
    "- Given a list:\n",
    "    - words = [\"apple\", \"bat\", \"ball\", \"car\", \"dog\", \"elephant\"]\n",
    "- Group them into a dictionary where the key is the length of the word and the value is a list of words of that length:"
   ]
  },
  {
   "cell_type": "code",
   "execution_count": 21,
   "id": "9f062c78-8948-49ad-b111-5c1e3fb1b2c2",
   "metadata": {},
   "outputs": [
    {
     "name": "stdout",
     "output_type": "stream",
     "text": [
      "{5: ['apple'], 3: ['bat', 'car', 'dog'], 4: ['ball'], 8: ['elephant']}\n"
     ]
    }
   ],
   "source": [
    "words = [\"apple\", \"bat\", \"ball\", \"car\", \"dog\", \"elephant\"]\n",
    "group_by_length = {}\n",
    "for word in words:\n",
    "    word_length = len(word)\n",
    "    if word_length in group_by_length:\n",
    "        group_by_length[word_length].append(word)\n",
    "    else:\n",
    "        group_by_length[word_length] = [word]\n",
    "print(group_by_length)     "
   ]
  },
  {
   "cell_type": "markdown",
   "id": "ad8d41bf-dc5e-42ae-a758-674fc3bc1f34",
   "metadata": {},
   "source": [
    "### 🔷 14. Build a Dictionary from Input\n",
    "- Ask the user to input 3 names and their ages, and build a dictionary from the input.\n",
    "    - Enter name: Ramesh\n",
    "    - Enter age: 23\n",
    "\n",
    "- Final output:\n",
    "    - {'Ramesh': 23, 'Sita': 25, 'Hari': 22}\n"
   ]
  },
  {
   "cell_type": "code",
   "execution_count": 23,
   "id": "7cf8d68b-d06f-420e-9ed4-9b1b25977463",
   "metadata": {},
   "outputs": [
    {
     "name": "stdin",
     "output_type": "stream",
     "text": [
      "Enter the number of people:  3\n",
      "Enter name:  Rimesh\n",
      "Enter age:  20\n",
      "Enter name:  Rishi\n",
      "Enter age:  21\n",
      "Enter name:  Gaurab\n",
      "Enter age:  20\n"
     ]
    },
    {
     "data": {
      "text/plain": [
       "{'Rimesh': 20, 'Rishi': 21, 'Gaurab': 20}"
      ]
     },
     "execution_count": 23,
     "metadata": {},
     "output_type": "execute_result"
    }
   ],
   "source": [
    "people = {}\n",
    "n = int(input(\"Enter the number of people: \"))\n",
    "while n != 0:\n",
    "    name = input(\"Enter name: \")\n",
    "    age = int(input(\"Enter age: \"))\n",
    "    people.update({name:age})\n",
    "    n-=1\n",
    "people"
   ]
  },
  {
   "cell_type": "markdown",
   "id": "d58243fd-8510-4a40-b76d-0e3d7a1a1045",
   "metadata": {},
   "source": [
    "### 🔷 15. Calculate Total Price from Cart\n",
    "- Given:\n",
    "  - cart = {\n",
    "    \"apple\": {\"qty\": 2, \"price\": 30},\n",
    "    \"banana\": {\"qty\": 5, \"price\": 10},\n",
    "    \"mango\": {\"qty\": 1, \"price\": 50}\n",
    "}\n",
    "- Write a program to calculate the total bill amount from the cart."
   ]
  },
  {
   "cell_type": "code",
   "execution_count": 28,
   "id": "9bec5428-d66b-49c6-8415-e9d8e1582c9d",
   "metadata": {},
   "outputs": [
    {
     "name": "stdout",
     "output_type": "stream",
     "text": [
      "Total Bill amoun: 90\n"
     ]
    }
   ],
   "source": [
    "cart = {\n",
    "    \"apple\": {\"qty\": 2, \"price\": 30},\n",
    "    \"banana\": {\"qty\": 5, \"price\": 10},\n",
    "    \"mango\": {\"qty\": 1, \"price\": 50}\n",
    "}\n",
    "\n",
    "total = 0\n",
    "for item in cart:\n",
    "    total += cart[item].get(\"price\")\n",
    "\n",
    "print(f\"Total Bill amoun: {total}\")"
   ]
  },
  {
   "cell_type": "markdown",
   "id": "f858e2e2-8afd-4238-80cc-af45591966f5",
   "metadata": {},
   "source": [
    "### 🔷 16. Remove Duplicates from Dictionary Values\n",
    "- Given:\n",
    "    - data = {\n",
    "    \"group1\": [\"Ram\", \"Sita\", \"Ram\"],\n",
    "    \"group2\": [\"Hari\", \"Sita\"],\n",
    "    \"group3\": [\"Gita\", \"Ram\"]\n",
    "}\n",
    "- Remove duplicates from all lists in the dictionary."
   ]
  },
  {
   "cell_type": "code",
   "execution_count": 32,
   "id": "7eb4144e-df26-4f10-8952-2598e8564a01",
   "metadata": {},
   "outputs": [
    {
     "name": "stdout",
     "output_type": "stream",
     "text": [
      "{'group1': ['Sita', 'Ram'], 'group2': ['Hari', 'Sita'], 'group3': ['Ram', 'Gita']}\n"
     ]
    }
   ],
   "source": [
    "data = {\n",
    "    \"group1\": [\"Ram\", \"Sita\", \"Ram\"],\n",
    "    \"group2\": [\"Hari\", \"Sita\"],\n",
    "    \"group3\": [\"Gita\", \"Ram\"]\n",
    "}\n",
    "\n",
    "for group, lst in data.items():\n",
    "    unique_name = list(set(lst))\n",
    "    data[group] = unique_name\n",
    "\n",
    "print(data)"
   ]
  },
  {
   "cell_type": "code",
   "execution_count": 35,
   "id": "3aed8007-2b8b-4dd7-a4e9-781106dd531d",
   "metadata": {},
   "outputs": [
    {
     "name": "stdout",
     "output_type": "stream",
     "text": [
      "{'group1': ['Ram', 'Sita'], 'group2': ['Hari', 'Sita'], 'group3': ['Gita', 'Ram']}\n"
     ]
    }
   ],
   "source": [
    "data = {\n",
    "    \"group1\": [\"Ram\", \"Sita\", \"Ram\"],\n",
    "    \"group2\": [\"Hari\", \"Sita\"],\n",
    "    \"group3\": [\"Gita\", \"Ram\"]\n",
    "}\n",
    "for group, lst in data.items():\n",
    "    unique_list = []\n",
    "    for name in lst:\n",
    "        if name not in unique_list:\n",
    "            unique_list.append(name)\n",
    "    data[group] = unique_list\n",
    "\n",
    "print(data)"
   ]
  },
  {
   "cell_type": "markdown",
   "id": "dc9fdeba-64fb-447a-b0a4-e321af75a81b",
   "metadata": {},
   "source": [
    "### 🔷 17. Count Frequency of First Letters\n",
    "- Given a list of names:\n",
    "    - names = ['Anil', 'Amit', 'Bina', 'Bipin', 'Anju']\n",
    "- Build a dictionary that stores the frequency of first letters:"
   ]
  },
  {
   "cell_type": "code",
   "execution_count": 37,
   "id": "e33de25b-e13b-45c5-b07d-b84af373c378",
   "metadata": {},
   "outputs": [
    {
     "name": "stdout",
     "output_type": "stream",
     "text": [
      "{'A': 3, 'B': 2}\n"
     ]
    }
   ],
   "source": [
    "names = ['Anil', 'Amit', 'Bina', 'Bipin', 'Anju']\n",
    "\n",
    "count_frequency = {}\n",
    "for name in names:\n",
    "    first_letter = name[0]\n",
    "    if first_letter in count_frequency:\n",
    "        count_frequency[first_letter] += 1\n",
    "    else:\n",
    "        count_frequency[first_letter] = 1\n",
    "\n",
    "print(count_frequency)"
   ]
  },
  {
   "cell_type": "markdown",
   "id": "bdf62c68-d501-44ec-8490-cc716af4ad55",
   "metadata": {},
   "source": [
    "### 🔷 18. Check for Value in Nested Dictionary\n",
    "- Given:\n",
    "    - people = {\n",
    "    \"person1\": {\"name\": \"Amit\", \"age\": 21},\n",
    "    \"person2\": {\"name\": \"Rita\", \"age\": 25},\n",
    "    \"person3\": {\"name\": \"Bikash\", \"age\": 19}\n",
    "}\n",
    "- Write a function that checks if a name exists in any nested dictionary.\n",
    "\n"
   ]
  },
  {
   "cell_type": "code",
   "execution_count": 41,
   "id": "ac6d1b35-f729-4c24-b381-ed3cfeab6d99",
   "metadata": {},
   "outputs": [
    {
     "name": "stdin",
     "output_type": "stream",
     "text": [
      "Enter name:  rita\n"
     ]
    },
    {
     "data": {
      "text/plain": [
       "'rita Exist in dictionary'"
      ]
     },
     "execution_count": 41,
     "metadata": {},
     "output_type": "execute_result"
    }
   ],
   "source": [
    "people = {\n",
    "    \"person1\": {\"name\": \"Amit\", \"age\": 21},\n",
    "    \"person2\": {\"name\": \"Rita\", \"age\": 25},\n",
    "    \"person3\": {\"name\": \"Bikash\", \"age\": 19}\n",
    "}\n",
    "\n",
    "def check_name(dictionary, name):\n",
    "    for person in dictionary:\n",
    "        if name.lower() in dictionary[person][\"name\"].lower():\n",
    "            return True\n",
    "    return False\n",
    "\n",
    "name = input(\"Enter name: \") \n",
    "\n",
    "f\"{name} Exist in dictionary\" if check_name(people, name) else f\"{name} not Exist in dictionary\""
   ]
  },
  {
   "cell_type": "code",
   "execution_count": 44,
   "id": "ffdce533-bd31-437e-8ab9-d55fac49d2a4",
   "metadata": {},
   "outputs": [
    {
     "name": "stdin",
     "output_type": "stream",
     "text": [
      "Enter name:  Rimesh\n"
     ]
    },
    {
     "data": {
      "text/plain": [
       "'Rimesh not Exist in dictionary'"
      ]
     },
     "execution_count": 44,
     "metadata": {},
     "output_type": "execute_result"
    }
   ],
   "source": [
    "name = input(\"Enter name: \") \n",
    "f\"{name} Exist in dictionary\" if check_name(people, name) else f\"{name} not Exist in dictionary\""
   ]
  },
  {
   "cell_type": "markdown",
   "id": "b1c757fa-7bc5-41eb-9927-98b8a315eb08",
   "metadata": {},
   "source": [
    "### 🔷 19. Dictionary from CSV Format (String Input)\n",
    "- Given a string of CSV format:\n",
    "    - data = \"Ramesh,30;Sita,25;Hari,28\"\n",
    "- Convert it into a dictionary"
   ]
  },
  {
   "cell_type": "code",
   "execution_count": 67,
   "id": "bdc7455b-1d7c-479a-bbcf-0e593c168152",
   "metadata": {},
   "outputs": [],
   "source": [
    "data = \"Ramesh,30;Sita,25;Hari,28\"\n",
    "data_list = data.split(\";\")\n",
    "new_dictionary = {}\n",
    "\n",
    "for item in data_list:\n",
    "    name,age = item.split(',')\n",
    "    new_dictionary[name] = age"
   ]
  },
  {
   "cell_type": "code",
   "execution_count": 68,
   "id": "7686fb1d-a3b6-4424-ac23-ae0a08ba97dc",
   "metadata": {},
   "outputs": [
    {
     "data": {
      "text/plain": [
       "{'Ramesh': '30', 'Sita': '25', 'Hari': '28'}"
      ]
     },
     "execution_count": 68,
     "metadata": {},
     "output_type": "execute_result"
    }
   ],
   "source": [
    "new_dictionary"
   ]
  },
  {
   "cell_type": "markdown",
   "id": "11ce6d6a-5f51-4fc0-9510-67b207eac17f",
   "metadata": {},
   "source": [
    "### 🔷 20. Sum Values of Common Keys Across Dictionaries\n",
    "- You are given a list of dictionaries:\n",
    "    - dicts = [\n",
    "    {'math': 70, 'science': 65},\n",
    "    {'math': 80, 'english': 75},\n",
    "    {'science': 55, 'english': 60}\n",
    "]\n",
    "- Write a program to combine them into one dictionary by summing the values of common keys."
   ]
  },
  {
   "cell_type": "code",
   "execution_count": 70,
   "id": "2e40f460-e886-4ec1-b5f7-43dcde431a35",
   "metadata": {},
   "outputs": [
    {
     "name": "stdout",
     "output_type": "stream",
     "text": [
      "{'math': 150, 'science': 120, 'english': 135}\n"
     ]
    }
   ],
   "source": [
    "dicts = [\n",
    "    {'math': 70, 'science': 65},\n",
    "    {'math': 80, 'english': 75},\n",
    "    {'science': 55, 'english': 60}\n",
    "]\n",
    "combine = {}\n",
    "\n",
    "for i in dicts:\n",
    "    for key,value in i.items():\n",
    "        if key in combine:\n",
    "            combine[key] += value\n",
    "        else:\n",
    "            combine[key] = value\n",
    "print(combine)\n",
    "        "
   ]
  },
  {
   "cell_type": "code",
   "execution_count": null,
   "id": "12c9fa18-c3ea-45a2-9f0d-29a0793dc3fc",
   "metadata": {},
   "outputs": [],
   "source": []
  }
 ],
 "metadata": {
  "kernelspec": {
   "display_name": "Python 3 (ipykernel)",
   "language": "python",
   "name": "python3"
  },
  "language_info": {
   "codemirror_mode": {
    "name": "ipython",
    "version": 3
   },
   "file_extension": ".py",
   "mimetype": "text/x-python",
   "name": "python",
   "nbconvert_exporter": "python",
   "pygments_lexer": "ipython3",
   "version": "3.12.7"
  }
 },
 "nbformat": 4,
 "nbformat_minor": 5
}
