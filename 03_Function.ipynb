{
 "cells": [
  {
   "cell_type": "markdown",
   "id": "8a57be52-c5a9-4359-abb4-b1b221501ac7",
   "metadata": {},
   "source": [
    "## Day 9: Functions (defining, return, parameters, default/keyword)"
   ]
  },
  {
   "cell_type": "markdown",
   "id": "e1fd76bb-8735-407f-8a8f-8379ce1c3b56",
   "metadata": {},
   "source": [
    "### 1. Write a function that takes a name and prints a greeting. \n"
   ]
  },
  {
   "cell_type": "code",
   "execution_count": 1,
   "id": "6ce83163-faeb-4b91-8fe9-cf4d84814bd3",
   "metadata": {},
   "outputs": [
    {
     "name": "stdin",
     "output_type": "stream",
     "text": [
      "Enter name:  Rimesh\n"
     ]
    },
    {
     "name": "stdout",
     "output_type": "stream",
     "text": [
      "Hello, Rimesh\n"
     ]
    }
   ],
   "source": [
    "def greet(name):\n",
    "    print(f\"Hello, {name}\")\n",
    "name = input(\"Enter name: \")\n",
    "greet(name)"
   ]
  },
  {
   "cell_type": "markdown",
   "id": "e6e3cdef-f121-4a94-acee-178c3d6ab9f2",
   "metadata": {},
   "source": [
    "### 2. Create a function that returns the square of a number. "
   ]
  },
  {
   "cell_type": "code",
   "execution_count": 3,
   "id": "2504d8e4-a816-4187-9bbc-6ea973d7f908",
   "metadata": {},
   "outputs": [
    {
     "name": "stdin",
     "output_type": "stream",
     "text": [
      "Enter number:  25\n"
     ]
    },
    {
     "name": "stdout",
     "output_type": "stream",
     "text": [
      "The square of 25 is 625\n"
     ]
    }
   ],
   "source": [
    "def square(num):\n",
    "    return num**2\n",
    "\n",
    "num = int(input(\"Enter number: \"))\n",
    "print(f\"The square of {num} is {square(num)}\")"
   ]
  },
  {
   "cell_type": "markdown",
   "id": "536ba5d2-d228-4150-8318-c4114df795c9",
   "metadata": {},
   "source": [
    "### 3. Write a function to calculate the area of a rectangle (use default value for height). "
   ]
  },
  {
   "cell_type": "code",
   "execution_count": 4,
   "id": "e5edfbac-c02f-4688-bb83-766213216a91",
   "metadata": {},
   "outputs": [
    {
     "name": "stdout",
     "output_type": "stream",
     "text": [
      "The area of rectangle with default height: 35\n",
      "The area of rectangle with default height: 49\n"
     ]
    }
   ],
   "source": [
    "def area_of_rectangle(lenght, height = 5):\n",
    "    return lenght*height\n",
    "\n",
    "print(f\"The area of rectangle with default height: {area_of_rectangle(7)}\")\n",
    "print(f\"The area of rectangle with default height: {area_of_rectangle(7,7)}\")"
   ]
  },
  {
   "cell_type": "markdown",
   "id": "609ea3e1-d384-4d19-8119-80b4a2c1d76a",
   "metadata": {},
   "source": [
    "### 4. Use keyword arguments to call a function that prints a student’s name, age, and grade."
   ]
  },
  {
   "cell_type": "code",
   "execution_count": 8,
   "id": "4164da38-9d7d-4f8a-a008-bf841ac51bda",
   "metadata": {},
   "outputs": [
    {
     "name": "stdout",
     "output_type": "stream",
     "text": [
      "Details: \n",
      "Student's name: Rimesh\n",
      "Student's age: 20\n",
      "Student's grade: Bachlor's\n"
     ]
    }
   ],
   "source": [
    "def print_detail( name ,age, grade):\n",
    "    print(\"Details: \")\n",
    "    print(f\"Student's name: {name}\")\n",
    "    print(f\"Student's age: {age}\")\n",
    "    print(f\"Student's grade: {grade}\")\n",
    "\n",
    "print_detail(name=\"Rimesh\", age=20, grade=\"Bachlor's\")"
   ]
  },
  {
   "cell_type": "markdown",
   "id": "684cc28c-2250-456a-8a89-8533a7bfc52c",
   "metadata": {},
   "source": [
    "### 5. Write a function that takes a list and returns the maximum element."
   ]
  },
  {
   "cell_type": "code",
   "execution_count": 13,
   "id": "94492f18-869c-4087-8aed-55c10d6204f1",
   "metadata": {},
   "outputs": [
    {
     "name": "stdin",
     "output_type": "stream",
     "text": [
      "Enter number in list:  1 22 47 85 69 96\n"
     ]
    },
    {
     "name": "stdout",
     "output_type": "stream",
     "text": [
      "The list: [1, 22, 47, 85, 69, 96]\n",
      "The maximum value is 96\n"
     ]
    }
   ],
   "source": [
    "def find_maximum(list_item):\n",
    "    highest = 0\n",
    "    for num in list_item:\n",
    "        if num > highest:\n",
    "            highest = num\n",
    "    return highest\n",
    "\n",
    "lst = input(\"Enter number in list: \").split()\n",
    "lst = [int(num) for num in lst]\n",
    "\n",
    "print(f\"The list: {lst}\")\n",
    "print(f\"The maximum value is {find_maximum(lst)}\")"
   ]
  },
  {
   "cell_type": "markdown",
   "id": "f1da505e-1688-47df-9fc3-a7eadf3f9176",
   "metadata": {},
   "source": [
    "### 6. Create a calculator function that accepts a variable number of arguments and performs an operation such as addition, subtraction, multiplication, or division on all the numbers."
   ]
  },
  {
   "cell_type": "code",
   "execution_count": 15,
   "id": "8149abbf-96f4-40ca-8a80-b4fe460106b4",
   "metadata": {},
   "outputs": [],
   "source": [
    "def calculator(operation, *numbers):\n",
    "    match operation:\n",
    "        case \"add\":\n",
    "            result = sum(numbers)\n",
    "        case \"subtract\":\n",
    "            result = numbers[0]\n",
    "            for n in numbers[1:]:\n",
    "                result -= n\n",
    "        case \"multiply\":\n",
    "            result = numbers[0]\n",
    "            for n in numbers[1:]:\n",
    "                result *= n\n",
    "        case \"divide\":\n",
    "            result = numbers[0]\n",
    "            for n in numbers[1:]:\n",
    "                if num == 0:\n",
    "                    return \"Error: Division by zero\"\n",
    "                result /= n\n",
    "        case \"_\":\n",
    "            return \"Invalid Operation\"\n",
    "    return result"
   ]
  },
  {
   "cell_type": "code",
   "execution_count": 16,
   "id": "90fbee0a-eb5d-4c15-8495-50e6fb0e869e",
   "metadata": {},
   "outputs": [
    {
     "name": "stdout",
     "output_type": "stream",
     "text": [
      "60\n",
      "24\n",
      "35\n",
      "10.0\n"
     ]
    }
   ],
   "source": [
    "print(calculator(\"add\", 10, 20, 30))        # 60\n",
    "print(calculator(\"multiply\", 2, 3, 4))      # 24\n",
    "print(calculator(\"subtract\", 50, 10, 5))    # 35\n",
    "print(calculator(\"divide\", 100, 2, 5))      # 10.0"
   ]
  },
  {
   "cell_type": "markdown",
   "id": "1198f789-3575-4fe8-8547-7b16a5f2f0ac",
   "metadata": {},
   "source": [
    "### xx---------------------------------------------------------------------xx"
   ]
  },
  {
   "cell_type": "markdown",
   "id": "4070846f-47be-4c50-9d45-95ecf24f974f",
   "metadata": {},
   "source": [
    "### Day 10: Lambda and map()/filter() "
   ]
  },
  {
   "cell_type": "markdown",
   "id": "64f9bba6-7613-4c79-9444-85cd959bfe0a",
   "metadata": {},
   "source": [
    "### 1. Use a lambda function to add two numbers. \n"
   ]
  },
  {
   "cell_type": "code",
   "execution_count": 19,
   "id": "74924a62-3101-4d82-9728-ea697554f627",
   "metadata": {},
   "outputs": [
    {
     "name": "stdout",
     "output_type": "stream",
     "text": [
      "The sum of two numbers is: 11\n"
     ]
    }
   ],
   "source": [
    "add = lambda a,b: a+b\n",
    "print(f\"The sum of two numbers is: {add(5,6)}\")"
   ]
  },
  {
   "cell_type": "markdown",
   "id": "4cc5eaab-f7ab-448c-bd73-7a8e8e14f52c",
   "metadata": {},
   "source": [
    "### 2. Use map() to convert a list of strings to uppercase."
   ]
  },
  {
   "cell_type": "code",
   "execution_count": 25,
   "id": "6b309615-f563-42e4-b4af-f0f7978bd616",
   "metadata": {},
   "outputs": [
    {
     "name": "stdin",
     "output_type": "stream",
     "text": [
      "Enter string:  rimesh\n"
     ]
    },
    {
     "name": "stdout",
     "output_type": "stream",
     "text": [
      "RIMESH\n"
     ]
    }
   ],
   "source": [
    "string = input(\"Enter string: \")\n",
    "upper_case = map(str.upper,string)\n",
    "print(''.join(upper_case))"
   ]
  },
  {
   "cell_type": "markdown",
   "id": "fab4cad6-9bcc-43be-b8f3-0d6d6a03f479",
   "metadata": {},
   "source": [
    "### 3. Use filter() to get only even numbers from a list. "
   ]
  },
  {
   "cell_type": "code",
   "execution_count": 26,
   "id": "59c23a1d-54e5-430d-9d5b-7d502a03fc5e",
   "metadata": {},
   "outputs": [
    {
     "name": "stdout",
     "output_type": "stream",
     "text": [
      "[2, 4, 6, 8, 10]\n"
     ]
    }
   ],
   "source": [
    "lst = [1,2,3,4,5,6,7,8,9,10]\n",
    "only_even = filter(lambda x:x%2 == 0, lst)\n",
    "print(list(only_even))"
   ]
  },
  {
   "cell_type": "markdown",
   "id": "c6aa9841-74fd-4afe-b4fb-ef09427d9779",
   "metadata": {},
   "source": [
    "### 4. Combine lambda and map to square every element in a list. \n"
   ]
  },
  {
   "cell_type": "code",
   "execution_count": 27,
   "id": "bbdfca65-aa0e-4b04-9cb0-a21e3a0e4485",
   "metadata": {},
   "outputs": [
    {
     "name": "stdout",
     "output_type": "stream",
     "text": [
      "[1, 4, 9, 16, 25, 36, 49, 64, 81, 100]\n"
     ]
    }
   ],
   "source": [
    "lst = [1,2,3,4,5,6,7,8,9,10]\n",
    "squared_value = map(lambda num: num**2, lst)\n",
    "print(list(squared_value))"
   ]
  },
  {
   "cell_type": "markdown",
   "id": "3d0aed39-d805-4589-a4df-16658ff25018",
   "metadata": {},
   "source": [
    "### 5. Use filter() and lambda to find words longer than 5 letters from a list. \n"
   ]
  },
  {
   "cell_type": "code",
   "execution_count": 32,
   "id": "183ef371-ba8b-467a-add5-cb28af0d36db",
   "metadata": {},
   "outputs": [
    {
     "name": "stdout",
     "output_type": "stream",
     "text": [
      "List of words longer than 5 letter : ['filler', 'function', 'fantacy', 'famous']\n"
     ]
    }
   ],
   "source": [
    "words = ['fill' ,'filler', 'fox', 'freez', 'function', 'fantacy', 'fan', 'famous']\n",
    "filter_longer_word = filter(lambda word: len(word)> 5, words)\n",
    "print(f\"List of words longer than 5 letter : {list(filter_longer_word)}\")"
   ]
  },
  {
   "cell_type": "markdown",
   "id": "75781891-8240-4e5f-b8fe-cd7b458bf82e",
   "metadata": {},
   "source": [
    "### XX -----------------------------------------------------------------XX"
   ]
  },
  {
   "cell_type": "markdown",
   "id": "b9f73bea-6b10-4956-9cab-3574374fbba7",
   "metadata": {},
   "source": [
    "### Day 11: Recursion Basics"
   ]
  },
  {
   "cell_type": "markdown",
   "id": "9bb94350-7581-40a8-b190-8d911e347b7d",
   "metadata": {},
   "source": [
    "### 1. Write a recursive function to calculate factorial of a number."
   ]
  },
  {
   "cell_type": "code",
   "execution_count": 37,
   "id": "301f5308-77fd-4360-bf3c-4bd48ccc43d2",
   "metadata": {},
   "outputs": [],
   "source": [
    "def find_factorial(num):\n",
    "    if num <= 1:\n",
    "        return 1\n",
    "    return num * find_factorial(num - 1)"
   ]
  },
  {
   "cell_type": "code",
   "execution_count": 38,
   "id": "02c9b8a6-c002-4ccd-ba25-e05762194705",
   "metadata": {},
   "outputs": [
    {
     "name": "stdout",
     "output_type": "stream",
     "text": [
      "120\n"
     ]
    }
   ],
   "source": [
    "fact = find_factorial(5)\n",
    "print(fact)"
   ]
  },
  {
   "cell_type": "code",
   "execution_count": null,
   "id": "0a3e01d0-6df0-4f51-9077-0106ab950067",
   "metadata": {},
   "outputs": [],
   "source": []
  }
 ],
 "metadata": {
  "kernelspec": {
   "display_name": "Python 3 (ipykernel)",
   "language": "python",
   "name": "python3"
  },
  "language_info": {
   "codemirror_mode": {
    "name": "ipython",
    "version": 3
   },
   "file_extension": ".py",
   "mimetype": "text/x-python",
   "name": "python",
   "nbconvert_exporter": "python",
   "pygments_lexer": "ipython3",
   "version": "3.12.7"
  }
 },
 "nbformat": 4,
 "nbformat_minor": 5
}
