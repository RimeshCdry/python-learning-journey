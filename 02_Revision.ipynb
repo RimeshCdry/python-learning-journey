{
 "cells": [
  {
   "cell_type": "markdown",
   "id": "e04e8bd3-281e-4834-b845-14c336830eb8",
   "metadata": {},
   "source": [
    "# 🔥 Intermediate Python Programming Challenges"
   ]
  },
  {
   "cell_type": "markdown",
   "id": "bbe14bd4-9c77-439a-9981-a2990d55398a",
   "metadata": {},
   "source": [
    "## 🧠 Logic & Algorithm\n"
   ]
  },
  {
   "cell_type": "markdown",
   "id": "3c17a321-091a-4169-9a8e-983fc374eccd",
   "metadata": {},
   "source": [
    "####  1. Write a function to generate the first 'n' Fibonacci numbers."
   ]
  },
  {
   "cell_type": "code",
   "execution_count": 15,
   "id": "33f047a2-3b64-47a1-88e1-796400cf821e",
   "metadata": {},
   "outputs": [
    {
     "name": "stdin",
     "output_type": "stream",
     "text": [
      "Enter nth numbers:  5\n"
     ]
    },
    {
     "name": "stdout",
     "output_type": "stream",
     "text": [
      "0 1 1 2 3 "
     ]
    }
   ],
   "source": [
    "a,b = 0,1\n",
    "n = int(input(\"Enter nth numbers: \"))\n",
    "print(a,b,end=\" \")\n",
    "for _ in range(2,n):\n",
    "    c = a + b\n",
    "    a,b = b,c\n",
    "    print(c,end = \" \")"
   ]
  },
  {
   "cell_type": "code",
   "execution_count": 22,
   "id": "fdac6f71-58b2-42f4-ad63-f5bcf3c3df9c",
   "metadata": {},
   "outputs": [],
   "source": [
    "def generate_fibo(n):\n",
    "    if n == 0:\n",
    "        return []\n",
    "    if n == 1:\n",
    "        return [0]\n",
    "    if n == 2:\n",
    "        return [0,1]\n",
    "\n",
    "    fib_seq = [0,1]\n",
    "    for _ in range(2,n):\n",
    "        next_number = fib_seq[-1] + fib_seq[-2]\n",
    "        fib_seq.append(next_number)\n",
    "\n",
    "    return fib_seq"
   ]
  },
  {
   "cell_type": "code",
   "execution_count": 24,
   "id": "1edb7cf4-3467-41b5-ad60-30c158f01fc9",
   "metadata": {},
   "outputs": [
    {
     "data": {
      "text/plain": [
       "[0, 1, 1, 2, 3, 5, 8, 13, 21, 34]"
      ]
     },
     "execution_count": 24,
     "metadata": {},
     "output_type": "execute_result"
    }
   ],
   "source": [
    "generate_fibo(10)"
   ]
  },
  {
   "cell_type": "markdown",
   "id": "c72e7f0c-b9c9-44c6-b148-e6ac5c65bf5f",
   "metadata": {},
   "source": [
    "#### ----------------------------------------------------------------------------------------"
   ]
  },
  {
   "cell_type": "markdown",
   "id": "f64ec30a-f31d-4cf3-9320-d9429def0078",
   "metadata": {},
   "source": [
    "#### 2. Check if a number is an Armstrong number (e.g., 153 → 1³ + 5³ + 3³ = 153)."
   ]
  },
  {
   "cell_type": "code",
   "execution_count": 25,
   "id": "2054cb00-8a9c-4f37-9601-c73b56b6b865",
   "metadata": {},
   "outputs": [],
   "source": [
    "def check_armstrong(number):\n",
    "    str_num = str(number)\n",
    "    power = len(str_num)\n",
    "    result = sum(int(digit)**power for digit in str_num)\n",
    "    return result == number"
   ]
  },
  {
   "cell_type": "code",
   "execution_count": 28,
   "id": "bbfb49b8-ac0c-4c01-bfd8-368058ff150e",
   "metadata": {},
   "outputs": [
    {
     "name": "stdin",
     "output_type": "stream",
     "text": [
      "Enter a number:  144\n"
     ]
    },
    {
     "name": "stdout",
     "output_type": "stream",
     "text": [
      "144 is not a Armstrong Number.\n"
     ]
    }
   ],
   "source": [
    "number = int(input(\"Enter a number: \"))\n",
    "if check_armstrong(number):\n",
    "    print(f\"{number} is Armstrong Number.\")\n",
    "else:\n",
    "    print(f\"{number} is not a Armstrong Number.\")"
   ]
  },
  {
   "cell_type": "code",
   "execution_count": null,
   "id": "563e96e3-2cb8-4934-aaac-37e4a4936c79",
   "metadata": {},
   "outputs": [],
   "source": []
  },
  {
   "cell_type": "markdown",
   "id": "11b53e08-6b45-4647-a174-1aa70794db44",
   "metadata": {},
   "source": [
    "#### 3. Return all prime factors of a given number. "
   ]
  },
  {
   "cell_type": "code",
   "execution_count": 31,
   "id": "552c3b89-47fc-4753-8a8e-eb5fe20643ed",
   "metadata": {},
   "outputs": [],
   "source": [
    "def find_factor(number):\n",
    "    factors = []\n",
    "    for num in range(1,number + 1):\n",
    "        if number % num == 0:\n",
    "            factors.append(num)\n",
    "    return factors"
   ]
  },
  {
   "cell_type": "code",
   "execution_count": 34,
   "id": "8530c064-8164-4f69-b584-32f7fbdf07bb",
   "metadata": {},
   "outputs": [],
   "source": [
    "def is_prime(n):\n",
    "    if n < 2:\n",
    "        return False\n",
    "    for i in range(2 , int(n**0.5)+1):\n",
    "        if n % i == 0:\n",
    "            return False\n",
    "    return True"
   ]
  },
  {
   "cell_type": "code",
   "execution_count": 36,
   "id": "c666a9ed-5e1e-4507-8a66-0d9be5b1bc83",
   "metadata": {},
   "outputs": [],
   "source": [
    "def prime_factor(fact_list):\n",
    "    prime_factors = []\n",
    "    for num in fact_list:\n",
    "        if is_prime(num):\n",
    "            prime_factors.append(num)\n",
    "    return prime_factors"
   ]
  },
  {
   "cell_type": "code",
   "execution_count": 37,
   "id": "0faa3b29-501c-4e87-a413-6161642883e1",
   "metadata": {},
   "outputs": [
    {
     "name": "stdin",
     "output_type": "stream",
     "text": [
      "Enter a number:  18\n"
     ]
    },
    {
     "name": "stdout",
     "output_type": "stream",
     "text": [
      "Factor of 18: [1, 2, 3, 6, 9, 18]\n",
      "Prime Factor of 18: [2, 3]\n"
     ]
    }
   ],
   "source": [
    "number = int(input(\"Enter a number: \"))\n",
    "fact_lst = find_factor(number)\n",
    "prime_fact_list = prime_factor(fact_lst)\n",
    "print(f\"Factor of {number}: {fact_lst}\")\n",
    "print(f\"Prime Factor of {number}: {prime_fact_list}\")"
   ]
  },
  {
   "cell_type": "code",
   "execution_count": null,
   "id": "68910ae1-2d3d-40e4-81ee-d93cd13bdc91",
   "metadata": {},
   "outputs": [],
   "source": []
  },
  {
   "cell_type": "markdown",
   "id": "7ca6370e-9faa-41f1-9f53-401c0d46e97f",
   "metadata": {},
   "source": [
    "#### 4. Create functions to compute the GCD and LCM of two numbers. "
   ]
  },
  {
   "cell_type": "code",
   "execution_count": 45,
   "id": "2d3a9f14-09a1-4a6a-87a8-421a298e0b92",
   "metadata": {},
   "outputs": [],
   "source": [
    "def find_hcf(num1,num2):\n",
    "    while num2 != 0:\n",
    "        num1, num2 = num2 , num1 % num2"
   ]
  },
  {
   "cell_type": "code",
   "execution_count": 46,
   "id": "ce3f2df7-67fe-42b4-be42-17ca22f8a63d",
   "metadata": {},
   "outputs": [],
   "source": [
    "def find_lcm(num1,num2):\n",
    "    return abs(num1*num2) // find_gcd(num1,num2)"
   ]
  },
  {
   "cell_type": "code",
   "execution_count": 48,
   "id": "d293a4df-8b15-4b31-a667-c1dbb41e397e",
   "metadata": {},
   "outputs": [
    {
     "name": "stdin",
     "output_type": "stream",
     "text": [
      "Enter first number:  4\n",
      "Enter second number:  12\n"
     ]
    },
    {
     "name": "stdout",
     "output_type": "stream",
     "text": [
      "GCD: 4\n",
      "LCM: 12\n"
     ]
    }
   ],
   "source": [
    "num1 = int(input(\"Enter first number: \"))\n",
    "num2 = int(input(\"Enter second number: \"))\n",
    "\n",
    "print(\"GCD:\", find_gcd(num1, num2))\n",
    "print(\"LCM:\", find_lcm(num1, num2))"
   ]
  },
  {
   "cell_type": "code",
   "execution_count": null,
   "id": "d614ba5c-42c9-46a7-9c85-a571ec62fc7b",
   "metadata": {},
   "outputs": [],
   "source": []
  },
  {
   "cell_type": "markdown",
   "id": "ace7e55f-8a32-4ad2-9586-e1fab15427cb",
   "metadata": {},
   "source": [
    "#### 5. Nested List Sorting – Sort a list of tuples by the second item: \n",
    "##### [(1, 3), (4, 1), (5, 2)] → [(4, 1), (5, 2), (1, 3)] \n"
   ]
  },
  {
   "cell_type": "code",
   "execution_count": 50,
   "id": "d9822130-437f-4581-b76c-fece43fdfa09",
   "metadata": {},
   "outputs": [
    {
     "name": "stdout",
     "output_type": "stream",
     "text": [
      "[(4, 1), (5, 2), (1, 3)]\n"
     ]
    }
   ],
   "source": [
    "lst = [(1, 3), (4, 1), (5, 2)]\n",
    "sorted_list = sorted(lst , key= lambda x:x[1])\n",
    "print(sorted_list)"
   ]
  },
  {
   "cell_type": "markdown",
   "id": "b89e2c4e-70d1-4def-bb12-cce0295c0593",
   "metadata": {},
   "source": [
    "#### 6.  Transpose a 2D matrix without using NumPy."
   ]
  },
  {
   "cell_type": "code",
   "execution_count": 52,
   "id": "66fc6d7d-321f-459f-a7c7-c38a436e6ff8",
   "metadata": {},
   "outputs": [],
   "source": [
    "def transpose_2D(matrix):\n",
    "    rows = len(matrix)\n",
    "    cols= len(matrix)\n",
    "    transposed = []\n",
    "    for c in range(cols):\n",
    "        new_row= []\n",
    "        for r in range(rows):\n",
    "            new_row.append(matrix[r][c])\n",
    "        transposed.append(new_row)\n",
    "    return transposed"
   ]
  },
  {
   "cell_type": "code",
   "execution_count": null,
   "id": "94ce6c9f-defe-40e9-a709-4390bf9adccd",
   "metadata": {},
   "outputs": [],
   "source": []
  }
 ],
 "metadata": {
  "kernelspec": {
   "display_name": "Python 3 (ipykernel)",
   "language": "python",
   "name": "python3"
  },
  "language_info": {
   "codemirror_mode": {
    "name": "ipython",
    "version": 3
   },
   "file_extension": ".py",
   "mimetype": "text/x-python",
   "name": "python",
   "nbconvert_exporter": "python",
   "pygments_lexer": "ipython3",
   "version": "3.12.7"
  }
 },
 "nbformat": 4,
 "nbformat_minor": 5
}
