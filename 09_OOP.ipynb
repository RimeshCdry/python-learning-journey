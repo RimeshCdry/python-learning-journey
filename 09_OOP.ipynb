{
 "cells": [
  {
   "cell_type": "markdown",
   "id": "88d88284-0c73-4bad-96eb-693602bd3c12",
   "metadata": {},
   "source": [
    "### 🧠 Day 18: Encapsulation and Abstraction"
   ]
  },
  {
   "cell_type": "markdown",
   "id": "8c679548-1277-47dc-a412-897bf1bc2af9",
   "metadata": {},
   "source": [
    "### 1. Create a class Student with private attribute __marks. Add methods to get and set the marks."
   ]
  },
  {
   "cell_type": "code",
   "execution_count": 1,
   "id": "232a1b0d-39d6-42ce-9f92-c7b51b9a6f4b",
   "metadata": {},
   "outputs": [],
   "source": [
    "class Student:\n",
    "    def __init__(self):\n",
    "        self.__marks = 0\n",
    "\n",
    "    def get_marks(self):\n",
    "        return self.__marks\n",
    "\n",
    "    def set_marks(self,marks):\n",
    "        if 0 <= marks <= 100: # chain comparison\n",
    "            self.__marks = marks\n",
    "        else:\n",
    "            print(\"Invalid marks. Please enter a value between 0 and 100.\")"
   ]
  },
  {
   "cell_type": "code",
   "execution_count": 2,
   "id": "aaa04294-cffc-48be-87d6-d1e32e604538",
   "metadata": {},
   "outputs": [
    {
     "name": "stdout",
     "output_type": "stream",
     "text": [
      "The mark is 85\n"
     ]
    }
   ],
   "source": [
    "s1 = Student()\n",
    "\n",
    "s1.set_marks(85)\n",
    "print(f\"The mark is {s1.get_marks()}\")"
   ]
  },
  {
   "cell_type": "code",
   "execution_count": 3,
   "id": "9d2705df-030b-4371-80a7-455e5cc299b2",
   "metadata": {},
   "outputs": [
    {
     "name": "stdout",
     "output_type": "stream",
     "text": [
      "Invalid marks. Please enter a value between 0 and 100.\n",
      "The mark is 85\n"
     ]
    }
   ],
   "source": [
    "s1.set_marks(155)\n",
    "print(f\"The mark is {s1.get_marks()}\")"
   ]
  },
  {
   "cell_type": "markdown",
   "id": "de701746-d0e4-4cf4-b664-1fd577ca68e7",
   "metadata": {},
   "source": [
    "### 2. Demonstrate the use of public, private, and protected members in a class Account."
   ]
  },
  {
   "cell_type": "code",
   "execution_count": 4,
   "id": "977ac50e-144d-471c-b8f1-0cd951318caa",
   "metadata": {},
   "outputs": [],
   "source": [
    "class Account:\n",
    "    def __init__(self,name,balance,pin):\n",
    "        self.name = name # Public attribute\n",
    "        self._balance = balance # Procteted attribute\n",
    "        self.__pin = pin # Private attribute\n",
    "\n",
    "    #Public method to display account info\n",
    "    def display_info(self):\n",
    "        print(f\"Account Holder: {self.name}\")\n",
    "        print(f\"Balance: {self._balance}\")\n",
    "        print(f\"PIN (accessed inside class): {self.__pin}\")\n",
    "\n",
    "    # Public method to change private member\n",
    "    def change_pin(self,new_pin):\n",
    "        self.__pin = new_pin\n",
    "        print(\"PIN updated successfully.\")"
   ]
  },
  {
   "cell_type": "code",
   "execution_count": 5,
   "id": "7f365feb-2c38-4cbe-8a2b-63904fe06ee0",
   "metadata": {},
   "outputs": [
    {
     "name": "stdout",
     "output_type": "stream",
     "text": [
      "Name (Public): Rime\n",
      "Balance (Protected): 85000 \n"
     ]
    },
    {
     "ename": "AttributeError",
     "evalue": "'Account' object has no attribute '__pin'",
     "output_type": "error",
     "traceback": [
      "\u001b[1;31m---------------------------------------------------------------------------\u001b[0m",
      "\u001b[1;31mAttributeError\u001b[0m                            Traceback (most recent call last)",
      "Cell \u001b[1;32mIn[5], line 10\u001b[0m\n\u001b[0;32m      7\u001b[0m \u001b[38;5;28mprint\u001b[39m(\u001b[38;5;124mf\u001b[39m\u001b[38;5;124m\"\u001b[39m\u001b[38;5;124mBalance (Protected): \u001b[39m\u001b[38;5;132;01m{\u001b[39;00macc1\u001b[38;5;241m.\u001b[39m_balance\u001b[38;5;132;01m}\u001b[39;00m\u001b[38;5;124m \u001b[39m\u001b[38;5;124m\"\u001b[39m)\n\u001b[0;32m      9\u001b[0m \u001b[38;5;66;03m# Trying to access private member directly(It will raise AttributeError)\u001b[39;00m\n\u001b[1;32m---> 10\u001b[0m \u001b[38;5;28mprint\u001b[39m(\u001b[38;5;124mf\u001b[39m\u001b[38;5;124m\"\u001b[39m\u001b[38;5;124mPIN (Private): \u001b[39m\u001b[38;5;132;01m{\u001b[39;00m\u001b[43macc1\u001b[49m\u001b[38;5;241;43m.\u001b[39;49m\u001b[43m__pin\u001b[49m\u001b[38;5;132;01m}\u001b[39;00m\u001b[38;5;124m\"\u001b[39m)\n",
      "\u001b[1;31mAttributeError\u001b[0m: 'Account' object has no attribute '__pin'"
     ]
    }
   ],
   "source": [
    "acc1 = Account(\"Rime\", 85000, 1256)\n",
    "\n",
    "# accessing public member\n",
    "print(f\"Name (Public): {acc1.name}\")\n",
    "\n",
    "# accessing protected member (Allowed but not recommended outside class)\n",
    "print(f\"Balance (Protected): {acc1._balance} \")\n",
    "\n",
    "# Trying to access private member directly(It will raise AttributeError)\n",
    "print(f\"PIN (Private): {acc1.__pin}\")\n",
    "\n",
    "\n"
   ]
  },
  {
   "cell_type": "code",
   "execution_count": 6,
   "id": "c0278ca4-70f6-4fce-9d3e-2b465d2d6ab1",
   "metadata": {},
   "outputs": [],
   "source": [
    "# Trying to access private member directly(It will raise AttributeError)\n",
    "# print(f\"PIN (Private): {acc1.__pin}\")"
   ]
  },
  {
   "cell_type": "code",
   "execution_count": 7,
   "id": "93ce124d-045e-40db-9625-0b18815e2ee9",
   "metadata": {},
   "outputs": [
    {
     "name": "stdout",
     "output_type": "stream",
     "text": [
      "Account Holder: Rime\n",
      "Balance: 85000\n",
      "PIN (accessed inside class): 1256\n"
     ]
    }
   ],
   "source": [
    "# Correct way to access private member is through a public method\n",
    "acc1.display_info()"
   ]
  },
  {
   "cell_type": "code",
   "execution_count": 8,
   "id": "108ab9f2-30f2-436f-89f9-9ca155bad786",
   "metadata": {},
   "outputs": [
    {
     "name": "stdout",
     "output_type": "stream",
     "text": [
      "PIN updated successfully.\n"
     ]
    }
   ],
   "source": [
    "# Updating private member\n",
    "acc1.change_pin(4563)"
   ]
  },
  {
   "cell_type": "code",
   "execution_count": 9,
   "id": "d5da36ea-8e3d-4a03-b5ea-f6c9be24a7e1",
   "metadata": {},
   "outputs": [
    {
     "name": "stdout",
     "output_type": "stream",
     "text": [
      "Account Holder: Rime\n",
      "Balance: 85000\n",
      "PIN (accessed inside class): 4563\n"
     ]
    }
   ],
   "source": [
    "# See Updated info\n",
    "acc1.display_info()"
   ]
  },
  {
   "cell_type": "markdown",
   "id": "b49b302b-b2f0-4ece-9a58-973e30063068",
   "metadata": {},
   "source": [
    "### 3. Create an abstract base class Appliance with abstract method turn_on(). Implement in Fan and Light classes."
   ]
  },
  {
   "cell_type": "code",
   "execution_count": 10,
   "id": "51a973a6-114d-4ad8-aa86-1a6f0a674a49",
   "metadata": {},
   "outputs": [],
   "source": [
    "from abc import ABC,abstractmethod # importing ABC(abstract base class) class and abstractmethod from abc module  "
   ]
  },
  {
   "cell_type": "code",
   "execution_count": 11,
   "id": "76f077aa-0fb4-465e-89a0-fd652beab859",
   "metadata": {},
   "outputs": [],
   "source": [
    "class Appliance(ABC):\n",
    "    @abstractmethod # making turn_on() method a abstractmethod\n",
    "    def turn_on(self):\n",
    "        pass\n",
    "\n",
    "class Fan(Appliance):\n",
    "    def turn_on(self):\n",
    "        print(\"Fan turned On...\")\n",
    "\n",
    "class Light(Appliance):\n",
    "    def turn_on(self):\n",
    "        print(\"Light turned On...\")"
   ]
  },
  {
   "cell_type": "code",
   "execution_count": 12,
   "id": "3b5feb20-a92c-4f01-8ac6-87a5cf4b70c7",
   "metadata": {},
   "outputs": [],
   "source": [
    "# we cann't create an object of base class(abstracted class)\n",
    "\n",
    "f = Fan()\n",
    "l = Light()"
   ]
  },
  {
   "cell_type": "code",
   "execution_count": 13,
   "id": "dddbd9b1-1b4b-4f81-a4cb-0428fc1fe068",
   "metadata": {},
   "outputs": [
    {
     "name": "stdout",
     "output_type": "stream",
     "text": [
      "Fan turned On...\n",
      "Light turned On...\n"
     ]
    }
   ],
   "source": [
    "f.turn_on()\n",
    "l.turn_on()"
   ]
  },
  {
   "cell_type": "markdown",
   "id": "c930cfb6-c3fa-4832-9bcc-34201258c4be",
   "metadata": {},
   "source": [
    "### 4. Make a class Bank with protected balance. Create a subclass SavingsAccount that can access and update balance.\n",
    "\n"
   ]
  },
  {
   "cell_type": "code",
   "execution_count": 14,
   "id": "ead9092c-ae73-43cc-a986-6784e0b281fe",
   "metadata": {},
   "outputs": [],
   "source": [
    "class Bank:\n",
    "    def __init__(self):\n",
    "        self._balance = 0\n",
    "\n",
    "class SavingAccount:\n",
    "    def __init__(self):\n",
    "        self.bank = Bank() # Composition not inheritance\n",
    "\n",
    "    def get_balance(self):\n",
    "        print(f\"Your account have ${self.bank._balance}\")\n",
    "\n",
    "    def set_balance(self,amount):\n",
    "        if amount > 0:\n",
    "            self.bank._balance = amount\n",
    "        print(f\"${amount} Amount has been added to your account.\")"
   ]
  },
  {
   "cell_type": "code",
   "execution_count": 15,
   "id": "5780e9cd-8f96-4fc7-9469-be125d90de34",
   "metadata": {},
   "outputs": [
    {
     "name": "stdout",
     "output_type": "stream",
     "text": [
      "Your account have $0\n"
     ]
    }
   ],
   "source": [
    "acc = SavingAccount()\n",
    "acc.get_balance()"
   ]
  },
  {
   "cell_type": "code",
   "execution_count": 16,
   "id": "1629cc4f-f5c1-4901-846b-5b4044092e87",
   "metadata": {},
   "outputs": [
    {
     "name": "stdout",
     "output_type": "stream",
     "text": [
      "$1500 Amount has been added to your account.\n"
     ]
    }
   ],
   "source": [
    "acc.set_balance(1500)"
   ]
  },
  {
   "cell_type": "code",
   "execution_count": 17,
   "id": "0871a9d3-1bfa-40e2-95de-2161c4c5411c",
   "metadata": {},
   "outputs": [
    {
     "name": "stdout",
     "output_type": "stream",
     "text": [
      "Your account have $1500\n"
     ]
    }
   ],
   "source": [
    "acc.get_balance()"
   ]
  },
  {
   "cell_type": "markdown",
   "id": "ed7ed158-5cff-4f72-a413-6ed211cc74d3",
   "metadata": {},
   "source": [
    "### 5. Create a complete program using abstraction and encapsulation: a User base class with login method and two subclasses Admin and Customer. Admin can view all users."
   ]
  },
  {
   "cell_type": "code",
   "execution_count": 49,
   "id": "f2e72704-ecc5-4210-8930-d25aad766441",
   "metadata": {},
   "outputs": [
    {
     "name": "stdout",
     "output_type": "stream",
     "text": [
      "Dan is Admin\n",
      "Anny is Customer\n",
      "Nanny is Customer\n"
     ]
    }
   ],
   "source": [
    "class User(ABC):\n",
    "    def __init__(self,username,password):\n",
    "        self.__username = username\n",
    "        self.__password = password\n",
    "        \n",
    "    @abstractmethod\n",
    "    def login(self,username,password):\n",
    "        pass\n",
    "\n",
    "    def get_username(self):\n",
    "        return self.__username\n",
    "\n",
    "    def set_username(self,name):\n",
    "        self.username = name\n",
    "        print(f\"{name} set as username..\")\n",
    "\n",
    "    def check_password(self):\n",
    "        return self.__password\n",
    "\n",
    "class Customer(User):\n",
    "    def login(self,username,password):\n",
    "        if self.get_username() == username and self.check_password() == password:\n",
    "             print(f\"✅ Customer '{username}' logged in successfully.\")\n",
    "        else:\n",
    "            print(\"❌ Login failed for Customer.\")\n",
    "\n",
    "\n",
    "    def view_profile(self):\n",
    "        print(f\"👤 Welcome, Customer '{self.get_username()}'\")\n",
    "\n",
    "user_dictionary = {} # initialize global dictionary\n",
    "\n",
    "class Admin(User):\n",
    "    def login(self,username,password):\n",
    "        # if self.get_username == username and self.check_password == password: \n",
    "        # it always compare the functional object and string \n",
    "\n",
    "        if self.get_username() == username and self.check_password() == password:\n",
    "            print(f\"Admin '{username}' logged in successfully..\")\n",
    "        else:\n",
    "            print(\"❌ Login failed for Admin.\")\n",
    "            \n",
    "    def view_all_users(self):\n",
    "        for username,user in user_dictionary.items():\n",
    "            print(f\"{username} is {'Admin' if isinstance(user,Admin) else 'Customer'}\")\n",
    "\n",
    "if __name__ == \"__main__\":\n",
    "    # create users\n",
    "    cust1 = Customer(\"Anny\", 1235)\n",
    "    cust2 = Customer(\"Nanny\", 4566)\n",
    "    admin1 = Admin(\"Dan\", 8955)\n",
    "\n",
    "    user_dictionary[admin1.get_username()] = admin1 # storing a reference — \n",
    "    # a pointer to the memory address where the admin1 object lives.\n",
    "    user_dictionary[cust1.get_username()] = cust1\n",
    "    user_dictionary[cust2.get_username()] = cust2\n",
    "\n",
    "    admin1.view_all_users()\n",
    "        \n"
   ]
  },
  {
   "cell_type": "code",
   "execution_count": 50,
   "id": "383896a7-7ddc-4265-b249-2e9da28c6784",
   "metadata": {},
   "outputs": [],
   "source": [
    "user = user_dictionary['Dan']"
   ]
  },
  {
   "cell_type": "code",
   "execution_count": 51,
   "id": "b0958482-0dfe-43ae-bd2d-6152e3d5c561",
   "metadata": {},
   "outputs": [
    {
     "name": "stdout",
     "output_type": "stream",
     "text": [
      "Admin 'Dan' logged in successfully..\n"
     ]
    }
   ],
   "source": [
    "user = user_dictionary[\"Dan\"]\n",
    "user.login(\"Dan\", 8955)  # This will work if user is an Admin object"
   ]
  },
  {
   "cell_type": "code",
   "execution_count": 53,
   "id": "e9af1c63-b1ae-4a40-ade3-50ddf6c965ba",
   "metadata": {},
   "outputs": [
    {
     "data": {
      "text/plain": [
       "<__main__.Admin at 0x17e08d77860>"
      ]
     },
     "execution_count": 53,
     "metadata": {},
     "output_type": "execute_result"
    }
   ],
   "source": [
    "user"
   ]
  },
  {
   "cell_type": "code",
   "execution_count": 54,
   "id": "b5f8d45d-7de5-4257-9d6d-d0e78c47e2e4",
   "metadata": {},
   "outputs": [
    {
     "data": {
      "text/plain": [
       "True"
      ]
     },
     "execution_count": 54,
     "metadata": {},
     "output_type": "execute_result"
    }
   ],
   "source": [
    "isinstance(user, Admin) "
   ]
  },
  {
   "cell_type": "code",
   "execution_count": 55,
   "id": "ab70b9c6-661a-4dda-a493-71b946a6fe83",
   "metadata": {},
   "outputs": [
    {
     "name": "stdout",
     "output_type": "stream",
     "text": [
      "👤 Welcome, Customer 'Anny'\n"
     ]
    }
   ],
   "source": [
    "cust1.view_profile()"
   ]
  },
  {
   "cell_type": "code",
   "execution_count": null,
   "id": "ca865c24-04dc-4152-98ac-08313228bebf",
   "metadata": {},
   "outputs": [],
   "source": []
  },
  {
   "cell_type": "code",
   "execution_count": null,
   "id": "8e19e52b-1053-40f8-9995-ac3fd7ac36ad",
   "metadata": {},
   "outputs": [],
   "source": []
  },
  {
   "cell_type": "code",
   "execution_count": null,
   "id": "9ad72045-9cd7-4c21-93b4-a4a5f8a0c317",
   "metadata": {},
   "outputs": [],
   "source": []
  },
  {
   "cell_type": "code",
   "execution_count": null,
   "id": "abe447f0-1c8c-4dda-badd-51f1873aa498",
   "metadata": {},
   "outputs": [],
   "source": []
  }
 ],
 "metadata": {
  "kernelspec": {
   "display_name": "Python 3 (ipykernel)",
   "language": "python",
   "name": "python3"
  },
  "language_info": {
   "codemirror_mode": {
    "name": "ipython",
    "version": 3
   },
   "file_extension": ".py",
   "mimetype": "text/x-python",
   "name": "python",
   "nbconvert_exporter": "python",
   "pygments_lexer": "ipython3",
   "version": "3.12.7"
  }
 },
 "nbformat": 4,
 "nbformat_minor": 5
}
