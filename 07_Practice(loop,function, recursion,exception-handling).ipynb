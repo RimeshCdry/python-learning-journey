{
 "cells": [
  {
   "cell_type": "markdown",
   "id": "662b8a2e-376a-43f9-9b52-87b3019aefc7",
   "metadata": {},
   "source": [
    "### Day 14: Practice Day"
   ]
  },
  {
   "cell_type": "markdown",
   "id": "6e27b8c5-a7ac-498f-8e37-23de8221c7da",
   "metadata": {},
   "source": [
    "### 1. Write a function that takes a list and returns a list of only positive numbers (use filter)."
   ]
  },
  {
   "cell_type": "code",
   "execution_count": 7,
   "id": "1661616b-f7a6-4685-b079-07b3ee6e2654",
   "metadata": {},
   "outputs": [
    {
     "name": "stdout",
     "output_type": "stream",
     "text": [
      "List of positive number : [1, 2, 4, 5, 8, 9, 10]\n"
     ]
    }
   ],
   "source": [
    "lst= [1,2,-3,4,5,-6,-7,8,9,10]\n",
    "return_positive = filter(lambda num: num > 0, lst)\n",
    "print(f\"List of positive number : {list(return_positive)}\")"
   ]
  },
  {
   "cell_type": "markdown",
   "id": "74188064-f834-4ef2-a96d-04ddfbac4e76",
   "metadata": {},
   "source": [
    "### 2. Using recursion, write a program to calculate sum of a list."
   ]
  },
  {
   "cell_type": "code",
   "execution_count": 11,
   "id": "3468c0b9-ed6a-4b5f-a89e-1e34101b48c1",
   "metadata": {},
   "outputs": [
    {
     "data": {
      "text/plain": [
       "15"
      ]
     },
     "execution_count": 11,
     "metadata": {},
     "output_type": "execute_result"
    }
   ],
   "source": [
    "def recursive_sum(lst):\n",
    "    if len(lst) == 0:\n",
    "        return 0\n",
    "    return lst[0] + recursive_sum(lst[1:])\n",
    "lst = [1,2,3,4,5]\n",
    "recursive_sum(lst)"
   ]
  },
  {
   "cell_type": "code",
   "execution_count": 12,
   "id": "4b5473a5-89c4-49ae-9640-9bdaea6aea02",
   "metadata": {},
   "outputs": [
    {
     "name": "stdout",
     "output_type": "stream",
     "text": [
      "15\n"
     ]
    }
   ],
   "source": [
    "def recursive_sum(lst, index=0):\n",
    "    if index == len(lst):\n",
    "        return 0\n",
    "    return lst[index] + recursive_sum(lst, index + 1)\n",
    "\n",
    "lst = [1, 2, 3, 4, 5]\n",
    "print(recursive_sum(lst))  # Output: 15"
   ]
  },
  {
   "cell_type": "markdown",
   "id": "2a0f4a0f-023b-42d6-a145-22966b0d8347",
   "metadata": {},
   "source": [
    "### 3. Write a loop to count vowels in a string. "
   ]
  },
  {
   "cell_type": "code",
   "execution_count": 13,
   "id": "3904ff0f-461b-40cb-bb69-547c01ddf202",
   "metadata": {},
   "outputs": [
    {
     "name": "stdout",
     "output_type": "stream",
     "text": [
      "Hello World This is a test Python\n"
     ]
    }
   ],
   "source": [
    "import string\n",
    "text = \"Hello, World! This is a test... #Python\"\n",
    "clean_text = text.translate(str.maketrans('', '', string.punctuation))"
   ]
  },
  {
   "cell_type": "code",
   "execution_count": 14,
   "id": "821e3107-c102-44aa-88da-d98160ef21c5",
   "metadata": {},
   "outputs": [],
   "source": [
    "def is_vowel(string):\n",
    "    count = 0\n",
    "    for char in string:\n",
    "        if char.lower() in \"aeiou\":\n",
    "            count+=1\n",
    "    return count"
   ]
  },
  {
   "cell_type": "code",
   "execution_count": 15,
   "id": "85d9dd76-1814-4d65-a632-d1a82104246d",
   "metadata": {},
   "outputs": [
    {
     "name": "stdout",
     "output_type": "stream",
     "text": [
      "Number of vowels in the string is 8\n"
     ]
    }
   ],
   "source": [
    "print(f\"Number of vowels in the string is {is_vowel(clean_text)}\")"
   ]
  },
  {
   "cell_type": "markdown",
   "id": "3bc6a8b7-85ad-40e7-b1ba-c8d53d6dfc4b",
   "metadata": {},
   "source": [
    "### 4. Handle exceptions in a program that converts user input to an integer and divides 100 by it."
   ]
  },
  {
   "cell_type": "code",
   "execution_count": 19,
   "id": "9a0729f2-b7ca-4d58-99ff-3ac0081ee229",
   "metadata": {},
   "outputs": [
    {
     "name": "stdin",
     "output_type": "stream",
     "text": [
      "Enter an integer:  47.22\n"
     ]
    },
    {
     "name": "stdout",
     "output_type": "stream",
     "text": [
      "ValueError: invalid literal for int() with base 10: '47.22'\n"
     ]
    }
   ],
   "source": [
    "try: \n",
    "    user_input = int(input(\"Enter an integer: \"))\n",
    "    result = user_input/100\n",
    "    print(f\"{user_input}/100 = {result}\")\n",
    "except TypeError as e:\n",
    "    print(f\"TypeError: {e}\")\n",
    "except ValueError as e:\n",
    "    print(f\"ValueError: {e}\")"
   ]
  },
  {
   "cell_type": "code",
   "execution_count": null,
   "id": "8fc1df75-1771-4636-8991-618b1f5da98e",
   "metadata": {},
   "outputs": [],
   "source": []
  }
 ],
 "metadata": {
  "kernelspec": {
   "display_name": "Python 3 (ipykernel)",
   "language": "python",
   "name": "python3"
  },
  "language_info": {
   "codemirror_mode": {
    "name": "ipython",
    "version": 3
   },
   "file_extension": ".py",
   "mimetype": "text/x-python",
   "name": "python",
   "nbconvert_exporter": "python",
   "pygments_lexer": "ipython3",
   "version": "3.12.7"
  }
 },
 "nbformat": 4,
 "nbformat_minor": 5
}
