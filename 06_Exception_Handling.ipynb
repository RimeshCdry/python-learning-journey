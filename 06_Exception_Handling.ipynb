{
 "cells": [
  {
   "cell_type": "markdown",
   "id": "727c849c-3b8f-4eba-8e53-566371a11ea3",
   "metadata": {},
   "source": [
    "### Day 13: Exception Handling"
   ]
  },
  {
   "cell_type": "markdown",
   "id": "f13f944b-e085-4938-bd36-2ec950875673",
   "metadata": {},
   "source": [
    "### 1. Write a program to divide two numbers. Handle ZeroDivisionError.  "
   ]
  },
  {
   "cell_type": "code",
   "execution_count": 13,
   "id": "a64c41e9-41ba-4880-b204-d4411b25b212",
   "metadata": {},
   "outputs": [
    {
     "name": "stdout",
     "output_type": "stream",
     "text": [
      "Error!: division by zero \n",
      "Program Executed Successfully!\n"
     ]
    }
   ],
   "source": [
    "try:\n",
    "    a = 10\n",
    "    b = 0\n",
    "    result = a / b\n",
    "except ZeroDivisionError as e:\n",
    "    print(f\"Error!: {e} \")\n",
    "except ValueError as e:\n",
    "    print(f\"Error!: {e}\")\n",
    "except Exception as e:\n",
    "    print(f\"Unexpected error: {e}\")\n",
    "else:\n",
    "    print(result)\n",
    "finally:\n",
    "    print(\"Program Executed Successfully!\")\n",
    "    "
   ]
  },
  {
   "cell_type": "markdown",
   "id": "2d1d33e6-8718-4148-8bf9-cc03a37f3c93",
   "metadata": {},
   "source": [
    "### 2. Use try-except-finally block to open and read a file."
   ]
  },
  {
   "cell_type": "code",
   "execution_count": 16,
   "id": "5b5a5f98-e023-435e-833f-73d13a044e23",
   "metadata": {},
   "outputs": [
    {
     "name": "stdout",
     "output_type": "stream",
     "text": [
      "Hello, i am learning python programming.\n",
      "File loaded succesfully.\n"
     ]
    }
   ],
   "source": [
    "try:\n",
    "    with open(\"text.txt\",'r') as f:\n",
    "        content = f.read()\n",
    "except FileNotFoundError as e:\n",
    "    print(f\"Error! {e}\")\n",
    "else:\n",
    "    print(content)\n",
    "finally:\n",
    "    print(\"File loaded succesfully.\")\n"
   ]
  },
  {
   "cell_type": "code",
   "execution_count": 19,
   "id": "7afd8812-0c80-4acf-b47a-7af69bd8da09",
   "metadata": {},
   "outputs": [
    {
     "name": "stdout",
     "output_type": "stream",
     "text": [
      "File content:\n",
      "Hello, i am learning python programming.\n",
      "\n",
      "File operation completed.\n"
     ]
    }
   ],
   "source": [
    "try:\n",
    "    with open(\"text.txt\", \"r\") as f:\n",
    "        content = f.read()\n",
    "except FileNotFoundError as e:\n",
    "    print(f\"File not found: {e}\")\n",
    "except Exception as e:\n",
    "    print(f\"An unexpected error occurred: {e}\")\n",
    "else:\n",
    "    print(f\"File content:\\n{content}\")\n",
    "finally:\n",
    "    print(\"\\nFile operation completed.\")"
   ]
  },
  {
   "cell_type": "markdown",
   "id": "24f1bb34-63ea-4a75-a2b4-3406c729c930",
   "metadata": {},
   "source": [
    "### 3. Create a custom exception NegativeValueError and raise it if input is negative."
   ]
  },
  {
   "cell_type": "code",
   "execution_count": 26,
   "id": "dae66a98-9448-40ab-b75d-a2e6563a9422",
   "metadata": {},
   "outputs": [
    {
     "name": "stdin",
     "output_type": "stream",
     "text": [
      "Enter a positive number:  -5\n"
     ]
    },
    {
     "name": "stdout",
     "output_type": "stream",
     "text": [
      "Custom Error: Negative value is not allowed!\n"
     ]
    }
   ],
   "source": [
    "class NegativeValueError(Exception):\n",
    "    \"\"\"Custom exception for negative values.\"\"\"\n",
    "    pass\n",
    "\n",
    "try:\n",
    "    num = int(input(\"Enter a positive number: \"))\n",
    "    if num < 0:\n",
    "        raise NegativeValueError(\"Negative value is not allowed!\")\n",
    "    print(f\"You entered: {num}\")\n",
    "except NegativeValueError as e:\n",
    "    print(f\"Custom Error: {e}\")\n",
    "except ValueError:\n",
    "    print(\"Please enter a valid number.\")\n"
   ]
  },
  {
   "cell_type": "markdown",
   "id": "bdf840e5-2f6c-436a-8b88-695d20c72fca",
   "metadata": {},
   "source": [
    "### 4. Handle multiple exceptions: divide by zero, type error. "
   ]
  },
  {
   "cell_type": "code",
   "execution_count": 33,
   "id": "112badaf-bec2-4633-b684-5ee3a5c0ddee",
   "metadata": {},
   "outputs": [
    {
     "name": "stdout",
     "output_type": "stream",
     "text": [
      "❌ Incompatible data types: make sure both are numbers.\n",
      "✅ Operation complete.\n"
     ]
    }
   ],
   "source": [
    "try:\n",
    "    a = 10\n",
    "    b = \"2\"   # This will cause TypeError if not converted\n",
    "    result = a / b\n",
    "except ZeroDivisionError:\n",
    "    print(\"❌ Cannot divide by zero.\")\n",
    "except TypeError:\n",
    "    print(\"❌ Incompatible data types: make sure both are numbers.\")\n",
    "else:\n",
    "    print(f\"✅ Result is: {result}\")\n",
    "finally:\n",
    "    print(\"✅ Operation complete.\")"
   ]
  },
  {
   "cell_type": "markdown",
   "id": "6b67717a-bf5b-4791-a93a-b96a3646ffe2",
   "metadata": {},
   "source": [
    "### 5. Use try-except to validate integer input from user. "
   ]
  },
  {
   "cell_type": "code",
   "execution_count": 43,
   "id": "8e70a920-8b53-423a-993b-92313c4ea486",
   "metadata": {},
   "outputs": [
    {
     "name": "stdin",
     "output_type": "stream",
     "text": [
      "Enter a nmber:  abc\n"
     ]
    },
    {
     "name": "stdout",
     "output_type": "stream",
     "text": [
      "❌ That's not a valid integer. Please try again.\n"
     ]
    },
    {
     "name": "stdin",
     "output_type": "stream",
     "text": [
      "Enter a nmber:  ;l;\n"
     ]
    },
    {
     "name": "stdout",
     "output_type": "stream",
     "text": [
      "❌ That's not a valid integer. Please try again.\n"
     ]
    },
    {
     "name": "stdin",
     "output_type": "stream",
     "text": [
      "Enter a nmber:  5\n"
     ]
    },
    {
     "name": "stdout",
     "output_type": "stream",
     "text": [
      "✅ You entered the integer: 5\n"
     ]
    }
   ],
   "source": [
    "while True:\n",
    "    try:\n",
    "        user_input = input(\"Enter a nmber: \")\n",
    "        number = int(user_input)\n",
    "    except ValueError :\n",
    "         print(\"❌ That's not a valid integer. Please try again.\")\n",
    "        \n",
    "    else:\n",
    "         print(f\"✅ You entered the integer: {user_input}\")\n",
    "         break  # Exit the loop if input is valid    "
   ]
  },
  {
   "cell_type": "code",
   "execution_count": null,
   "id": "4b4e3933-a995-4d93-967c-ec3d7f73d922",
   "metadata": {},
   "outputs": [],
   "source": []
  }
 ],
 "metadata": {
  "kernelspec": {
   "display_name": "Python 3 (ipykernel)",
   "language": "python",
   "name": "python3"
  },
  "language_info": {
   "codemirror_mode": {
    "name": "ipython",
    "version": 3
   },
   "file_extension": ".py",
   "mimetype": "text/x-python",
   "name": "python",
   "nbconvert_exporter": "python",
   "pygments_lexer": "ipython3",
   "version": "3.12.7"
  }
 },
 "nbformat": 4,
 "nbformat_minor": 5
}
