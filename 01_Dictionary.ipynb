{
 "cells": [
  {
   "cell_type": "markdown",
   "id": "632f1836-91bd-42ac-b3f6-3c30e3c97c84",
   "metadata": {},
   "source": [
    "### 🔷 1. Student Marks Dictionary\n",
    "- You are given the following dictionary:\n",
    "      - students = {\n",
    "    \"Aayush\": [80, 75, 90],\n",
    "    \"Bina\": [85, 88, 92],\n",
    "    \"Chetan\": [70, 68, 75]\n",
    "}\n",
    "\n",
    "- Write a program to:\n",
    "    - Calculate the average marks for each student\n",
    "\n",
    "    - Store the result in a new dictionary"
   ]
  },
  {
   "cell_type": "code",
   "execution_count": 5,
   "id": "e92b253c-7bfc-49d1-a4ea-4ecaa3729165",
   "metadata": {},
   "outputs": [
    {
     "name": "stdout",
     "output_type": "stream",
     "text": [
      "Marks of students:\n",
      "{'Aayush': 245, 'Bina': 265, 'Chetan': 213}\n"
     ]
    }
   ],
   "source": [
    "students = {\n",
    "    \"Aayush\": [80, 75, 90],\n",
    "    \"Bina\": [85, 88, 92],\n",
    "    \"Chetan\": [70, 68, 75]\n",
    "}\n",
    "\n",
    "students_marks = {}\n",
    "for name, marks in students.items():\n",
    "    students_marks[name] = sum(marks)\n",
    "print(f\"Marks of students:\\n{students_marks}\")"
   ]
  },
  {
   "cell_type": "code",
   "execution_count": 6,
   "id": "71c26380-c2b1-43a2-ad54-b53659d02151",
   "metadata": {},
   "outputs": [
    {
     "name": "stdout",
     "output_type": "stream",
     "text": [
      "The average marks of each students in dictionary\n",
      "{'Aayush': 81.67, 'Bina': 88.33, 'Chetan': 71.0}\n"
     ]
    }
   ],
   "source": [
    "average_marks = {}\n",
    "for name, marks in students.items():\n",
    "    average = sum(marks)/ len(marks)\n",
    "    average_marks[name] = round(average,2)\n",
    "\n",
    "print(f\"The average marks of each students in dictionary\\n{average_marks}\")"
   ]
  },
  {
   "cell_type": "markdown",
   "id": "9d24cd98-1d58-4440-865d-5123de49897c",
   "metadata": {},
   "source": [
    "### 🔷 2. List of Dictionaries\n",
    "- Given:\n",
    "  - employees = [\n",
    "    {\"name\": \"Ram\", \"salary\": 25000},\n",
    "    {\"name\": \"Shyam\", \"salary\": 30000},\n",
    "    {\"name\": \"Hari\", \"salary\": 28000}\n",
    "]\n",
    "- Write a program to:\n",
    "  - Find the employee with the highest salary\n",
    "\n",
    "  - Print their name and salary"
   ]
  },
  {
   "cell_type": "code",
   "execution_count": 12,
   "id": "e24e0031-113b-4a81-a3cf-063a3591a647",
   "metadata": {},
   "outputs": [
    {
     "name": "stdout",
     "output_type": "stream",
     "text": [
      "Employee with highest salary: \n",
      "Name: Shyam\n",
      "Salary: 30000\n"
     ]
    }
   ],
   "source": [
    "employees = [\n",
    "    {\"name\": \"Ram\", \"salary\": 25000},\n",
    "    {\"name\": \"Shyam\", \"salary\": 30000},\n",
    "    {\"name\": \"Hari\", \"salary\": 28000}\n",
    "]\n",
    "\n",
    "highest_salary = 0\n",
    "highest_paid_employee = \"\"\n",
    "\n",
    "for emp in employees:\n",
    "    if emp[\"salary\"] > highest_salary:\n",
    "        highest_salary = emp[\"salary\"]\n",
    "        highest_paid_employee = emp[\"name\"]\n",
    "\n",
    "print(\"Employee with highest salary: \")\n",
    "print(f\"Name: {highest_paid_employee}\")\n",
    "print(f\"Salary: {highest_salary}\")"
   ]
  },
  {
   "cell_type": "markdown",
   "id": "52c91d2d-be11-49cc-8105-3ef247265b95",
   "metadata": {},
   "source": [
    "### 🔷 3. Dictionary Comprehension\n",
    "- Given a list:\n",
    "  - nums = [1, 2, 3, 4, 5]\n",
    "- Create a dictionary where keys are the numbers and values are their squares:\n",
    "  - {1: 1, 2: 4, 3: 9, 4: 16, 5: 25}"
   ]
  },
  {
   "cell_type": "code",
   "execution_count": 14,
   "id": "c89e9ce9-f16c-48c7-a677-18098fecbbd4",
   "metadata": {},
   "outputs": [
    {
     "name": "stdout",
     "output_type": "stream",
     "text": [
      "Dicionary of Square: {1: 1, 2: 4, 3: 9, 4: 16, 5: 25}\n"
     ]
    }
   ],
   "source": [
    "nums = [1,2,3,4,5]\n",
    "squares = {}\n",
    "for n in nums:\n",
    "    squares[n] = n ** 2\n",
    "print(f\"Dicionary of Square: {squares}\")"
   ]
  },
  {
   "cell_type": "markdown",
   "id": "46f48c91-3b9a-44e4-a82e-5c38fca15386",
   "metadata": {},
   "source": [
    "### 🔷 4. Invert a Dictionary\n",
    "- Given:\n",
    "  - colors = {\n",
    "    \"r\": \"red\",\n",
    "    \"g\": \"green\",\n",
    "    \"b\": \"blue\"\n",
    "}\n",
    "- Write a program to invert the dictionary so that the values become keys and keys become values:\n",
    "  - {\"red\": \"r\", \"green\": \"g\", \"blue\": \"b\"}\n"
   ]
  },
  {
   "cell_type": "code",
   "execution_count": 17,
   "id": "66babfb7-8599-433e-8793-4d28f4eee173",
   "metadata": {},
   "outputs": [
    {
     "data": {
      "text/plain": [
       "{'red': 'r', 'green': 'g', 'blue': 'b'}"
      ]
     },
     "execution_count": 17,
     "metadata": {},
     "output_type": "execute_result"
    }
   ],
   "source": [
    "colors = {\n",
    "    \"r\": \"red\",\n",
    "    \"g\": \"green\",\n",
    "    \"b\": \"blue\"\n",
    "}\n",
    "inverted_dict = {}\n",
    "for key,value in colors.items():\n",
    "    inverted_dict[value] = key\n",
    "\n",
    "inverted_dict"
   ]
  },
  {
   "cell_type": "markdown",
   "id": "b1da62f7-2885-4ef8-8e92-13e5643449b7",
   "metadata": {},
   "source": [
    "### 🔷 5. Word Frequency Counter\n",
    "- Write a program to count the frequency of each word in a sentence:\n",
    "  - sentence = \"python is easy and python is powerful\"\n",
    "-  Output:\n",
    "   - {'python': 2, 'is': 2, 'easy': 1, 'and': 1, 'powerful': 1}\n"
   ]
  },
  {
   "cell_type": "code",
   "execution_count": 21,
   "id": "1893de3a-e5cc-4a71-a371-87dd5e4e2460",
   "metadata": {},
   "outputs": [
    {
     "data": {
      "text/plain": [
       "{'python': 2, 'is': 2, 'easy': 1, 'and': 1, 'powerful': 1}"
      ]
     },
     "execution_count": 21,
     "metadata": {},
     "output_type": "execute_result"
    }
   ],
   "source": [
    "sentence = \"python is easy and python is powerful\"\n",
    "word_list = sentence.lower().split()\n",
    "\n",
    "frequency_couter ={}\n",
    "for word in word_list:\n",
    "    if word in frequency_couter:\n",
    "        frequency_couter[word] += 1\n",
    "    else:\n",
    "        frequency_couter[word] = 1\n",
    "\n",
    "frequency_couter\n"
   ]
  },
  {
   "cell_type": "markdown",
   "id": "d6f050da-fc89-4d12-a12e-a513b4f2c7fa",
   "metadata": {},
   "source": [
    "### 🔷 6. Merge Dictionaries with Common Keys\n",
    "- Given\n",
    "    - dict1 = {\"a\": 100, \"b\": 200, \"c\": 300}\n",
    "    - dict2 = {\"b\": 50, \"c\": 150, \"d\": 400}\n",
    "- Merge both dictionaries by adding the values of common keys:\n",
    "- Output:\n",
    "    - {'a': 100, 'b': 250, 'c': 450, 'd': 400}"
   ]
  },
  {
   "cell_type": "code",
   "execution_count": 25,
   "id": "0a051e15-2bc5-4a40-8810-26cfba5a5a9d",
   "metadata": {},
   "outputs": [
    {
     "name": "stdout",
     "output_type": "stream",
     "text": [
      "Merged Dictionary: \n",
      "{'a': 100, 'b': 250, 'c': 450, 'd': 400}\n"
     ]
    }
   ],
   "source": [
    "dict1 = {\"a\": 100, \"b\": 200, \"c\": 300}\n",
    "dict2 = {\"b\": 50, \"c\": 150, \"d\": 400}\n",
    "merged_dict = dict1.copy()\n",
    "\n",
    "for key, value in dict2.items():\n",
    "    if key in merged_dict:\n",
    "        merged_dict[key]+= value\n",
    "    else:\n",
    "        merged_dict[key] = value\n",
    "print(f\"Merged Dictionary: \\n{merged_dict}\")"
   ]
  },
  {
   "cell_type": "markdown",
   "id": "e6616c3f-0fb3-4f0a-88cc-c2242dae0a81",
   "metadata": {},
   "source": [
    "### 🔷 7. Group Items by First Letter\n",
    "- Given a list of names:\n",
    "\n",
    "    - names = [\"Ram\", \"Rita\", \"Sita\", \"Sam\", \"Rohan\"]\n",
    "- Group them by their starting letter in a dictionary:\n",
    "\n",
    "- Output:\n",
    "    - {'R': ['Ram', 'Rita', 'Rohan'], 'S': ['Sita', 'Sam']}"
   ]
  },
  {
   "cell_type": "code",
   "execution_count": 26,
   "id": "e32aa997-56e2-464c-b984-cdc869feefe1",
   "metadata": {},
   "outputs": [
    {
     "name": "stdout",
     "output_type": "stream",
     "text": [
      "{'R': ['Ram', 'Rita', 'Rohan'], 'S': ['Sita', 'Sam']}\n"
     ]
    }
   ],
   "source": [
    "names = [\"Ram\", \"Rita\", \"Sita\", \"Sam\", \"Rohan\"]\n",
    "grouped_dict = {}\n",
    "\n",
    "for name in names:\n",
    "    first_letter = name[0]\n",
    "    if first_letter in grouped_dict:\n",
    "        grouped_dict[first_letter].append(name)\n",
    "    else:\n",
    "        grouped_dict[first_letter] = [name]\n",
    "\n",
    "print(grouped_dict)"
   ]
  },
  {
   "cell_type": "markdown",
   "id": "80df267a-7855-4ed4-bd32-b12c973d0c12",
   "metadata": {},
   "source": [
    "### 🔷 8. Nested Dictionary Manipulation\n",
    "- Given\n",
    "    - users = {\n",
    "    \"user1\": {\"name\": \"Kiran\", \"age\": 25},\n",
    "    \"user2\": {\"name\": \"Suman\", \"age\": 30}\n",
    "}\n",
    "- write code to:\n",
    "    - Add a new user \"user3\" with name \"Rina\" and age 22\n",
    "    - Update \"user1\"'s age to 26"
   ]
  },
  {
   "cell_type": "code",
   "execution_count": 33,
   "id": "c4fafda4-95ad-4c4f-8821-ff768058628c",
   "metadata": {},
   "outputs": [],
   "source": [
    "users = {\n",
    "    \"user1\": {\"name\": \"Kiran\", \"age\": 25},\n",
    "    \"user2\": {\"name\": \"Suman\", \"age\": 30}\n",
    "}\n",
    "users[\"user3\"] = {\"name\": \"Rina\",\"age\":22}\n",
    "users[\"user1\"][\"age\"] = 26"
   ]
  },
  {
   "cell_type": "code",
   "execution_count": 34,
   "id": "fde5b78d-2bce-4dc6-9094-77adf1e70a25",
   "metadata": {},
   "outputs": [
    {
     "data": {
      "text/plain": [
       "{'user1': {'name': 'Kiran', 'age': 26},\n",
       " 'user2': {'name': 'Suman', 'age': 30},\n",
       " 'user3': {'name': 'Rina', 'age': 22}}"
      ]
     },
     "execution_count": 34,
     "metadata": {},
     "output_type": "execute_result"
    }
   ],
   "source": [
    "users"
   ]
  },
  {
   "cell_type": "markdown",
   "id": "f72a42f9-86f9-4230-a16e-9ab2f4fd42d9",
   "metadata": {},
   "source": [
    "### 🔷 9. Count Vowels in a String using Dictionary\n",
    "- Write a program that counts the frequency of each vowel in a given string:\n",
    "\n",
    "    - text = \"Dictionary is a powerful tool in python\"\n",
    "- Output:\n",
    "    - {'i': 4, 'o': 5, 'a': 2, 'e': 1, 'u': 1}"
   ]
  },
  {
   "cell_type": "code",
   "execution_count": 37,
   "id": "c4c26201-a15f-4f90-b8b5-656aa21e5e76",
   "metadata": {},
   "outputs": [
    {
     "name": "stdout",
     "output_type": "stream",
     "text": [
      "{'i': 4, 'o': 5, 'a': 2, 'e': 1, 'u': 1}\n"
     ]
    }
   ],
   "source": [
    "text = \"Dictionary is a powerful tool in python\"\n",
    "vowel_count = {}\n",
    "for char in text:\n",
    "    vowel_lst = ['a','e', 'i', 'o', 'u']\n",
    "    if char in vowel_lst:\n",
    "        if char in vowel_count:\n",
    "            vowel_count[char] += 1\n",
    "        else:\n",
    "            vowel_count[char] = 1\n",
    "\n",
    "print(vowel_count)\n"
   ]
  },
  {
   "cell_type": "markdown",
   "id": "527adc05-a7ec-4300-b2d4-6e48c5bcd1f5",
   "metadata": {},
   "source": [
    "### 10. Top 3 Most Frequent Words\n",
    "- Given a paragraph, find the top 3 most frequent words using a dictionary."
   ]
  },
  {
   "cell_type": "code",
   "execution_count": 45,
   "id": "40bde927-4f0e-44ba-a477-ec91e9176c78",
   "metadata": {},
   "outputs": [
    {
     "name": "stdin",
     "output_type": "stream",
     "text": [
      "Enter a paragraph:  Python is a powerful programming language. Python is used in data science, web development, automation, and many other fields. Learning Python can help you solve real-world problems effectively.\n"
     ]
    },
    {
     "name": "stdout",
     "output_type": "stream",
     "text": [
      "{'python': 3, 'is': 2, 'a': 1, 'powerful': 1, 'programming': 1, 'language.': 1, 'used': 1, 'in': 1, 'data': 1, 'science,': 1, 'web': 1, 'development,': 1, 'automation,': 1, 'and': 1, 'many': 1, 'other': 1, 'fields.': 1, 'learning': 1, 'can': 1, 'help': 1, 'you': 1, 'solve': 1, 'real-world': 1, 'problems': 1, 'effectively.': 1}\n",
      "\n",
      "\n",
      "{'you': 1, 'web': 1, 'used': 1, 'solve': 1, 'science,': 1, 'real-world': 1, 'python': 3, 'programming': 1, 'problems': 1, 'powerful': 1, 'other': 1, 'many': 1, 'learning': 1, 'language.': 1, 'is': 2, 'in': 1, 'help': 1, 'fields.': 1, 'effectively.': 1, 'development,': 1, 'data': 1, 'can': 1, 'automation,': 1, 'and': 1, 'a': 1}\n"
     ]
    }
   ],
   "source": [
    "paragraph = input(\"Enter a paragraph: \")\n",
    "paragraph_lst = paragraph.lower().split()\n",
    "\n",
    "word_frequency = {}\n",
    "\n",
    "for word in paragraph_lst:\n",
    "    if word in word_frequency:\n",
    "        word_frequency[word] += 1\n",
    "    else:\n",
    "        word_frequency[word] = 1\n",
    "\n",
    "sorted_dict = dict(sorted(word_frequency.items(),key=lambda item:item[0], reverse=True))\n",
    "\n",
    "print(word_frequency)\n",
    "print(\"\\n\")\n",
    "print(sorted_dict)"
   ]
  },
  {
   "cell_type": "code",
   "execution_count": null,
   "id": "fb96039f-e533-4831-bab9-3bae8b6c3db8",
   "metadata": {},
   "outputs": [],
   "source": []
  }
 ],
 "metadata": {
  "kernelspec": {
   "display_name": "Python 3 (ipykernel)",
   "language": "python",
   "name": "python3"
  },
  "language_info": {
   "codemirror_mode": {
    "name": "ipython",
    "version": 3
   },
   "file_extension": ".py",
   "mimetype": "text/x-python",
   "name": "python",
   "nbconvert_exporter": "python",
   "pygments_lexer": "ipython3",
   "version": "3.12.7"
  }
 },
 "nbformat": 4,
 "nbformat_minor": 5
}
