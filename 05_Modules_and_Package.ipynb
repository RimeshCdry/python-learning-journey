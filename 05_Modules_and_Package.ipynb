{
 "cells": [
  {
   "cell_type": "markdown",
   "id": "e66d5355-eb8a-4016-8ef4-893f12f4060d",
   "metadata": {},
   "source": [
    "### Day 12: Modules and Packages"
   ]
  },
  {
   "cell_type": "markdown",
   "id": "a4238a5b-abf9-4b7e-9713-812c6a773175",
   "metadata": {},
   "source": [
    "### 1. Use math module to calculate square root, factorial, and sine. "
   ]
  },
  {
   "cell_type": "code",
   "execution_count": 12,
   "id": "6a3f57c4-9be3-4ce2-979e-3793a22f7bfb",
   "metadata": {},
   "outputs": [
    {
     "name": "stdout",
     "output_type": "stream",
     "text": [
      "The square root of 81 is 9.0\n",
      "Factorial of 5 is 120\n",
      "Sine of angle 30° is 0.49999999999999994\n"
     ]
    }
   ],
   "source": [
    "import math\n",
    "\n",
    "num = 81\n",
    "print(f\"The square root of {num} is {math.sqrt(81)}\")\n",
    "\n",
    "fact_num = 5\n",
    "print(f\"Factorial of {fact_num} is {math.factorial(5)}\")\n",
    "\n",
    "degree = 30\n",
    "degree_to_radiant = math.radians(degree)\n",
    "print(f\"Sine of angle {degree}° is {math.sin(degree_to_radiant)}\")"
   ]
  },
  {
   "cell_type": "markdown",
   "id": "479831e5-51e0-4665-a77a-7db385ae67e6",
   "metadata": {},
   "source": [
    "### 2. Use random module to roll a dice (1-6). "
   ]
  },
  {
   "cell_type": "code",
   "execution_count": 28,
   "id": "1516d1dd-5aac-4f7a-8832-2560b3eaeeab",
   "metadata": {},
   "outputs": [
    {
     "name": "stdout",
     "output_type": "stream",
     "text": [
      "You rolled: 4\n"
     ]
    }
   ],
   "source": [
    "import random\n",
    "\n",
    "# Simulate a dice roll\n",
    "dice_roll = random.randint(1, 6)\n",
    "\n",
    "print(\"You rolled:\", dice_roll)\n"
   ]
  },
  {
   "cell_type": "code",
   "execution_count": 32,
   "id": "2c4c7900-3136-4a5c-b8b4-3a5cc21517a2",
   "metadata": {},
   "outputs": [],
   "source": [
    "### 3. Create your own module with a function greet_user(name) and import it in another file. \n"
   ]
  },
  {
   "cell_type": "code",
   "execution_count": null,
   "id": "a5f97104-8348-4157-a75e-378b0e6e3629",
   "metadata": {},
   "outputs": [],
   "source": []
  }
 ],
 "metadata": {
  "kernelspec": {
   "display_name": "Python 3 (ipykernel)",
   "language": "python",
   "name": "python3"
  },
  "language_info": {
   "codemirror_mode": {
    "name": "ipython",
    "version": 3
   },
   "file_extension": ".py",
   "mimetype": "text/x-python",
   "name": "python",
   "nbconvert_exporter": "python",
   "pygments_lexer": "ipython3",
   "version": "3.12.7"
  }
 },
 "nbformat": 4,
 "nbformat_minor": 5
}
