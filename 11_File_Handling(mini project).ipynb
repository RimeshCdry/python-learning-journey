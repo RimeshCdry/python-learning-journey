{
 "cells": [
  {
   "cell_type": "markdown",
   "id": "8b44a39c-400e-4a17-a85f-823e13702da4",
   "metadata": {},
   "source": [
    "### Build a simple search feature that finds all lines containing a specific word from a large text file.\n",
    "\n"
   ]
  },
  {
   "cell_type": "code",
   "execution_count": 49,
   "id": "787b909b-471f-4f78-a2c7-1290e5d321e1",
   "metadata": {},
   "outputs": [],
   "source": [
    "def find_line_containing_word(filename,word):\n",
    "    num_of_lines_list = [] # creating a empty list so line can be store\n",
    "    try:\n",
    "        with open(filename,'r') as file:\n",
    "            content = file.readlines() # a list of content(line wise)\n",
    "\n",
    "        for line,con in enumerate(content,start=1): # used enumerate function so i can track line in file where the  given 'word' exists\n",
    "            if word.lower() in con.lower(): # converting to lowercase for convienent\n",
    "                num_of_lines_list.append(line) \n",
    "    except FileNotFoundError:\n",
    "        print(f\"Error: {filename} does not exist. Please enter valid file name\")\n",
    "    except Exception as e:\n",
    "        print(f\"Error: {e}\")\n",
    "\n",
    "    return num_of_lines_list"
   ]
  },
  {
   "cell_type": "code",
   "execution_count": 50,
   "id": "a257a68d-4f9e-40ee-9c22-4acbc072f56f",
   "metadata": {},
   "outputs": [],
   "source": [
    "lines = find_line_containing_word('sample.txt', 'Rimesh')"
   ]
  },
  {
   "cell_type": "code",
   "execution_count": 51,
   "id": "110a57c0-aba6-45b8-bcdf-a3950e3e8902",
   "metadata": {},
   "outputs": [
    {
     "data": {
      "text/plain": [
       "[1, 3, 4, 5]"
      ]
     },
     "execution_count": 51,
     "metadata": {},
     "output_type": "execute_result"
    }
   ],
   "source": [
    "lines"
   ]
  }
 ],
 "metadata": {
  "kernelspec": {
   "display_name": "Python 3 (ipykernel)",
   "language": "python",
   "name": "python3"
  },
  "language_info": {
   "codemirror_mode": {
    "name": "ipython",
    "version": 3
   },
   "file_extension": ".py",
   "mimetype": "text/x-python",
   "name": "python",
   "nbconvert_exporter": "python",
   "pygments_lexer": "ipython3",
   "version": "3.12.7"
  }
 },
 "nbformat": 4,
 "nbformat_minor": 5
}
