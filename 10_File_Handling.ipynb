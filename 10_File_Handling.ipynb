{
 "cells": [
  {
   "cell_type": "markdown",
   "id": "854d974c-97d5-4817-a905-73289f78f3cb",
   "metadata": {},
   "source": [
    "### 📂 Day 19: File Handling (Text files)\n"
   ]
  },
  {
   "cell_type": "markdown",
   "id": "54af8b26-408e-429c-b5b0-8a4c23f90cfb",
   "metadata": {},
   "source": [
    "\n",
    "# ✅ 1. Common Methods Used in File Handling\n",
    "\n",
    "| Method         | Description                                                                 |\n",
    "|----------------|-----------------------------------------------------------------------------|\n",
    "| `open()`       | Opens a file and returns a file object.                                     |\n",
    "| `read()`       | Reads the entire content of the file.                                       |\n",
    "| `readline()`   | Reads one line from the file.                                               |\n",
    "| `readlines()`  | Returns a list containing all lines in the file.                            |\n",
    "| `write()`      | Writes content to the file. (Overwrites existing content in write mode.)    |\n",
    "| `writelines()` | Writes a list of strings to the file.                                       |\n",
    "| `close()`      | Closes the file. It's important to free up system resources.                |\n",
    "| `seek()`       | Changes the file pointer position. Useful for reading from a specific position. |\n",
    "| `tell()`       | Returns the current file pointer position.                                  |\n",
    "| `with` statement | Automatically closes the file when done (Context Manager).                |\n",
    "\n",
    "# ✅ 2. File Opening Modes in Python\n",
    "\n",
    "| Mode   | Meaning                              | Use Case                                              |\n",
    "|--------|--------------------------------------|-------------------------------------------------------|\n",
    "| `'r'`  | Read (default). File must exist.     | Reading contents from a file.                         |\n",
    "| `'w'`  | Write. Overwrites the file if it exists. | Writing new content to file (destructive).        |\n",
    "| `'a'`  | Append. Adds content to the end of file. | Adding new data to existing file.                  |\n",
    "| `'x'`  | Exclusive creation. Fails if file exists. | Creating a new file only if it doesn't exist.     |\n",
    "| `'r+'` | Read and write. File must exist.     | Read and modify content without truncating.          |\n",
    "| `'w+'` | Write and read. Truncates file.      | Overwrite and then read back.                        |\n",
    "| `'a+'` | Append and read.                     | Add new data, also allows reading.                   |\n",
    "| `'b'`  | Binary mode.                         | For binary files like images, PDFs, etc.             |\n",
    "| `'t'`  | Text mode (default).                 | For text files.                                      |\n",
    "\n",
    "# ✅ 3. When to Use the Methods\n",
    "\n",
    "| Method      | When to Use                                                                 |\n",
    "|-------------|------------------------------------------------------------------------------|\n",
    "| `open()`    | Always needed to start any file operation.                                  |\n",
    "| `read()`    | When you want to read the entire file at once (for small files).            |\n",
    "| `readline()`| When you want to process the file line by line (e.g., logs).                |\n",
    "| `readlines()`| If you need to iterate over all lines using a list.                        |\n",
    "| `write()`   | To write strings to a file (make sure to open with `'w'`, `'w+'`, or `'a'`).|\n",
    "| `writelines()`| When writing a list of strings to a file.                                 |\n",
    "| `close()`   | Always close the file manually if not using `with` block.                   |\n",
    "| `seek()`    | When you want to reset or change read/write pointer in the file.            |\n",
    "| `tell()`    | To find the current cursor position inside the file.                        |\n",
    "| `with`      | Best practice. Ensures the file is closed automatically, even if an error occurs. |\n"
   ]
  },
  {
   "cell_type": "markdown",
   "id": "564b3128-0c19-4a58-97e9-e0b218820874",
   "metadata": {},
   "source": [
    "###  ----------------------------------------------------------------------"
   ]
  },
  {
   "cell_type": "markdown",
   "id": "4c06bcad-65b5-4179-882b-42d15bf4050d",
   "metadata": {},
   "source": [
    "### 1. Write a program to read a text file and print its content line by line."
   ]
  },
  {
   "cell_type": "code",
   "execution_count": 11,
   "id": "ab103d13-9e17-41b4-973e-4c7ae31fe4d8",
   "metadata": {},
   "outputs": [
    {
     "name": "stdout",
     "output_type": "stream",
     "text": [
      "Rimesh Chaudhary\n",
      "\n",
      "RishiKant Chaudhary\n",
      "\n",
      "Gaurab Shrestha\n"
     ]
    }
   ],
   "source": [
    "with open(\"example.txt\", 'r') as f:\n",
    "    content = f.readlines()\n",
    "    for con in content:\n",
    "        print(con)"
   ]
  },
  {
   "cell_type": "code",
   "execution_count": 19,
   "id": "fad8c32e-17c4-489b-8b20-4101acfe35c7",
   "metadata": {},
   "outputs": [],
   "source": [
    "def read_file_line_by_line(filename):\n",
    "    try:\n",
    "        with open(filename,'r') as file:\n",
    "            for line, content in enumerate(file,start=1):\n",
    "                print(f\"Line {line}: {content.strip()}\")\n",
    "\n",
    "    except FileNotFound:\n",
    "        print(\"Error: ❌ File not found. Please check the filename and try again.\")"
   ]
  },
  {
   "cell_type": "code",
   "execution_count": 20,
   "id": "0c51990d-4236-4699-ba97-d1b5e9bdf5a2",
   "metadata": {},
   "outputs": [
    {
     "name": "stdin",
     "output_type": "stream",
     "text": [
      "Enter the filename (with extension):  example.txt\n"
     ]
    },
    {
     "name": "stdout",
     "output_type": "stream",
     "text": [
      "Line 1: Rimesh Chaudhary\n",
      "Line 2: RishiKant Chaudhary\n",
      "Line 3: Gaurab Shrestha\n"
     ]
    }
   ],
   "source": [
    "if __name__ == '__main__':\n",
    "    filename = input(\"Enter the filename (with extension): \")\n",
    "    read_file_line_by_line(filename)"
   ]
  },
  {
   "cell_type": "markdown",
   "id": "fb860b63-1d76-43d9-bb3a-3cff70e3d68f",
   "metadata": {},
   "source": [
    "### 2. Write a program to take user input and save it to notes.txt.\n",
    "\n"
   ]
  },
  {
   "cell_type": "code",
   "execution_count": null,
   "id": "e06ec718-bf0f-4e91-9036-2af651f31c1e",
   "metadata": {},
   "outputs": [],
   "source": [
    "import os"
   ]
  },
  {
   "cell_type": "code",
   "execution_count": 23,
   "id": "10e65fa7-2db4-4cb3-b457-ee027a09e878",
   "metadata": {},
   "outputs": [
    {
     "name": "stdout",
     "output_type": "stream",
     "text": [
      "Error: name 'os' is not defined\n"
     ]
    }
   ],
   "source": [
    "if __name__ == '__main__':\n",
    "    write_file(\"notes.txt\")\n"
   ]
  },
  {
   "cell_type": "code",
   "execution_count": 25,
   "id": "5e663b6a-734c-4e16-aae4-db12613c7c9b",
   "metadata": {},
   "outputs": [],
   "source": [
    "import os\n",
    "\n",
    "def write_file(filename):\n",
    "    try:\n",
    "        # 'a' mode appends and creates file if doesn't exist\n",
    "        with open(filename, 'a') as file:\n",
    "            content = input(\"Enter content: \")\n",
    "            file.write(content + '\\n')  # Add newline to separate entries\n",
    "        print(\"Content written successfully.\")\n",
    "    except Exception as e:\n",
    "        print(f\"Error: {e}\")"
   ]
  },
  {
   "cell_type": "code",
   "execution_count": 26,
   "id": "c0129ff8-1544-4b19-b968-db8ad97fc649",
   "metadata": {},
   "outputs": [
    {
     "name": "stdin",
     "output_type": "stream",
     "text": [
      "Enter content:  Hi, i am learning python..\n"
     ]
    },
    {
     "name": "stdout",
     "output_type": "stream",
     "text": [
      "Content written successfully.\n"
     ]
    }
   ],
   "source": [
    "if __name__ == '__main__':\n",
    "    write_file(\"notes.txt\")"
   ]
  },
  {
   "cell_type": "markdown",
   "id": "c379c690-ac98-4fcd-b29e-b543d718b3a5",
   "metadata": {},
   "source": [
    "### 3. Count the number of lines, words, and characters in a file **story.txt**."
   ]
  },
  {
   "cell_type": "code",
   "execution_count": 35,
   "id": "d0486460-3a2a-45c4-9ab5-a9dcfcd95ab7",
   "metadata": {},
   "outputs": [],
   "source": [
    "line_count = 0\n",
    "word_count = 0\n",
    "char_count = 0\n",
    "\n",
    "def count_from_file(filename):\n",
    "    line_count = 0\n",
    "    word_count = 0\n",
    "    char_count = 0\n",
    "    if os.path.exists(filename):\n",
    "        with open(filename,'r') as file:\n",
    "            for line in file:\n",
    "                line_count += 1\n",
    "                word_count += len(line.strip().split())\n",
    "                char_count += len(line)\n",
    "    print(\"Total Lines:\", line_count)\n",
    "    print(\"Total Words:\", word_count)\n",
    "    print(\"Total Characters:\", char_count)"
   ]
  },
  {
   "cell_type": "code",
   "execution_count": 36,
   "id": "57ce1bbb-bdee-4ac9-957f-565325d115ed",
   "metadata": {},
   "outputs": [
    {
     "name": "stdout",
     "output_type": "stream",
     "text": [
      "Total Lines: 4\n",
      "Total Words: 22\n",
      "Total Characters: 119\n"
     ]
    }
   ],
   "source": [
    "count_from_file(\"story.txt\")"
   ]
  },
  {
   "cell_type": "markdown",
   "id": "57d02ff8-0100-4aad-8fb7-02f5d7c94ed9",
   "metadata": {},
   "source": [
    "### 4. Append new content to a file without overwriting the existing data."
   ]
  },
  {
   "cell_type": "code",
   "execution_count": 47,
   "id": "f242b890-41a4-43d1-bbde-61bf68811696",
   "metadata": {},
   "outputs": [
    {
     "name": "stdin",
     "output_type": "stream",
     "text": [
      "Enter content to the file:  added some new contents\n"
     ]
    },
    {
     "name": "stdout",
     "output_type": "stream",
     "text": [
      "Content added Successfully..\n"
     ]
    }
   ],
   "source": [
    "with open(\"example.txt\",'a') as file:\n",
    "    content = input(\"Enter content to the file: \")\n",
    "    file.write(content + '\\n' )\n",
    "    print(\"Content added Successfully..\")\n",
    "\n"
   ]
  },
  {
   "cell_type": "markdown",
   "id": "80923138-2087-47f1-a848-5409b54434d3",
   "metadata": {},
   "source": [
    "### 5. Build a simple search feature that finds all lines containing a specific word from a large text file."
   ]
  },
  {
   "cell_type": "code",
   "execution_count": null,
   "id": "18a3d0c2-e997-4ec7-9bd3-e70a93236846",
   "metadata": {},
   "outputs": [],
   "source": []
  },
  {
   "cell_type": "code",
   "execution_count": null,
   "id": "0c12344b-f7ca-4415-9675-3bb08326aa05",
   "metadata": {},
   "outputs": [],
   "source": []
  }
 ],
 "metadata": {
  "kernelspec": {
   "display_name": "Python 3 (ipykernel)",
   "language": "python",
   "name": "python3"
  },
  "language_info": {
   "codemirror_mode": {
    "name": "ipython",
    "version": 3
   },
   "file_extension": ".py",
   "mimetype": "text/x-python",
   "name": "python",
   "nbconvert_exporter": "python",
   "pygments_lexer": "ipython3",
   "version": "3.12.7"
  }
 },
 "nbformat": 4,
 "nbformat_minor": 5
}
