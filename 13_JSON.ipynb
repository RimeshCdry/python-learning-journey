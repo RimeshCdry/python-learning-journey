{
 "cells": [
  {
   "cell_type": "markdown",
   "id": "156a090a-dc1d-4539-868f-be23b0f6f9c1",
   "metadata": {},
   "source": [
    "## Learning JSON From beginner to Advance"
   ]
  },
  {
   "cell_type": "markdown",
   "id": "a94cf847-9c35-4b57-bcc7-e53022b41d36",
   "metadata": {},
   "source": [
    "### 🟢 Beginner Level"
   ]
  },
  {
   "cell_type": "markdown",
   "id": "89b17051-2f05-4ad0-84fd-d997d54e3cda",
   "metadata": {},
   "source": [
    "### Q1. Parsing Weather Data from JSON\n",
    "- Use Case: A weather API gives data in JSON format. You want to extract useful details for analysis.\n",
    "\n",
    "- data:-\n",
    "{\n",
    "  \"city\": \"Kathmandu\",\n",
    "  \"temperature\": {\n",
    "    \"current\": 28,\n",
    "    \"min\": 20,\n",
    "    \"max\": 30\n",
    "  },\n",
    "  \"humidity\": 70,\n",
    "  \"condition\": \"Cloudy\"\n",
    "\n",
    "}\n",
    "\n",
    "\n",
    "- Task:\n",
    "\n",
    "    - Load the JSON data in Python.\n",
    "\n",
    "    - Print the city name, current temperature, and humidity.\n"
   ]
  },
  {
   "cell_type": "code",
   "execution_count": 140,
   "id": "86be9b53-979a-47fe-a1ad-bd710965b86b",
   "metadata": {},
   "outputs": [
    {
     "data": {
      "text/plain": [
       "{'city': 'Kathmandu',\n",
       " 'temperature': {'current': 28, 'min': 20, 'max': 30},\n",
       " 'humidity': 70,\n",
       " 'condition': 'Cloudy'}"
      ]
     },
     "execution_count": 140,
     "metadata": {},
     "output_type": "execute_result"
    }
   ],
   "source": [
    "import json\n",
    "\n",
    "json_data = '{ \"city\": \"Kathmandu\", \"temperature\": { \"current\": 28, \"min\": 20, \"max\": 30 }, \"humidity\": 70, \"condition\": \"Cloudy\"}'\n",
    "\n",
    "data = json.loads(json_data)\n",
    "data"
   ]
  },
  {
   "cell_type": "code",
   "execution_count": 141,
   "id": "b9ea6abb-25f0-4ffe-b9cd-b3833fe26b4f",
   "metadata": {},
   "outputs": [
    {
     "name": "stdout",
     "output_type": "stream",
     "text": [
      "City: Kathmandu\n",
      "Current Temperature: 28°\n",
      "Humidity: 70\n"
     ]
    }
   ],
   "source": [
    "print(f\"City: {data['city']}\")\n",
    "print(f\"Current Temperature: {data['temperature']['current']}°\")\n",
    "print(f\"Humidity: {data['humidity']}\")"
   ]
  },
  {
   "cell_type": "markdown",
   "id": "71aaf520-2382-4b31-986e-d220c6a5ec3e",
   "metadata": {},
   "source": [
    "### Q2. Movie Data Cleaning\n",
    "- `Use Case`: You're preparing a movie dataset for exploratory analysis.\n",
    "- `data`:- {\n",
    "  \"title\": \"Inception\",\n",
    "  \"release_year\": 2010,\n",
    "  \"genres\": [\"Action\", \"Sci-Fi\"],\n",
    "  \"rating\": {\n",
    "    \"IMDB\": 8.8,\n",
    "    \"RottenTomatoes\": \"87%\"\n",
    "  }\n",
    "}\n",
    "\n",
    "- `Task`:\n",
    "    - Extract the title and genres.\n",
    "    - Convert the RottenTomatoes rating to float (i.e., from \"87%\" to 87.0)."
   ]
  },
  {
   "cell_type": "code",
   "execution_count": 142,
   "id": "35a10cec-fac6-4480-944c-5fec79d0f0a8",
   "metadata": {},
   "outputs": [
    {
     "data": {
      "text/plain": [
       "{'title': 'Inception',\n",
       " 'release_year': 2010,\n",
       " 'genres': ['Action', 'Sci-Fi'],\n",
       " 'rating': {'IMDB': 8.8, 'RottenTomatoes': '87%'}}"
      ]
     },
     "execution_count": 142,
     "metadata": {},
     "output_type": "execute_result"
    }
   ],
   "source": [
    "import json\n",
    "\n",
    "json_data = '{\"title\": \"Inception\", \"release_year\": 2010, \"genres\": [\"Action\", \"Sci-Fi\"], \"rating\": { \"IMDB\": 8.8, \"RottenTomatoes\": \"87%\" } }'\n",
    "movie_data = json.loads(json_data)\n",
    "movie_data"
   ]
  },
  {
   "cell_type": "code",
   "execution_count": 143,
   "id": "2511eecb-53e7-432a-968f-0351d57b5cd7",
   "metadata": {},
   "outputs": [
    {
     "name": "stdout",
     "output_type": "stream",
     "text": [
      "Title: Inception\n",
      "Generes: ['Action', 'Sci-Fi']\n",
      "RottenTomatoes: 87.0\n"
     ]
    }
   ],
   "source": [
    "converted_rottentomatoes = movie_data['rating']['RottenTomatoes'] # accessing the Value og RottenTomatoes\n",
    "converted_rottentomatoes = float(converted_rottentomatoes[0:2]) # removing '%' sign by slicing the sting\n",
    "convert_rottentomatoes_into_float = (converted_rottentomatoes/100)*100 # converting into float\n",
    "print(f\"Title: {movie_data['title']}\")\n",
    "print(f\"Generes: {movie_data['genres']}\")\n",
    "print(f\"RottenTomatoes: {convert_rottentomatoes_into_float}\")"
   ]
  },
  {
   "cell_type": "code",
   "execution_count": null,
   "id": "f5533bc3-6d0f-4d54-83f9-e563ab3f3641",
   "metadata": {},
   "outputs": [],
   "source": [
    " "
   ]
  },
  {
   "cell_type": "markdown",
   "id": "6cec8ad5-be7d-44ab-b915-071a1ae13c72",
   "metadata": {},
   "source": [
    "### 🟡 Intermediate Level"
   ]
  },
  {
   "cell_type": "markdown",
   "id": "04061bda-5d4f-48bb-9ba4-b29c2a43438c",
   "metadata": {},
   "source": [
    "### Q3. Analyzing E-commerce Orders\n",
    "- `Use Case`: You're analyzing customer order data from an e-commerce platform.\n",
    "- `data`:- {\n",
    "  \"order_id\": 1123,\n",
    "  \"customer\": {\n",
    "    \"name\": \"Sita Karki\",\n",
    "    \"location\": \"Lalitpur\"\n",
    "  },\n",
    "  \"items\": [\n",
    "    {\"product\": \"Laptop\", \"price\": 85000},\n",
    "    {\"product\": \"Mouse\", \"price\": 1500}\n",
    "  ],\n",
    "  \"status\": \"Delivered\"\n",
    "}\n",
    "- `Task`:\n",
    "    - Calculate the total amount of the order.\n",
    "    - Extract customer name and list of purchased products."
   ]
  },
  {
   "cell_type": "code",
   "execution_count": 144,
   "id": "05335805-2fe8-4c1f-bc8e-795f8f9f9323",
   "metadata": {},
   "outputs": [
    {
     "data": {
      "text/plain": [
       "[{'order_id': 1123,\n",
       "  'customer': {'name': 'Sita Karki', 'location': 'Lalitpur'},\n",
       "  'items': [{'product': 'Laptop', 'price': 85000},\n",
       "   {'product': 'Mouse', 'price': 1500}],\n",
       "  'status': 'Delivered'}]"
      ]
     },
     "execution_count": 144,
     "metadata": {},
     "output_type": "execute_result"
    }
   ],
   "source": [
    "import json\n",
    "json_data = '[{ \"order_id\": 1123, \"customer\": { \"name\": \"Sita Karki\", \"location\": \"Lalitpur\" }, \"items\": [ {\"product\": \"Laptop\", \"price\": 85000}, {\"product\": \"Mouse\", \"price\": 1500} ], \"status\": \"Delivered\" }]'\n",
    "ecommerce_data = json.loads(json_data)\n",
    "ecommerce_data"
   ]
  },
  {
   "cell_type": "code",
   "execution_count": 145,
   "id": "cbef8607-932c-4cd9-b431-aa52783d011e",
   "metadata": {},
   "outputs": [
    {
     "name": "stdout",
     "output_type": "stream",
     "text": [
      "Customer Name: Sita Karki\n",
      "Purchased Product: Laptop, Mouse\n",
      "Total Amount: Rs.86500 \n"
     ]
    }
   ],
   "source": [
    "for data in ecommerce_data:\n",
    "    product = [item['product'] for item in data['items']]\n",
    "    total_amount = sum(item['price'] for item in data['items'])\n",
    "    print(f\"Customer Name: {data['customer']['name']}\")\n",
    "    \n",
    "    print(f\"Purchased Product: {', '.join(product)}\")\n",
    "    print(f\"Total Amount: Rs.{total_amount} \")"
   ]
  },
  {
   "cell_type": "markdown",
   "id": "25eae285-0e65-4785-934a-a1fe9949b493",
   "metadata": {},
   "source": [
    "### Q4. Twitter Sentiment Dataset\n",
    "- `Use Case`: You're performing sentiment analysis on tweets.\n",
    "- `json_data`: {\n",
    "  \"tweet_id\": 92101,\n",
    "  \"user\": \"ramesh_ds\",\n",
    "  \"text\": \"Loving the new features in Python 3.11!\",\n",
    "  \"retweets\": 12,\n",
    "  \"likes\": 150,\n",
    "  \"hashtags\": [\"#Python\", \"#DataScience\"],\n",
    "  \"sentiment\": \"positive\"\n",
    "}\n",
    "\n",
    "- `Task`:\n",
    "  - Extract all hashtags.\n",
    "  - Count total interactions (likes + retweets).\n",
    "  - Check if the tweet contains the hashtag `#Python`."
   ]
  },
  {
   "cell_type": "code",
   "execution_count": 146,
   "id": "584a9596-d80c-439e-a7a1-a1c5b08d8d29",
   "metadata": {},
   "outputs": [
    {
     "data": {
      "text/plain": [
       "{'tweet_id': 92101,\n",
       " 'user': 'ramesh_ds',\n",
       " 'text': 'Loving the new features in Python 3.11!',\n",
       " 'retweets': 12,\n",
       " 'likes': 150,\n",
       " 'hashtags': ['#Python', '#DataScience'],\n",
       " 'sentiment': 'positive'}"
      ]
     },
     "execution_count": 146,
     "metadata": {},
     "output_type": "execute_result"
    }
   ],
   "source": [
    "import json\n",
    "json_data = '{\"tweet_id\": 92101, \"user\": \"ramesh_ds\", \"text\": \"Loving the new features in Python 3.11!\", \"retweets\": 12, \"likes\": 150, \"hashtags\": [\"#Python\", \"#DataScience\"], \"sentiment\": \"positive\" }'\n",
    "tweet_data = json.loads(json_data)\n",
    "tweet_data"
   ]
  },
  {
   "cell_type": "code",
   "execution_count": 147,
   "id": "303c17ac-83fe-4f17-83bc-84ba3291c92b",
   "metadata": {},
   "outputs": [
    {
     "name": "stdout",
     "output_type": "stream",
     "text": [
      "List of hastags: #Python, #DataScience\n",
      "Total interaction: 162\n",
      "The Tweet contains the hashtag #Python.\n"
     ]
    }
   ],
   "source": [
    "extract_hashtags = tweet_data['hashtags']\n",
    "count_interaction = tweet_data['retweets'] + tweet_data['likes']\n",
    "print(f\"List of hastags: {\", \".join(extract_hashtags)}\")\n",
    "print(f\"Total interaction: {count_interaction}\")\n",
    "if \"#Python\" in extract_hashtags:\n",
    "    print(\"The Tweet contains the hashtag #Python.\")\n",
    "else:\n",
    "    print(\"The Tweet does not contains the hashtag #Python.\")"
   ]
  },
  {
   "cell_type": "code",
   "execution_count": null,
   "id": "ab3372e2-7702-42ec-a2c4-388f5d4c71eb",
   "metadata": {},
   "outputs": [],
   "source": []
  },
  {
   "cell_type": "markdown",
   "id": "55a9a213-39d2-4cf9-9598-2b83dfccac4e",
   "metadata": {},
   "source": [
    "### 🔴 Advanced Level"
   ]
  },
  {
   "cell_type": "markdown",
   "id": "c92e64a3-92e9-414e-a4ca-a6b90477e6dc",
   "metadata": {},
   "source": [
    "### Q5. COVID-19 Daily Report Aggregation\n",
    "- `Use Case`: You're building a dashboard that summarizes COVID-19 stats from multiple regions.\n",
    "- json_data = [\n",
    "  {\n",
    "    \"country\": \"Nepal\",\n",
    "    \"date\": \"2021-07-01\",\n",
    "    \"cases\": {\"confirmed\": 800, \"recovered\": 600, \"deaths\": 10}\n",
    "  },\n",
    "  {\n",
    "    \"country\": \"India\",\n",
    "    \"date\": \"2021-07-01\",\n",
    "    \"cases\": {\"confirmed\": 50000, \"recovered\": 47000, \"deaths\": 500}\n",
    "  },\n",
    "  {\n",
    "    \"country\": \"USA\",\n",
    "    \"date\": \"2021-07-01\",\n",
    "    \"cases\": {\"confirmed\": 100000, \"recovered\": 95000, \"deaths\": 800}\n",
    "  }\n",
    "]\n",
    "\n",
    "- Task:\n",
    "    - Calculate the total confirmed cases and deaths across all countries.\n",
    "    - List countries where recovery rate > 90%.\n",
    "    - Create a dictionary like `{country: death_rate}`.\n",
    "\n",
    "\n",
    "\n"
   ]
  },
  {
   "cell_type": "code",
   "execution_count": 148,
   "id": "11e766ce-0dd4-4e14-8f7f-8d77ef6f2f9a",
   "metadata": {},
   "outputs": [
    {
     "name": "stdout",
     "output_type": "stream",
     "text": [
      "<class 'list'>\n"
     ]
    },
    {
     "data": {
      "text/plain": [
       "[{'country': 'Nepal',\n",
       "  'date': '2021-07-01',\n",
       "  'cases': {'confirmed': 800, 'recovered': 600, 'deaths': 10}},\n",
       " {'country': 'India',\n",
       "  'date': '2021-07-01',\n",
       "  'cases': {'confirmed': 50000, 'recovered': 47000, 'deaths': 500}},\n",
       " {'country': 'USA',\n",
       "  'date': '2021-07-01',\n",
       "  'cases': {'confirmed': 100000, 'recovered': 95000, 'deaths': 800}}]"
      ]
     },
     "execution_count": 148,
     "metadata": {},
     "output_type": "execute_result"
    }
   ],
   "source": [
    "import json\n",
    "json_data = '[ { \"country\": \"Nepal\", \"date\": \"2021-07-01\", \"cases\": {\"confirmed\": 800, \"recovered\": 600, \"deaths\": 10} }, { \"country\": \"India\", \"date\": \"2021-07-01\", \"cases\": {\"confirmed\": 50000, \"recovered\": 47000, \"deaths\": 500} }, { \"country\": \"USA\", \"date\": \"2021-07-01\", \"cases\": {\"confirmed\": 100000, \"recovered\": 95000, \"deaths\": 800} } ]'\n",
    "covid_data = json.loads(json_data)\n",
    "print(type(covid_data))\n",
    "covid_data"
   ]
  },
  {
   "cell_type": "code",
   "execution_count": 149,
   "id": "6e2c7e91-c074-4ecd-b98b-598e424645bc",
   "metadata": {},
   "outputs": [
    {
     "name": "stdout",
     "output_type": "stream",
     "text": [
      "Total confirmed cases: 150800\n",
      "Total death cases: 1310\n"
     ]
    }
   ],
   "source": [
    "# Total confirmed cases and death\n",
    "total_confirmed_case = 0\n",
    "total_death_case = 0\n",
    "for data in covid_data:\n",
    "    total_confirmed_case += data['cases']['confirmed']\n",
    "    total_death_case += data['cases']['deaths']\n",
    "\n",
    "print(f\"Total confirmed cases: {total_confirmed_case}\")\n",
    "print(f\"Total death cases: {total_death_case}\")"
   ]
  },
  {
   "cell_type": "code",
   "execution_count": 150,
   "id": "859bf4a5-6d67-46ed-961b-b785d01304c0",
   "metadata": {},
   "outputs": [
    {
     "name": "stdout",
     "output_type": "stream",
     "text": [
      "Countries with Recovery Rate > 90%:- India, USA\n"
     ]
    }
   ],
   "source": [
    "# Listing country having recovery rate > 90%.\n",
    "high_recovery_countries = []\n",
    "for data in covid_data:\n",
    "    recovered = data['cases']['recovered']\n",
    "    confirmed = data['cases']['confirmed']\n",
    "    if confirmed > 0:\n",
    "        recovered_rate = (recovered/confirmed)*100\n",
    "        if recovered_rate > 90:\n",
    "            high_recovery_countries.append(data['country'])\n",
    "\n",
    "print(f\"Countries with Recovery Rate > 90%:- {\", \".join(high_recovery_countries)}\")"
   ]
  },
  {
   "cell_type": "code",
   "execution_count": 151,
   "id": "3a7ba42f-4589-469d-8ae9-93d6caa8d44a",
   "metadata": {},
   "outputs": [
    {
     "name": "stdout",
     "output_type": "stream",
     "text": [
      "Death Rate by Country:\n",
      "{'Nepal': 1.25, 'India': 1.0, 'USA': 0.8}\n"
     ]
    }
   ],
   "source": [
    "# Death rate according to the country.\n",
    "country_with_death_rate = {}\n",
    "for data in covid_data:\n",
    "    death = data['cases']['deaths']\n",
    "    confirmed = data['cases']['confirmed']\n",
    "    death_rate = (death/confirmed)*100\n",
    "    country_with_death_rate[data['country']] = death_rate\n",
    "\n",
    "print(f\"Death Rate by Country:\\n{country_with_death_rate}\")"
   ]
  },
  {
   "cell_type": "markdown",
   "id": "369f95eb-8a02-4005-994f-e885b01b4947",
   "metadata": {},
   "source": [
    "### Q6. Nested JSON - Online Course Reviews\n",
    "- `Use Case`: You're analyzing course feedback data to determine which courses need improvement.\n",
    "- `json_data`: [\n",
    "  {\n",
    "    \"course\": \"Python for Data Science\",\n",
    "    \"instructor\": \"Dr. A. Sharma\",\n",
    "    \"reviews\": [\n",
    "      {\"rating\": 4.5, \"comment\": \"Very informative\"},\n",
    "      {\"rating\": 3.0, \"comment\": \"Could be more engaging\"}\n",
    "    ]\n",
    "  },\n",
    "  {\n",
    "    \"course\": \"Machine Learning Basics\",\n",
    "    \"instructor\": \"R. Bhattarai\",\n",
    "    \"reviews\": [\n",
    "      {\"rating\": 5.0, \"comment\": \"Excellent\"},\n",
    "      {\"rating\": 4.0, \"comment\": \"Loved it\"}\n",
    "    ]\n",
    "  }\n",
    "]\n",
    "- `Task`:\n",
    "  - Calculate the average rating for each course.\n",
    "  - Identify the course with the lowest average rating.\n",
    "  - Filter all reviews with rating less than 4."
   ]
  },
  {
   "cell_type": "code",
   "execution_count": 152,
   "id": "2e0f778d-06a5-4496-8725-be8b2cd4c5fc",
   "metadata": {},
   "outputs": [],
   "source": [
    "import json"
   ]
  },
  {
   "cell_type": "code",
   "execution_count": 153,
   "id": "ff85cc5f-3042-4862-8232-3f638eaf6ba6",
   "metadata": {},
   "outputs": [
    {
     "data": {
      "text/plain": [
       "[{'course': 'Python for Data Science',\n",
       "  'instructor': 'Dr. A. Sharma',\n",
       "  'reviews': [{'rating': 4.5, 'comment': 'Very informative'},\n",
       "   {'rating': 3.0, 'comment': 'Could be more engaging'}]},\n",
       " {'course': 'Machine Learning Basics',\n",
       "  'instructor': 'R. Bhattarai',\n",
       "  'reviews': [{'rating': 5.0, 'comment': 'Excellent'},\n",
       "   {'rating': 4.0, 'comment': 'Loved it'}]}]"
      ]
     },
     "execution_count": 153,
     "metadata": {},
     "output_type": "execute_result"
    }
   ],
   "source": [
    "json_data = '[{\"course\": \"Python for Data Science\", \"instructor\": \"Dr. A. Sharma\", \"reviews\": [ {\"rating\": 4.5, \"comment\": \"Very informative\"}, {\"rating\": 3.0, \"comment\": \"Could be more engaging\"} ] }, { \"course\": \"Machine Learning Basics\", \"instructor\": \"R. Bhattarai\", \"reviews\": [ {\"rating\": 5.0, \"comment\": \"Excellent\"}, {\"rating\": 4.0, \"comment\": \"Loved it\"}]}]'\n",
    "course_data = json.loads(json_data)\n",
    "course_data"
   ]
  },
  {
   "cell_type": "code",
   "execution_count": 154,
   "id": "ec7fd078-cdb4-4564-8955-6a00e0560b3a",
   "metadata": {},
   "outputs": [
    {
     "name": "stdout",
     "output_type": "stream",
     "text": [
      "Each Course Rating:\n",
      "{'Python for Data Science': 3.75, 'Machine Learning Basics': 4.5}\n"
     ]
    }
   ],
   "source": [
    "# Calculatin the average rating for each course\n",
    "course_rating = {}\n",
    "for data in course_data:\n",
    "    total_reviews = len(data['reviews'])\n",
    "    total_rating = sum(rate['rating'] for rate in data['reviews'])\n",
    "    average_rating  =total_rating / total_reviews\n",
    "    course_rating[data['course']] = average_rating\n",
    "\n",
    "print(f\"Each Course Rating:\\n{course_rating}\")"
   ]
  },
  {
   "cell_type": "code",
   "execution_count": 155,
   "id": "ee7b54a4-109f-45f8-adb6-2c982e88bfff",
   "metadata": {},
   "outputs": [
    {
     "name": "stdout",
     "output_type": "stream",
     "text": [
      "Course having lowest average rating: Python for Data Science with average 3.75 \n"
     ]
    }
   ],
   "source": [
    "# Identify the course with the lowest average rating.\n",
    "print(f\"Course having lowest average rating: {min(course_rating,key=course_rating.get)} with average {course_rating[min(course_rating,key=course_rating.get)]} \")\n"
   ]
  },
  {
   "cell_type": "code",
   "execution_count": 156,
   "id": "089a2a50-25d0-41d4-8c43-739d22fbbd85",
   "metadata": {},
   "outputs": [],
   "source": [
    "# Filter all reviews with rating less than 4.\n",
    "# reviews_having_less_than_4 = {}\n",
    "# for data in course_data:\n",
    "#     d = [d['rating'] for d in data['reviews'] if d['rating'] < 4]\n",
    "#     reviews_having_less_than_4[data['reviews']['rating']] = data['reviews']['comment']"
   ]
  },
  {
   "cell_type": "code",
   "execution_count": 157,
   "id": "5449b963-c487-4e28-9010-fc18a6b247c8",
   "metadata": {},
   "outputs": [
    {
     "name": "stdout",
     "output_type": "stream",
     "text": [
      "Reviews with rating less than 4:\n",
      "{'course': 'Python for Data Science', 'rating': 3.0, 'comment': 'Could be more engaging'}\n"
     ]
    }
   ],
   "source": [
    "# Filter all reviews with rating less than 4\n",
    "low_rated_reviews = []\n",
    "for course in course_data:\n",
    "    for review in course[\"reviews\"]:\n",
    "        if review[\"rating\"] < 4:\n",
    "            low_rated_reviews.append({\n",
    "                \"course\": course[\"course\"],\n",
    "                \"rating\": review[\"rating\"],\n",
    "                \"comment\": review[\"comment\"]\n",
    "            })\n",
    "\n",
    "print(\"Reviews with rating less than 4:\")\n",
    "for review in low_rated_reviews:\n",
    "    print(review)"
   ]
  },
  {
   "cell_type": "code",
   "execution_count": null,
   "id": "a43b4dee-bc75-4366-b867-ec739278c903",
   "metadata": {},
   "outputs": [],
   "source": []
  }
 ],
 "metadata": {
  "kernelspec": {
   "display_name": "Python 3 (ipykernel)",
   "language": "python",
   "name": "python3"
  },
  "language_info": {
   "codemirror_mode": {
    "name": "ipython",
    "version": 3
   },
   "file_extension": ".py",
   "mimetype": "text/x-python",
   "name": "python",
   "nbconvert_exporter": "python",
   "pygments_lexer": "ipython3",
   "version": "3.12.7"
  }
 },
 "nbformat": 4,
 "nbformat_minor": 5
}
