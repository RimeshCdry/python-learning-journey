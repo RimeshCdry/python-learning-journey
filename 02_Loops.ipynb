{
 "cells": [
  {
   "cell_type": "markdown",
   "id": "da4cdeeb-29ca-4112-a8fa-7ae6475dbd07",
   "metadata": {},
   "source": [
    "# 🔁 Loops (for, while, break, continue, range())"
   ]
  },
  {
   "cell_type": "markdown",
   "id": "9d52ab76-c28e-469c-9c33-5601764dbe97",
   "metadata": {},
   "source": [
    "### 1. Print even numbers from 1 to 20 using a for loop."
   ]
  },
  {
   "cell_type": "code",
   "execution_count": 30,
   "id": "69bb6a6a-102e-4d1f-abd5-092e22aaea60",
   "metadata": {},
   "outputs": [
    {
     "name": "stdout",
     "output_type": "stream",
     "text": [
      "The even numbers from 1 to 20 are: \n",
      "2, 4, 6, 8, 10, 12, 14, 16, 18, 20, "
     ]
    }
   ],
   "source": [
    "print(\"The even numbers from 1 to 20 are: \")\n",
    "for num in range(1,21):\n",
    "    if num % 2 == 0:\n",
    "        print(f\"{num}, \",end=\"\")"
   ]
  },
  {
   "cell_type": "markdown",
   "id": "6f2cac83-a018-481b-ab37-9361c91783e5",
   "metadata": {},
   "source": [
    "### 2. Use a while loop to sum all numbers from 1 to 100.\n",
    "\n"
   ]
  },
  {
   "cell_type": "code",
   "execution_count": 31,
   "id": "1212d229-f737-4a17-90d4-7b04d4d29391",
   "metadata": {},
   "outputs": [],
   "source": [
    "n = 1\n",
    "total = 0\n",
    "while n <= 101:\n",
    "    total += n\n",
    "    n += 1"
   ]
  },
  {
   "cell_type": "code",
   "execution_count": 32,
   "id": "6c147da8-6b81-4a88-8233-3068b0cd9f11",
   "metadata": {},
   "outputs": [
    {
     "name": "stdout",
     "output_type": "stream",
     "text": [
      "The sum is:  102\n"
     ]
    }
   ],
   "source": [
    "print(\"The sum is: \",sum)"
   ]
  },
  {
   "cell_type": "markdown",
   "id": "00446b92-4782-478b-90ab-c761aa6d90de",
   "metadata": {},
   "source": [
    "### 3. Print numbers from 1 to 10, but skip 5 using continue.\n",
    "\n"
   ]
  },
  {
   "cell_type": "code",
   "execution_count": 33,
   "id": "a19ef6d4-605e-4d30-993d-6c5e84109284",
   "metadata": {},
   "outputs": [
    {
     "name": "stdout",
     "output_type": "stream",
     "text": [
      "1\n",
      "2\n",
      "3\n",
      "4\n",
      "6\n",
      "7\n",
      "8\n",
      "9\n",
      "10\n"
     ]
    }
   ],
   "source": [
    "for num in range(1,11):\n",
    "    if num == 5:\n",
    "        continue\n",
    "    print(num)"
   ]
  },
  {
   "cell_type": "markdown",
   "id": "0f8d4627-eeac-4fa2-92fa-d0dda5bc1b61",
   "metadata": {},
   "source": [
    "### 4. Print the first 5 multiples of 7 using range().\n",
    "\n"
   ]
  },
  {
   "cell_type": "code",
   "execution_count": 34,
   "id": "9474b63c-d884-4e8f-868d-74f492247cbc",
   "metadata": {},
   "outputs": [
    {
     "name": "stdout",
     "output_type": "stream",
     "text": [
      "The first 5 multiples of 7: \n",
      "7\n",
      "14\n",
      "21\n",
      "28\n",
      "35\n"
     ]
    }
   ],
   "source": [
    "print(\"The first 5 multiples of 7: \")\n",
    "for i in range(1,6):\n",
    "    print(7*i)"
   ]
  },
  {
   "cell_type": "markdown",
   "id": "7e800c39-db96-4aa8-a713-6a08fc7857ac",
   "metadata": {},
   "source": [
    "### 5. Break a loop when the sum exceeds 50."
   ]
  },
  {
   "cell_type": "code",
   "execution_count": 36,
   "id": "21c4550b-93de-4beb-82ad-cf93e74b19a2",
   "metadata": {},
   "outputs": [
    {
     "name": "stdout",
     "output_type": "stream",
     "text": [
      "Sum exceeded 50 at number:  10\n",
      "Total sum : 55\n"
     ]
    }
   ],
   "source": [
    "i = 1\n",
    "total_sum = 0\n",
    "while True:\n",
    "    total_sum += i\n",
    "    if total_sum > 50:\n",
    "        break\n",
    "    i += 1\n",
    "\n",
    "print(\"Sum exceeded 50 at number: \",i)\n",
    "print(\"Total sum :\", total_sum)"
   ]
  },
  {
   "cell_type": "markdown",
   "id": "635efdc2-3c2f-4b91-9fb4-104caff5b2f6",
   "metadata": {},
   "source": [
    "### 6. Nested loop: Print a triangle pattern using stars *.\n",
    "\n"
   ]
  },
  {
   "cell_type": "code",
   "execution_count": 42,
   "id": "bc67eb10-d19e-4a98-bfc1-aaaefc4aea08",
   "metadata": {},
   "outputs": [
    {
     "name": "stdout",
     "output_type": "stream",
     "text": [
      "*\n",
      "**\n",
      "***\n",
      "****\n",
      "*****\n"
     ]
    }
   ],
   "source": [
    "for i in range (1,6):\n",
    "    for j in range(i):\n",
    "        print(\"*\",end=\"\")\n",
    "    print()"
   ]
  },
  {
   "cell_type": "markdown",
   "id": "8952e448-9e82-48b0-a5d0-e9579625278f",
   "metadata": {},
   "source": [
    "### 7. Sum of Prime Numbers from 1 to N.\n",
    "- Write a program that takes an integer n from the user and calculates the sum of all prime numbers from 1 to n.\n",
    "\n"
   ]
  },
  {
   "cell_type": "code",
   "execution_count": 50,
   "id": "40032a93-ff18-4a0d-8cb6-e8e02aedeb57",
   "metadata": {},
   "outputs": [],
   "source": [
    "def is_prime(num):\n",
    "    if num <= 1:\n",
    "        return False\n",
    "    if num == 2:\n",
    "        return True\n",
    "\n",
    "    if num % 2 == 0:\n",
    "        return False\n",
    "\n",
    "    for i in range(3, int(num**0.5)+1, 2):\n",
    "        if num % i == 0:\n",
    "            return False\n",
    "    return True"
   ]
  },
  {
   "cell_type": "code",
   "execution_count": 56,
   "id": "d998b3e3-b665-46c1-8a08-8e1590c0917e",
   "metadata": {},
   "outputs": [
    {
     "name": "stdin",
     "output_type": "stream",
     "text": [
      "Enter a number:  15\n"
     ]
    },
    {
     "name": "stdout",
     "output_type": "stream",
     "text": [
      "List of prime number: [2, 3, 5, 7, 11, 13]\n",
      "The sum of prime number is 41\n"
     ]
    }
   ],
   "source": [
    "n = int(input(\"Enter a number: \"))\n",
    "sum_of_prime = 0\n",
    "list_of_prime = []\n",
    "for i in range(1,n+1):\n",
    "    if is_prime(i):\n",
    "        list_of_prime.append(i)\n",
    "        sum_of_prime+= i\n",
    "print(f\"List of prime number: {list_of_prime}\")\n",
    "print(f\"The sum of prime number is {sum_of_prime}\")"
   ]
  },
  {
   "cell_type": "markdown",
   "id": "dfeeaec9-be4a-4b63-b4c8-1270b289761f",
   "metadata": {},
   "source": [
    "### 2. Reverse a Number Using While Loop\n",
    "- Take an integer input and reverse it using a while loop.\n"
   ]
  },
  {
   "cell_type": "code",
   "execution_count": 80,
   "id": "f74259dc-be0c-439d-aed7-e45b8ae5bc44",
   "metadata": {},
   "outputs": [
    {
     "name": "stdin",
     "output_type": "stream",
     "text": [
      "Enter number:  1234\n"
     ]
    },
    {
     "name": "stdout",
     "output_type": "stream",
     "text": [
      "Reversed Number: 4321\n"
     ]
    }
   ],
   "source": [
    "num = int(input(\"Enter number: \"))\n",
    "rev = 0\n",
    "rem = 0\n",
    "while num != 0:\n",
    "    rem = num % 10\n",
    "    rev = rev*10 + rem\n",
    "    num = num // 10\n",
    "print(f\"Reversed Number: {rev}\")"
   ]
  },
  {
   "cell_type": "markdown",
   "id": "d934b3d4-bdcb-4c7f-a687-5b64e2883e3c",
   "metadata": {},
   "source": [
    "### 3. Print Fibonacci Series up to N terms using Loop\n",
    "- Ask the user for a number n, and print the first n terms of the Fibonacci sequence using a for loop."
   ]
  },
  {
   "cell_type": "code",
   "execution_count": 85,
   "id": "3eaa92b9-094b-43a6-a4d3-501862b9617e",
   "metadata": {},
   "outputs": [
    {
     "name": "stdin",
     "output_type": "stream",
     "text": [
      "Enter number:  5\n"
     ]
    },
    {
     "name": "stdout",
     "output_type": "stream",
     "text": [
      "0, 1, 1, 2, 3, "
     ]
    }
   ],
   "source": [
    "n = int(input(\"Enter number: \"))\n",
    "a,b = 0,1\n",
    "for _ in range(n):\n",
    "    print(a,end = \", \")\n",
    "    a,b = b, a+b"
   ]
  },
  {
   "cell_type": "markdown",
   "id": "fb4a71ca-2175-4276-a5d1-feeb931d40d0",
   "metadata": {},
   "source": [
    "### 4. Pattern Printing – Number Pyramid\n",
    "- Print the following pattern using nested loops:\n",
    "    - 1\n",
    "    - 1 2\n",
    "    - 1 2 3\n",
    "    - 1 2 3 4\n"
   ]
  },
  {
   "cell_type": "code",
   "execution_count": 93,
   "id": "1b17b835-8ba1-4bb6-97b3-d24d686d549f",
   "metadata": {},
   "outputs": [
    {
     "name": "stdin",
     "output_type": "stream",
     "text": [
      "Enter number of rows:  4\n"
     ]
    },
    {
     "name": "stdout",
     "output_type": "stream",
     "text": [
      "1 \n",
      "1 2 \n",
      "1 2 3 \n",
      "1 2 3 4 \n"
     ]
    }
   ],
   "source": [
    "rows = int(input(\"Enter number of rows: \"))\n",
    "for rows in range(1,rows + 1):\n",
    "    for cols  in range(1,rows + 1):\n",
    "        print(cols,end=\" \")\n",
    "    print()\n",
    "    "
   ]
  },
  {
   "cell_type": "code",
   "execution_count": null,
   "id": "c3a11578-d2cc-4134-bdb4-ab52a0b18027",
   "metadata": {},
   "outputs": [],
   "source": []
  }
 ],
 "metadata": {
  "kernelspec": {
   "display_name": "Python 3 (ipykernel)",
   "language": "python",
   "name": "python3"
  },
  "language_info": {
   "codemirror_mode": {
    "name": "ipython",
    "version": 3
   },
   "file_extension": ".py",
   "mimetype": "text/x-python",
   "name": "python",
   "nbconvert_exporter": "python",
   "pygments_lexer": "ipython3",
   "version": "3.12.7"
  }
 },
 "nbformat": 4,
 "nbformat_minor": 5
}
