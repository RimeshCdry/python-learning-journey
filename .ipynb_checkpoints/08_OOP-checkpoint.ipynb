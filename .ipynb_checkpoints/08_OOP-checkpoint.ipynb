{
 "cells": [
  {
   "cell_type": "markdown",
   "id": "cfc88d9f-c9d3-426c-9539-fd432d1368af",
   "metadata": {},
   "source": [
    "### 🧠 Day 15: Introduction to OOP (Classes, Objects, __init__, Attributes)"
   ]
  },
  {
   "cell_type": "markdown",
   "id": "0a12f370-88ad-4419-9fa6-e37dfd79425f",
   "metadata": {},
   "source": [
    "### 1. Create a class Person with attributes name and age. Create two objects and print their info."
   ]
  },
  {
   "cell_type": "code",
   "execution_count": 1,
   "id": "1258be0a-4c64-4d32-a244-331d7632b8de",
   "metadata": {},
   "outputs": [],
   "source": [
    "class Person:\n",
    "    name = \"\"\n",
    "    age = 0\n",
    "    def __init__(self,name,age):\n",
    "        self.name = name\n",
    "        self.age = age\n",
    "    def display_info(self):\n",
    "        print(f\"Name: {self.name} and Age: {self.age}\")\n",
    "        "
   ]
  },
  {
   "cell_type": "code",
   "execution_count": 2,
   "id": "49ae3ced-ee74-42d5-8207-0713391288a1",
   "metadata": {},
   "outputs": [
    {
     "name": "stdout",
     "output_type": "stream",
     "text": [
      "Name: Rimesh and Age: 20\n",
      "Name: Rishikant and Age: 21\n"
     ]
    }
   ],
   "source": [
    "person1= Person(\"Rimesh\", 20)\n",
    "person2 = Person(\"Rishikant\", 21)\n",
    "\n",
    "person1.display_info()\n",
    "person2.display_info()"
   ]
  },
  {
   "cell_type": "markdown",
   "id": "d9094a0e-f8ef-4f70-8c48-246eb325adbc",
   "metadata": {},
   "source": [
    "### 2. Define a class Laptop with attributes brand, ram, and price. Create a method details() to display them."
   ]
  },
  {
   "cell_type": "code",
   "execution_count": 3,
   "id": "bf2a794f-6339-4655-9a7d-d210ac0d0362",
   "metadata": {},
   "outputs": [],
   "source": [
    "class Laptop:\n",
    "    def __init__(self,brand,ram, price):\n",
    "        self.brand = brand\n",
    "        self.ram = ram\n",
    "        self.price = price\n",
    "\n",
    "    def details(self):\n",
    "        print(f\"Brand: {self.brand}\")\n",
    "        print(f\"Ram: {self.ram}GB\")\n",
    "        print(f\"Price: Rs.{self.price}\")"
   ]
  },
  {
   "cell_type": "code",
   "execution_count": 4,
   "id": "daee5feb-0a40-4fae-8096-cf5d924feb6d",
   "metadata": {},
   "outputs": [
    {
     "name": "stdout",
     "output_type": "stream",
     "text": [
      "Brand: Asus\n",
      "Ram: 16GB\n",
      "Price: Rs.160000\n"
     ]
    }
   ],
   "source": [
    "laptop = Laptop(\"Asus\", 16,160_000)\n",
    "laptop.details()"
   ]
  },
  {
   "cell_type": "markdown",
   "id": "863e329c-157a-42c2-995d-9fda1448aabc",
   "metadata": {},
   "source": [
    "### 3. Create a class Rectangle with attributes length and width. Add a method to compute area."
   ]
  },
  {
   "cell_type": "code",
   "execution_count": 5,
   "id": "d2b2be96-269f-4f47-b5cf-e5d125cb1c0c",
   "metadata": {},
   "outputs": [],
   "source": [
    "class Rectangle:\n",
    "    def __init__(self,length,width): # constructor\n",
    "        self.length = length\n",
    "        self.width = width\n",
    "        \n",
    "    def calculate_area(self): # method to compute the area of rectangle\n",
    "        return self.length * self.width"
   ]
  },
  {
   "cell_type": "code",
   "execution_count": 6,
   "id": "c941666c-ed63-4c79-bcf8-2ed6dcd8f918",
   "metadata": {},
   "outputs": [
    {
     "name": "stdin",
     "output_type": "stream",
     "text": [
      "Enter length:  5\n",
      "Enter width:  6\n"
     ]
    },
    {
     "name": "stdout",
     "output_type": "stream",
     "text": [
      "The area of rectangle is 30\n"
     ]
    }
   ],
   "source": [
    "l = int(input(\"Enter length: \"))\n",
    "w = int(input(\"Enter width: \"))\n",
    "r1 = Rectangle(l,w)\n",
    "print(f\"The area of rectangle is {r1.calculate_area()}\")"
   ]
  },
  {
   "cell_type": "markdown",
   "id": "22352762-2f2a-4f5f-9823-b0809bb40ef8",
   "metadata": {},
   "source": [
    "### 4. Create a class Movie with title, director, and rating attributes. Use __init__() to initialize them and display info."
   ]
  },
  {
   "cell_type": "code",
   "execution_count": 7,
   "id": "afff25f3-a79e-4d2f-8a10-21a24bfe4529",
   "metadata": {},
   "outputs": [],
   "source": [
    "class Movie:\n",
    "    def __init__(self, title, director, rating):\n",
    "        self.title = title\n",
    "        self.director = director\n",
    "        self.rating = rating\n",
    "\n",
    "    def display_info(self):\n",
    "        print(f\"Movie: {self.title}\")\n",
    "        print(f\"Directed by: {self.director}\")\n",
    "        print(f\"Rating: {self.rating}\")"
   ]
  },
  {
   "cell_type": "code",
   "execution_count": 8,
   "id": "effb31fe-a2a6-4a30-9922-a1acd6e606ac",
   "metadata": {},
   "outputs": [
    {
     "name": "stdout",
     "output_type": "stream",
     "text": [
      "Movie: The Programmer\n",
      "Directed by: Programer\n",
      "Rating: 8.5\n"
     ]
    }
   ],
   "source": [
    "movie1 = Movie(\"The Programmer\",\"Programer\", 8.5)\n",
    "movie1.display_info()"
   ]
  },
  {
   "cell_type": "markdown",
   "id": "ba96fcf3-9d12-41ea-bd3e-96b8776314e4",
   "metadata": {},
   "source": [
    "### 5. Create a class Employee with a class attribute company_name, and instance attributes name and salary. Show how class vs instance attributes work."
   ]
  },
  {
   "cell_type": "code",
   "execution_count": 9,
   "id": "a8a014a1-1589-49a6-bb8d-4bcda7840d9c",
   "metadata": {},
   "outputs": [],
   "source": [
    "class Employee:\n",
    "    company_name = \"Hamro Sewa\" # class attribute shared by all employee untill changed !\n",
    "    def __init__(self,name,salary):\n",
    "        self.name = name # instance attribute (unique for each employee)\n",
    "        self.salary = salary # instance attributes (unique for each employee)\n",
    "    def show_details(self):\n",
    "        print(f\"{self.name} works in {self.company_name} company and has salary ${self.salary}.\")"
   ]
  },
  {
   "cell_type": "code",
   "execution_count": 10,
   "id": "76bc41f2-9111-4f2a-9e5a-168662ea8dff",
   "metadata": {},
   "outputs": [
    {
     "name": "stdout",
     "output_type": "stream",
     "text": [
      "Rimesh works in Hamro Sewa company and has salary $2000.\n",
      "Rishikant works in Hamro Sewa company and has salary $2100.\n"
     ]
    }
   ],
   "source": [
    "emp1 = Employee(\"Rimesh\", 2_000)\n",
    "emp2 = Employee(\"Rishikant\",2_100)\n",
    "emp1.show_details()\n",
    "emp2.show_details()"
   ]
  },
  {
   "cell_type": "code",
   "execution_count": 11,
   "id": "d3f8329a-649a-427d-835b-9ef4fef938c9",
   "metadata": {},
   "outputs": [
    {
     "name": "stdout",
     "output_type": "stream",
     "text": [
      "Rimesh works in Hamro Solution company and has salary $2000.\n",
      "Rishikant works in Hamro Solution company and has salary $2100.\n"
     ]
    }
   ],
   "source": [
    "# changing class attribute (company_name)\n",
    "Employee.company_name = \"Hamro Solution\"\n",
    "emp1.show_details()\n",
    "emp2.show_details()"
   ]
  },
  {
   "cell_type": "code",
   "execution_count": 12,
   "id": "714fbd20-3247-4cd6-bb66-1bf2f01c79a9",
   "metadata": {},
   "outputs": [
    {
     "name": "stdout",
     "output_type": "stream",
     "text": [
      "Rimesh works in Microsoft Corporation company and has salary $2000.\n",
      "Rishikant works in Hamro Solution company and has salary $2100.\n"
     ]
    }
   ],
   "source": [
    "# but if we change the instance attributes then it will only changed for the particular employee only \n",
    "emp1.company_name = \"Microsoft Corporation\"\n",
    "emp1.show_details()\n",
    "emp2.show_details()"
   ]
  },
  {
   "cell_type": "code",
   "execution_count": 13,
   "id": "f249ea16-96f8-40fd-bafa-b70eba62f8cb",
   "metadata": {},
   "outputs": [
    {
     "data": {
      "text/plain": [
       "'Hamro Solution'"
      ]
     },
     "execution_count": 13,
     "metadata": {},
     "output_type": "execute_result"
    }
   ],
   "source": [
    "Employee.company_name "
   ]
  },
  {
   "cell_type": "code",
   "execution_count": 14,
   "id": "e998bf39-c45c-47d4-b05b-fd792b30a066",
   "metadata": {},
   "outputs": [],
   "source": [
    "# as we can see there is permanent change happened in class attribute 'company_name'\n",
    "# firstly it was 'Hamro Sewa ' \n",
    "# after change it becomes 'Hamro Solution'"
   ]
  },
  {
   "cell_type": "markdown",
   "id": "a639277d-0725-4302-ab1b-943aad3f29dc",
   "metadata": {},
   "source": [
    "# xx---------------------------------------------------------------------xx"
   ]
  },
  {
   "cell_type": "markdown",
   "id": "c5a44fed-6450-4aee-a25d-fe09cee4de5d",
   "metadata": {},
   "source": [
    "### 🧠 Day 16: Methods and self\n"
   ]
  },
  {
   "cell_type": "markdown",
   "id": "4eedd4bf-06c4-4ba3-a6cf-7a5171847091",
   "metadata": {},
   "source": [
    "### 1. Create a class Calculator with methods add(), subtract(), and multiply(). Each should take two numbers."
   ]
  },
  {
   "cell_type": "code",
   "execution_count": 15,
   "id": "c4ca430f-f93e-4453-90e9-2094d8d6066e",
   "metadata": {},
   "outputs": [],
   "source": [
    "class Calculator:\n",
    "    def __init__(self, num1, num2):\n",
    "        self.num1 = num1 # assigning value passed as parameter to the instance attribute\n",
    "        self.num2 = num2 \n",
    "\n",
    "    def add(self):\n",
    "        return self.num1 + self.num2\n",
    "    def subtract(self):\n",
    "        return self.num1 - self.num2\n",
    "    def multiply(self):\n",
    "        return self.num1 * self.num2\n",
    "    def divide(self):\n",
    "        try :\n",
    "            result = self.num1/self.num2\n",
    "        except ZeroDivisionError as e:\n",
    "            print(f\"Error: {e}\")\n",
    "        else:\n",
    "            return result"
   ]
  },
  {
   "cell_type": "code",
   "execution_count": 16,
   "id": "ca50c1e1-746c-4f89-96c5-57abeda79132",
   "metadata": {},
   "outputs": [
    {
     "name": "stdout",
     "output_type": "stream",
     "text": [
      "Addition: 20\n",
      "Subtraction: 10\n",
      "Multiplication: 75\n",
      "Division: 3.0\n"
     ]
    }
   ],
   "source": [
    "calculator1 = Calculator(15,5) # creating a instance and passing parameter as 15 and 5\n",
    "print(\"Addition:\", calculator1.add()) # accessing 'add' method using the instance 'calculator1'\n",
    "print(\"Subtraction:\", calculator1.subtract())\n",
    "print(\"Multiplication:\", calculator1.multiply())\n",
    "print(\"Division:\", calculator1.divide())"
   ]
  },
  {
   "cell_type": "markdown",
   "id": "da74c90f-24ab-4998-930b-e1f8c694a026",
   "metadata": {},
   "source": [
    "### 2. Create a class BankAccount with methods to deposit(), withdraw() and check_balance()."
   ]
  },
  {
   "cell_type": "code",
   "execution_count": 17,
   "id": "bb6a1fdb-ecff-47bc-8c12-f020dba99c85",
   "metadata": {},
   "outputs": [],
   "source": [
    "class BankAccount:\n",
    "    def __init__(self,balance):\n",
    "        self.balance = balance\n",
    "\n",
    "    def deposit(self,amount):\n",
    "        self.balance += amount\n",
    "        print(f\"${amount} added to your account.\")\n",
    "\n",
    "    def withdraw(self,amount):\n",
    "        self.balance -= amount\n",
    "        print(f\"${amount} withdraw from your account.\")\n",
    "        \n",
    "    def check_balance(self):\n",
    "        print(f\"Your current balance is  ${self.balance} \")"
   ]
  },
  {
   "cell_type": "code",
   "execution_count": 18,
   "id": "47358730-6bbd-44b2-a947-bfc9b9a009a7",
   "metadata": {},
   "outputs": [
    {
     "name": "stdout",
     "output_type": "stream",
     "text": [
      "$1500 added to your account.\n"
     ]
    }
   ],
   "source": [
    "acc1 = BankAccount(7800)\n",
    "acc1.deposit(1500)"
   ]
  },
  {
   "cell_type": "code",
   "execution_count": 19,
   "id": "07f4f5ff-b166-4fad-9e46-1d2b7d1c6333",
   "metadata": {},
   "outputs": [
    {
     "name": "stdout",
     "output_type": "stream",
     "text": [
      "Your current balance is  $9300 \n"
     ]
    }
   ],
   "source": [
    "acc1.check_balance()"
   ]
  },
  {
   "cell_type": "code",
   "execution_count": 20,
   "id": "55960cfe-e244-4d5a-982e-0741058f628f",
   "metadata": {},
   "outputs": [
    {
     "name": "stdout",
     "output_type": "stream",
     "text": [
      "$500 withdraw from your account.\n"
     ]
    }
   ],
   "source": [
    "acc1.withdraw(500)"
   ]
  },
  {
   "cell_type": "code",
   "execution_count": 21,
   "id": "4a774a97-82eb-4bdf-baa3-b84ba179d8be",
   "metadata": {},
   "outputs": [
    {
     "name": "stdout",
     "output_type": "stream",
     "text": [
      "Your current balance is  $8800 \n"
     ]
    }
   ],
   "source": [
    "acc1.check_balance()"
   ]
  },
  {
   "cell_type": "markdown",
   "id": "8b152fa5-4683-403d-8f5e-4b14fd287722",
   "metadata": {},
   "source": [
    "### 3. Simulate method overloading in Python using default values in a method greet(name=None)."
   ]
  },
  {
   "cell_type": "code",
   "execution_count": 22,
   "id": "b532e2b1-6f91-4ba7-ad1f-234ed333f3ec",
   "metadata": {},
   "outputs": [
    {
     "name": "stdout",
     "output_type": "stream",
     "text": [
      "Hello!\n",
      "Hello, Rimesh!\n"
     ]
    }
   ],
   "source": [
    "class Greeter:\n",
    "    def greet(self, name=None):\n",
    "        if name is not None:\n",
    "            print(f\"Hello, {name}!\")\n",
    "        else:\n",
    "            print(\"Hello!\")\n",
    "\n",
    "# Create an object\n",
    "g = Greeter()\n",
    "\n",
    "# Call the method in two different ways\n",
    "g.greet()          # Simulates greet() with no arguments\n",
    "g.greet(\"Rimesh\")  # Simulates greet(name)\n"
   ]
  },
  {
   "cell_type": "markdown",
   "id": "82c16681-ce36-4ed6-9b96-b0c9ef8a8a63",
   "metadata": {},
   "source": [
    "### 4. Create a class Student that accepts variable subjects and marks in __init__() and calculates average in a method. Use *args or **kwargs."
   ]
  },
  {
   "cell_type": "code",
   "execution_count": 23,
   "id": "c73e7183-c4ee-45da-a2b6-b6bda2a63f62",
   "metadata": {},
   "outputs": [],
   "source": [
    "class Student:\n",
    "    total = 0\n",
    "    def __init__(self,student,**marks):\n",
    "        self.student = student\n",
    "        self.marks = marks\n",
    "\n",
    "    def cal_average(self):\n",
    "        if self.marks:\n",
    "            total = sum(self.marks.values())\n",
    "            average = total/len(self.marks)\n",
    "            return average\n",
    "        else:\n",
    "            return 0\n",
    "\n",
    "    def display_details(self):\n",
    "        print(f\"Student Name: {self.student}\")\n",
    "        for subject, mark in self.marks.items():\n",
    "            print(f\"{subject}: {mark}\")\n",
    "        print(f\"Average: {self.cal_average():.2f}\")\n",
    "    "
   ]
  },
  {
   "cell_type": "code",
   "execution_count": 24,
   "id": "12f1175e-4167-4a93-82a3-bcc55b80a7b6",
   "metadata": {},
   "outputs": [],
   "source": [
    "s1= Student(\"Rimesh\", Math= 85, English = 95, Science = 88)"
   ]
  },
  {
   "cell_type": "code",
   "execution_count": 25,
   "id": "98a75f0e-2ac3-4c7a-8b5f-6746d0a5ad45",
   "metadata": {},
   "outputs": [
    {
     "name": "stdout",
     "output_type": "stream",
     "text": [
      "Student Name: Rimesh\n",
      "Math: 85\n",
      "English: 95\n",
      "Science: 88\n",
      "Average: 89.33\n"
     ]
    }
   ],
   "source": [
    "s1.display_details()"
   ]
  },
  {
   "cell_type": "markdown",
   "id": "fe86d9a1-fbfa-469b-9cc4-fcc28c022a27",
   "metadata": {},
   "source": [
    "# xx---------------------------------------------------------------------xx"
   ]
  },
  {
   "cell_type": "markdown",
   "id": "6dad3c6c-3213-449a-bacd-0b111376572f",
   "metadata": {},
   "source": [
    "### 🧠 Day 17: Inheritance and Polymorphism"
   ]
  },
  {
   "cell_type": "markdown",
   "id": "c1eb886c-923a-4682-b034-b8cd39688bb4",
   "metadata": {},
   "source": [
    "### 1. Create a base class Animal with method speak(). Create Dog and Cat subclasses that override speak()."
   ]
  },
  {
   "cell_type": "code",
   "execution_count": 26,
   "id": "2d3cf8d5-e6e5-4ba7-bc5a-614b429defe6",
   "metadata": {},
   "outputs": [],
   "source": [
    "class Animal: # super class\n",
    "    def speak(self):\n",
    "        print(\"This animal makes sound.\")\n",
    "\n",
    "# Subclass Dog\n",
    "class Dog(Animal): \n",
    "    def speak(self):\n",
    "        print(\"Bow Bow\")\n",
    "\n",
    "# Subclass Cat\n",
    "class Cat(Animal):\n",
    "    def speak(self):\n",
    "        print(\"Meow Meow\")"
   ]
  },
  {
   "cell_type": "code",
   "execution_count": 27,
   "id": "81e7876e-bc7f-4f19-8114-8cfbd963052f",
   "metadata": {},
   "outputs": [
    {
     "name": "stdout",
     "output_type": "stream",
     "text": [
      "This animal makes sound.\n",
      "Bow Bow\n",
      "Meow Meow\n"
     ]
    }
   ],
   "source": [
    "animal1 = Animal()\n",
    "dog1 = Dog()\n",
    "cat1 = Cat()\n",
    "animal1.speak()\n",
    "dog1.speak()\n",
    "cat1.speak()"
   ]
  },
  {
   "cell_type": "markdown",
   "id": "3a11e569-a4c5-491e-b98d-bef4866cfc3c",
   "metadata": {},
   "source": [
    "### 2. Use single inheritance to inherit properties from class Vehicle to Car."
   ]
  },
  {
   "cell_type": "code",
   "execution_count": 28,
   "id": "fa4e42d2-32b0-49c5-b2e2-53c794ac2d0e",
   "metadata": {},
   "outputs": [],
   "source": [
    "class Vehicle:\n",
    "    wheel = 4\n",
    "    door = 2\n",
    "    seat = 4\n",
    "    steering = 1\n",
    "\n",
    "    def print_detail(self):\n",
    "        print(f\"Wheel: {self.wheel}\")\n",
    "        print(f\"Door: {self.door}\")\n",
    "        print(f\"Seat: {self.seat}\")\n",
    "        print(f\"steering: {self.steering}\")\n",
    "\n",
    "class Car(Vehicle):\n",
    "    pass\n",
    "\n",
    "\n",
    "    "
   ]
  },
  {
   "cell_type": "code",
   "execution_count": 29,
   "id": "6690c268-0e1d-4134-9047-53a2e3adc4f1",
   "metadata": {},
   "outputs": [
    {
     "name": "stdout",
     "output_type": "stream",
     "text": [
      "Wheel: 4\n",
      "Door: 2\n",
      "Seat: 4\n",
      "steering: 1\n"
     ]
    }
   ],
   "source": [
    "car = Car()\n",
    "car.print_detail()"
   ]
  },
  {
   "cell_type": "code",
   "execution_count": 30,
   "id": "84bc1d61-b70e-4969-9c1c-886ae41ce859",
   "metadata": {},
   "outputs": [],
   "source": [
    "# Base class\n",
    "class Vehicle:\n",
    "    def __init__(self, brand, model):\n",
    "        self.brand = brand\n",
    "        self.model = model\n",
    "\n",
    "    def show_info(self):\n",
    "        print(f\"Brand: {self.brand}, Model: {self.model}\")\n",
    "\n",
    "# Derived class\n",
    "class Car(Vehicle):\n",
    "    def __init__(self, brand, model, doors):\n",
    "        super().__init__(brand, model)  # Call parent constructor\n",
    "        self.doors = doors\n",
    "\n",
    "    def show_car_info(self):\n",
    "        self.show_info()\n",
    "        print(f\"Number of Doors: {self.doors}\")\n"
   ]
  },
  {
   "cell_type": "code",
   "execution_count": 31,
   "id": "3d1fedc8-9e81-4122-90a1-18d1ae3f31f7",
   "metadata": {},
   "outputs": [
    {
     "name": "stdout",
     "output_type": "stream",
     "text": [
      "Brand: Toyota, Model: Corolla\n",
      "Number of Doors: 4\n"
     ]
    }
   ],
   "source": [
    "c1 = Car(\"Toyota\", \"Corolla\", 4)\n",
    "c1.show_car_info()"
   ]
  },
  {
   "cell_type": "markdown",
   "id": "c963013a-70c4-4e95-939e-9b7ec723ccd2",
   "metadata": {},
   "source": [
    "### 3. Create a class Shape with a method area(). Inherit it in Circle, Square, and Triangle and override the method accordingly."
   ]
  },
  {
   "cell_type": "code",
   "execution_count": 32,
   "id": "cd8006e3-67fa-4b69-9eb1-b7561ec8dd13",
   "metadata": {},
   "outputs": [],
   "source": [
    "import math\n",
    "\n",
    "class Shape: # Parent Class: Shape\n",
    "    def __init__(self):\n",
    "        pass\n",
    "\n",
    "class Circle(Shape): # Base Class\n",
    "    def __init__(self,radius):\n",
    "        self.radius = radius\n",
    "\n",
    "    def area(self):\n",
    "        return math.pi * self.radius ** 2\n",
    "\n",
    "class Square(Shape):\n",
    "    def __init__(self,side):\n",
    "        self.side = side\n",
    "\n",
    "    def area(self):\n",
    "        return self.side**2\n",
    "\n",
    "class Triangle(Shape):\n",
    "    def __init__(self, base,height):\n",
    "        self.base = base\n",
    "        self.height = height\n",
    "\n",
    "    def area(self):\n",
    "        return 0.5 * self.base * self.height"
   ]
  },
  {
   "cell_type": "code",
   "execution_count": 33,
   "id": "ab95d7cd-9334-4def-ae18-3f3b0ef19490",
   "metadata": {},
   "outputs": [
    {
     "name": "stdout",
     "output_type": "stream",
     "text": [
      "Circle Area: 78.54\n",
      "Square Area: 16\n",
      "Triangle Area: 9.0\n"
     ]
    }
   ],
   "source": [
    "c = Circle(5)\n",
    "s = Square(4)\n",
    "t = Triangle(6, 3)\n",
    "\n",
    "print(f\"Circle Area: {c.area():.2f}\")\n",
    "print(f\"Square Area: {s.area()}\")\n",
    "print(f\"Triangle Area: {t.area()}\")"
   ]
  },
  {
   "cell_type": "markdown",
   "id": "c73ec79c-fc51-454c-87c7-7a0b94d34f85",
   "metadata": {},
   "source": [
    "### 4. Create a multiple inheritance example: Person inherits from Employee and Athlete. Initialize all parent classes."
   ]
  },
  {
   "cell_type": "code",
   "execution_count": 34,
   "id": "2c338a1d-969e-4d77-98d4-689733302981",
   "metadata": {},
   "outputs": [],
   "source": [
    "class Employee:\n",
    "    def __init__(self,job_title,salary):\n",
    "        self.job_title = job_title\n",
    "        self.salary = salary\n",
    "\n",
    "    def show_employee_info(self):\n",
    "        print(f\"Job Title: {self.job_title} \\nSalary: ${self.salary}\")\n",
    "\n",
    "class Athlete:\n",
    "    def __init__(self,sports,medal):\n",
    "        self.sports = sports\n",
    "        self.medal = medal\n",
    "\n",
    "    def show_athlete_info(self):\n",
    "        print(f\"Sports: {self.sports}, Medals: {self.medal}\")\n",
    "\n",
    "class Person(Employee, Athlete):\n",
    "    def __init__(self,name,age,job_title,salary,sports,medal):\n",
    "        Employee.__init__(self,job_title,salary)\n",
    "        Athlete.__init__(self,sports,medal)\n",
    "        self.name = name\n",
    "        self.age = age\n",
    "\n",
    "    def show_person_info(self):\n",
    "        print(f\"Name: {self.name}, Age: {self.age}\")\n",
    "        self.show_employee_info()\n",
    "        self.show_athlete_info()"
   ]
  },
  {
   "cell_type": "code",
   "execution_count": 35,
   "id": "613d8288-82c4-4657-8c5a-b7de2c43b787",
   "metadata": {},
   "outputs": [
    {
     "name": "stdout",
     "output_type": "stream",
     "text": [
      "Name: Rimesh, Age: 22\n",
      "Job Title: Data Scientist \n",
      "Salary: $50000\n",
      "Sports: Football, Medals: 5\n"
     ]
    }
   ],
   "source": [
    "p = Person(\"Rimesh\", 22, \"Data Scientist\", 50000, \"Football\", 5)\n",
    "p.show_person_info()"
   ]
  },
  {
   "cell_type": "markdown",
   "id": "d419293d-c5cc-407b-bc19-e2e7ef3f295a",
   "metadata": {},
   "source": [
    "### 5. Write a function introduce(obj) that works polymorphically with different class objects like Student, Teacher, Admin. Each has its own introduce() method.\n",
    "\n"
   ]
  },
  {
   "cell_type": "code",
   "execution_count": 36,
   "id": "f0c5433a-c879-413d-92e4-71404ec7fadf",
   "metadata": {},
   "outputs": [],
   "source": [
    "def introduce(obj):\n",
    "    obj.introduce()"
   ]
  },
  {
   "cell_type": "code",
   "execution_count": 37,
   "id": "aa2ea870-b12c-43d1-a758-3c6be42d2075",
   "metadata": {},
   "outputs": [],
   "source": [
    "class Student:\n",
    "    def introduce(self):\n",
    "        print(\"I am a student.\")\n",
    "\n",
    "class Teacher:\n",
    "    def introduce(self):\n",
    "        print(\"I am a teacher.\")\n",
    "\n",
    "class Admin:\n",
    "    def introduce(self):\n",
    "        print(\"I am a Admin.\")"
   ]
  },
  {
   "cell_type": "code",
   "execution_count": 41,
   "id": "cb276bea-5fe0-46fe-804d-8cc242311828",
   "metadata": {},
   "outputs": [
    {
     "name": "stdout",
     "output_type": "stream",
     "text": [
      "I am a student.\n",
      "I am a teacher.\n",
      "I am a Admin.\n"
     ]
    }
   ],
   "source": [
    "s = Student()\n",
    "t = Teacher()\n",
    "a = Admin()\n",
    "\n",
    "introduce(s) # call student class method\n",
    "introduce(t) # call Teacher class method\n",
    "introduce(a) # call Admin class method"
   ]
  },
  {
   "cell_type": "code",
   "execution_count": null,
   "id": "e8a0cca9-1e76-475f-a821-3f76e2b398fd",
   "metadata": {},
   "outputs": [],
   "source": []
  }
 ],
 "metadata": {
  "kernelspec": {
   "display_name": "Python 3 (ipykernel)",
   "language": "python",
   "name": "python3"
  },
  "language_info": {
   "codemirror_mode": {
    "name": "ipython",
    "version": 3
   },
   "file_extension": ".py",
   "mimetype": "text/x-python",
   "name": "python",
   "nbconvert_exporter": "python",
   "pygments_lexer": "ipython3",
   "version": "3.12.7"
  }
 },
 "nbformat": 4,
 "nbformat_minor": 5
}
