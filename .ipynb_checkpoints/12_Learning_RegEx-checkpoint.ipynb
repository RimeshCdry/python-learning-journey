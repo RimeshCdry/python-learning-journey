{
 "cells": [
  {
   "cell_type": "markdown",
   "id": "bd696396-4edf-4c09-ac97-32b5c4792fb3",
   "metadata": {},
   "source": [
    "## 🧪 Beginner Practice Questions\n"
   ]
  },
  {
   "cell_type": "markdown",
   "id": "05ea4c1d-f405-4563-bfe6-41fae3e17723",
   "metadata": {},
   "source": [
    "### 🔹 1. Match a 10-digit Indian phone number\n"
   ]
  },
  {
   "cell_type": "code",
   "execution_count": 31,
   "id": "67498852-b4ed-479f-8271-5ae641faa7f9",
   "metadata": {},
   "outputs": [],
   "source": [
    "import re"
   ]
  },
  {
   "cell_type": "code",
   "execution_count": 32,
   "id": "d549ca84-9bc7-4c7b-8f96-80de329c0e19",
   "metadata": {},
   "outputs": [
    {
     "name": "stdout",
     "output_type": "stream",
     "text": [
      "Phone number found: ['9876543210', '9857665512', '9815635845']\n"
     ]
    }
   ],
   "source": [
    "text = \"Call me at 9876543210, 9857665512,9815635845\"\n",
    "pattern = r\"\\d{10}\"\n",
    "match = re.findall(pattern,text)\n",
    "print(f\"Phone number found: {match}\")"
   ]
  },
  {
   "cell_type": "code",
   "execution_count": 33,
   "id": "aea55488-db68-45c4-bd3b-afc7445392fe",
   "metadata": {},
   "outputs": [
    {
     "name": "stdout",
     "output_type": "stream",
     "text": [
      "Phone number found: 9876543210\n"
     ]
    }
   ],
   "source": [
    "text = \"Call me at 9876543210\"\n",
    "pattern = r\"\\d{10}\"\n",
    "match = re.search(pattern,text)\n",
    "print(f\"Phone number found: {match.group()}\")"
   ]
  },
  {
   "cell_type": "markdown",
   "id": "1b383894-bdcc-48fb-8a34-2ad0b85f19de",
   "metadata": {},
   "source": [
    "### 🔹 2. Validate an email address\n"
   ]
  },
  {
   "cell_type": "code",
   "execution_count": 34,
   "id": "6eece75c-1e63-4309-90a8-a7be7f00bdbd",
   "metadata": {},
   "outputs": [],
   "source": [
    "import re\n",
    "def is_email_valid(email):\n",
    "    pattern = r'^[\\w.-]{3,}+@[\\w]{2,}+\\.\\w{2,}$' # username@gmail.com\n",
    "    match = re.search(pattern,email)\n",
    "    return True if match else False"
   ]
  },
  {
   "cell_type": "code",
   "execution_count": 35,
   "id": "aeb07f4f-b2f1-4eb9-b81f-3e6553e5b8b3",
   "metadata": {},
   "outputs": [
    {
     "data": {
      "text/plain": [
       "True"
      ]
     },
     "execution_count": 35,
     "metadata": {},
     "output_type": "execute_result"
    }
   ],
   "source": [
    "is_email_valid(\"r78@gmail.com\")"
   ]
  },
  {
   "cell_type": "code",
   "execution_count": 36,
   "id": "f3915476-d5d8-44fb-8663-8144d1e56625",
   "metadata": {},
   "outputs": [
    {
     "data": {
      "text/plain": [
       "False"
      ]
     },
     "execution_count": 36,
     "metadata": {},
     "output_type": "execute_result"
    }
   ],
   "source": [
    "is_email_valid(\"j@d.c\")"
   ]
  },
  {
   "cell_type": "code",
   "execution_count": 37,
   "id": "c901c4d1-d201-441d-bbd4-bc9469655369",
   "metadata": {},
   "outputs": [
    {
     "data": {
      "text/plain": [
       "False"
      ]
     },
     "execution_count": 37,
     "metadata": {},
     "output_type": "execute_result"
    }
   ],
   "source": [
    "is_email_valid(\"jo@do.co\")"
   ]
  },
  {
   "cell_type": "code",
   "execution_count": 38,
   "id": "6b3fab8c-22e7-4585-b8bf-fec531e3357c",
   "metadata": {},
   "outputs": [
    {
     "data": {
      "text/plain": [
       "True"
      ]
     },
     "execution_count": 38,
     "metadata": {},
     "output_type": "execute_result"
    }
   ],
   "source": [
    "is_email_valid(\"john.doe@gmail.com\")"
   ]
  },
  {
   "cell_type": "markdown",
   "id": "9d54ed09-36ba-4dbe-b828-00e4e54c68c2",
   "metadata": {},
   "source": [
    "### 🔹 3. Extract all hashtags from a tweet\n"
   ]
  },
  {
   "cell_type": "code",
   "execution_count": 53,
   "id": "6c985c51-aeeb-410c-a609-48520fcb4b89",
   "metadata": {},
   "outputs": [],
   "source": [
    "import re\n",
    "def extract_hashtags(tweet):\n",
    "    pattern = r\"#\\w+\"\n",
    "    return re.findall(pattern,tweet,flags=re.UNICODE)"
   ]
  },
  {
   "cell_type": "code",
   "execution_count": 54,
   "id": "47992e70-d4ac-40e7-99fe-29c76112c1b5",
   "metadata": {},
   "outputs": [
    {
     "data": {
      "text/plain": [
       "['#Python', '#Regex', '#100DaysOfCode']"
      ]
     },
     "execution_count": 54,
     "metadata": {},
     "output_type": "execute_result"
    }
   ],
   "source": [
    "extract_hashtags(\"Learning #Python with #Regex is fun! #100DaysOfCode\")"
   ]
  },
  {
   "cell_type": "markdown",
   "id": "e39dcddf-2afc-4136-824b-61b112f0246d",
   "metadata": {},
   "source": [
    "### 🔹 4. Extract all numbers from a string\n"
   ]
  },
  {
   "cell_type": "code",
   "execution_count": 56,
   "id": "79591a10-6af8-4128-8a33-c560e481f8b8",
   "metadata": {},
   "outputs": [],
   "source": [
    "def extract_number(string):\n",
    "    pattern =r\"\\d+\"\n",
    "    return re.findall(pattern,string)"
   ]
  },
  {
   "cell_type": "code",
   "execution_count": 59,
   "id": "652dfc34-fe21-47cf-9ec9-e10b9bf78cbc",
   "metadata": {},
   "outputs": [
    {
     "data": {
      "text/plain": [
       "['2', '5', '100']"
      ]
     },
     "execution_count": 59,
     "metadata": {},
     "output_type": "execute_result"
    }
   ],
   "source": [
    "string = \"I bought 2 apples and 5 bananas for 100 rupees.\"\n",
    "extract_number(string)"
   ]
  },
  {
   "cell_type": "markdown",
   "id": "aa00fc61-0568-4d85-81a2-abe147250122",
   "metadata": {},
   "source": [
    "### 🔹 5. Match a date in `dd-mm-yyyy` format\n",
    "- Pattern: 2 digits, dash, 2 digits, dash, 4 digits"
   ]
  },
  {
   "cell_type": "code",
   "execution_count": 118,
   "id": "2ba23955-7a6b-4377-8420-8fa1d67a14ca",
   "metadata": {},
   "outputs": [],
   "source": [
    "def extract_date(string):\n",
    "    pattern = r\"\\d{2}-\\d{2}-\\d{4}\"\n",
    "    match = re.search(pattern,string)\n",
    "    return match.group() if match else None"
   ]
  },
  {
   "cell_type": "code",
   "execution_count": 73,
   "id": "9daa0d15-a82d-490e-bf12-1dda40a5ac17",
   "metadata": {},
   "outputs": [
    {
     "data": {
      "text/plain": [
       "'26-06-2025'"
      ]
     },
     "execution_count": 73,
     "metadata": {},
     "output_type": "execute_result"
    }
   ],
   "source": [
    "string = \"Today's date is 26-06-2025\"\n",
    "extract_date(string)"
   ]
  },
  {
   "cell_type": "markdown",
   "id": "78466b5e-867b-4352-83e5-82bade7a3512",
   "metadata": {},
   "source": [
    "### 🔹 6. Validate a password\n",
    "- Password must be:\n",
    "    - At least 8 characters long\n",
    "    - Contain at least one letter\n",
    "    - Contain at least one digit\n",
    "    - Contain at least one special character (@$!%*#?&)"
   ]
  },
  {
   "cell_type": "code",
   "execution_count": 75,
   "id": "180223bc-2083-4d2a-b3ff-febbc6902ad5",
   "metadata": {},
   "outputs": [],
   "source": [
    "def is_password_valid(password):\n",
    "    pattern = r\"^(?=.*[A-Za-z])(?=.*\\d)(?=.*[$@!%^*&#])[A-Za-z\\d@$!%*#?&]{8,}$\"\n",
    "    return bool(re.fullmatch(pattern, password)) "
   ]
  },
  {
   "cell_type": "code",
   "execution_count": 76,
   "id": "11850007-4427-4790-ba23-184a5d8b91fe",
   "metadata": {},
   "outputs": [
    {
     "data": {
      "text/plain": [
       "False"
      ]
     },
     "execution_count": 76,
     "metadata": {},
     "output_type": "execute_result"
    }
   ],
   "source": [
    "is_password_valid('abcdefgh')"
   ]
  },
  {
   "cell_type": "code",
   "execution_count": 78,
   "id": "eba05f4e-f444-4fe3-b7aa-52e5786d0b1d",
   "metadata": {},
   "outputs": [
    {
     "data": {
      "text/plain": [
       "True"
      ]
     },
     "execution_count": 78,
     "metadata": {},
     "output_type": "execute_result"
    }
   ],
   "source": [
    "is_password_valid('A1b2@c3d')"
   ]
  },
  {
   "cell_type": "code",
   "execution_count": 80,
   "id": "f4cd31b6-448f-4837-a5cf-db01d80e8483",
   "metadata": {},
   "outputs": [
    {
     "data": {
      "text/plain": [
       "False"
      ]
     },
     "execution_count": 80,
     "metadata": {},
     "output_type": "execute_result"
    }
   ],
   "source": [
    "is_password_valid('Abcd!efg')"
   ]
  },
  {
   "cell_type": "code",
   "execution_count": 81,
   "id": "e4b7cf64-5f8c-4dd9-b97a-d9a168ac8da4",
   "metadata": {},
   "outputs": [
    {
     "data": {
      "text/plain": [
       "False"
      ]
     },
     "execution_count": 81,
     "metadata": {},
     "output_type": "execute_result"
    }
   ],
   "source": [
    "is_password_valid(\"weak_password\")"
   ]
  },
  {
   "cell_type": "code",
   "execution_count": 83,
   "id": "aa0ffdda-ba25-4da1-9e7f-f2e8f8568ffb",
   "metadata": {},
   "outputs": [
    {
     "data": {
      "text/plain": [
       "True"
      ]
     },
     "execution_count": 83,
     "metadata": {},
     "output_type": "execute_result"
    }
   ],
   "source": [
    "is_password_valid(\"A@1bcdefghijklmn\")"
   ]
  },
  {
   "cell_type": "markdown",
   "id": "3bd428a7-e180-4d29-a612-69497c414506",
   "metadata": {},
   "source": [
    "### 🔹 7. Find all words starting with capital letters\n"
   ]
  },
  {
   "cell_type": "code",
   "execution_count": 102,
   "id": "e55ab371-9b98-4433-b1ec-a90c19c927a0",
   "metadata": {},
   "outputs": [],
   "source": [
    "def find_captized_word(text):\n",
    "    pattern = r\"\\b[A-Z][a-zA-Z0-9_]*\\b\" # here i have set boundary betn first letter\n",
    "    # and others using '\\b'\n",
    "    \n",
    "    return re.findall(pattern, text)"
   ]
  },
  {
   "cell_type": "code",
   "execution_count": 103,
   "id": "d39860b6-ce13-4b33-898e-3321b9d8ce7d",
   "metadata": {},
   "outputs": [
    {
     "data": {
      "text/plain": [
       "['I', 'London', 'NewYork']"
      ]
     },
     "execution_count": 103,
     "metadata": {},
     "output_type": "execute_result"
    }
   ],
   "source": [
    "text = \"I visited London and NewYork last year.\"\n",
    "find_captized_word(text)"
   ]
  },
  {
   "cell_type": "markdown",
   "id": "1f7920bb-0f16-4036-94e0-d673a0b36664",
   "metadata": {},
   "source": [
    "### 🔹 8. Split a sentence into words (handling multiple spaces)\n"
   ]
  },
  {
   "cell_type": "code",
   "execution_count": 109,
   "id": "29e5ed8d-2bd9-447e-b2bb-71d86826fdb6",
   "metadata": {},
   "outputs": [],
   "source": [
    "def split_into_word(sentence):\n",
    "    pattern = r\"\\w+|[^\\s\\w]\"\n",
    "    return re.findall(pattern,sentence)"
   ]
  },
  {
   "cell_type": "code",
   "execution_count": 110,
   "id": "f4bf35fc-9ad1-4841-be03-e36bf949fab1",
   "metadata": {},
   "outputs": [
    {
     "data": {
      "text/plain": [
       "['This', 'is', 'a', 'spaced', 'sentence']"
      ]
     },
     "execution_count": 110,
     "metadata": {},
     "output_type": "execute_result"
    }
   ],
   "source": [
    "sentence = \"This is a spaced sentence\"\n",
    "split_into_word(sentence)"
   ]
  },
  {
   "cell_type": "markdown",
   "id": "9cc87616-0062-40d7-be99-5dd4cff671ec",
   "metadata": {},
   "source": [
    "### 🔹 9. Remove all special characters from a string\n"
   ]
  },
  {
   "cell_type": "code",
   "execution_count": 116,
   "id": "eebdbf54-f0ee-4680-a48f-731d69dd9078",
   "metadata": {},
   "outputs": [],
   "source": [
    "def remove_special_character(string):\n",
    "    pattern = r\"[^\\w\\s]\" # keep letters, digits, underscores, and whitespace\n",
    "    return re.sub(pattern, \"\", string)"
   ]
  },
  {
   "cell_type": "code",
   "execution_count": 117,
   "id": "07b00fd2-3b03-4f0f-afae-cbdcb111b5fd",
   "metadata": {},
   "outputs": [
    {
     "data": {
      "text/plain": [
       "'HelloWorld Howareyou'"
      ]
     },
     "execution_count": 117,
     "metadata": {},
     "output_type": "execute_result"
    }
   ],
   "source": [
    "remove_special_character(\"Hello@World! How#are$you?\")"
   ]
  },
  {
   "cell_type": "markdown",
   "id": "ab4fd38a-215b-4e98-95f8-af16a1f66369",
   "metadata": {},
   "source": [
    "### 🔹 10. Extract file names ending with `.jpg`, `.png`, or `.gif`?"
   ]
  },
  {
   "cell_type": "code",
   "execution_count": 123,
   "id": "65351d06-c081-4397-85ae-32239420c5ad",
   "metadata": {},
   "outputs": [],
   "source": [
    "def extract_image_filenames(text):\n",
    "     pattern = r\"\\b\\w+\\.(?:jpg|png|gif)\\b\"\n",
    "     return re.findall(pattern,text)"
   ]
  },
  {
   "cell_type": "code",
   "execution_count": 124,
   "id": "24aaa587-e0ef-4205-a3f8-131825f7125f",
   "metadata": {},
   "outputs": [
    {
     "name": "stdout",
     "output_type": "stream",
     "text": [
      "['cat.jpg', 'dog.png', 'logo.gif']\n"
     ]
    }
   ],
   "source": [
    "text = \"Here are some images: cat.jpg, dog.png, logo.gif, readme.txt, banner.JPG\"\n",
    "print(extract_image_filenames(text))\n"
   ]
  },
  {
   "cell_type": "code",
   "execution_count": null,
   "id": "afe1a8fa-60ba-44d7-b2cb-4abb17260503",
   "metadata": {},
   "outputs": [],
   "source": []
  }
 ],
 "metadata": {
  "kernelspec": {
   "display_name": "Python 3 (ipykernel)",
   "language": "python",
   "name": "python3"
  },
  "language_info": {
   "codemirror_mode": {
    "name": "ipython",
    "version": 3
   },
   "file_extension": ".py",
   "mimetype": "text/x-python",
   "name": "python",
   "nbconvert_exporter": "python",
   "pygments_lexer": "ipython3",
   "version": "3.12.7"
  }
 },
 "nbformat": 4,
 "nbformat_minor": 5
}
