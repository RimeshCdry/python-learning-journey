{
 "cells": [
  {
   "cell_type": "markdown",
   "id": "b4f378e2-39c3-459a-a832-f58b49ef05d6",
   "metadata": {},
   "source": [
    "### 🔷 1. Merge Dictionaries and Keep Highest Value\n",
    "- You are given a list of dictionaries:\n",
    "    - dicts = [\n",
    "    {'math': 70, 'science': 65},\n",
    "    {'math': 80, 'science': 60, 'english': 75},\n",
    "    {'math': 78, '|english': 85}\n",
    "]\n",
    "\n",
    "- Task: Merge them into one dictionary, keeping the highest value for each key."
   ]
  },
  {
   "cell_type": "code",
   "execution_count": 1,
   "id": "6e7127cd-0d28-49a1-bc4a-b23ead651703",
   "metadata": {},
   "outputs": [
    {
     "name": "stdout",
     "output_type": "stream",
     "text": [
      "{'math': 80, 'science': 65, 'english': 85}\n"
     ]
    }
   ],
   "source": [
    " dicts = [\n",
    "    {'math': 70, 'science': 65},\n",
    "    {'math': 80, 'science': 60, 'english': 75},\n",
    "    {'math': 78, 'english': 85}\n",
    "]\n",
    "\n",
    "merged_dict ={}\n",
    "\n",
    "for d in dicts:\n",
    "    for key,value in d.items():\n",
    "        if key not in merged_dict:\n",
    "            merged_dict[key] = value\n",
    "        elif value > merged_dict[key]:\n",
    "            merged_dict[key] = value\n",
    "\n",
    "print(merged_dict)"
   ]
  },
  {
   "cell_type": "markdown",
   "id": "16618a87-f602-4ec4-84d7-b77db3a93c54",
   "metadata": {},
   "source": [
    "### 🔷 2. Detect Anagrams Using a Dictionary\n",
    "- Given a list of words:\n",
    "    - words = [\"listen\", \"silent\", \"enlist\", \"hello\", \"below\", \"elbow\"]\n",
    "- Task: Group them into a dictionary where keys are the sorted letters and values are lists of anagrams.\n",
    "\n",
    "- Output:\n",
    "    - {'eilnst': ['listen', 'silent', 'enlist'], 'ehllo': ['hello'], 'below': ['below', 'elbow']}\n"
   ]
  },
  {
   "cell_type": "code",
   "execution_count": 2,
   "id": "fb0d19d9-e3b6-4b0b-997c-5a4cb26a7416",
   "metadata": {},
   "outputs": [
    {
     "name": "stdout",
     "output_type": "stream",
     "text": [
      "{'eilnst': ['listen', 'silent', 'enlist'], 'ehllo': ['hello'], 'below': ['below', 'elbow']}\n"
     ]
    }
   ],
   "source": [
    "words = [\"listen\", \"silent\", \"enlist\", \"hello\", \"below\", \"elbow\"]\n",
    "anagrams = {}\n",
    "\n",
    "for word in words:\n",
    "    key = ''.join(sorted(word))\n",
    "    if key not in anagrams:\n",
    "        anagrams[key] = [word]\n",
    "    else:\n",
    "        anagrams[key].append(word)\n",
    "print(anagrams)"
   ]
  },
  {
   "cell_type": "markdown",
   "id": "f2a49913-e22f-42ab-aca7-7c95d3a3c75f",
   "metadata": {},
   "source": [
    "### 🔷 3. Convert Nested List to Nested Dictionary\n",
    "- Given:\n",
    "    - pairs = [[\"a\", \"b\", 1], [\"a\", \"c\", 2], [\"d\", \"e\", 3]]\n",
    "- Output:\n",
    "    - {'a': {'b': 1, 'c': 2}, 'd': {'e': 3}}"
   ]
  },
  {
   "cell_type": "code",
   "execution_count": 11,
   "id": "fe9e6d5b-c073-4ad0-be78-af810eb9975b",
   "metadata": {},
   "outputs": [
    {
     "name": "stdout",
     "output_type": "stream",
     "text": [
      "{'a': {'c': 2}, 'd': {'e': 3}}\n"
     ]
    }
   ],
   "source": [
    "pairs = [[\"a\", \"b\", 1], [\"a\", \"c\", 2], [\"d\", \"e\", 3]]\n",
    "dicts = {}\n",
    "for key1,key2,value in pairs:\n",
    "    if key2 not in dicts:\n",
    "        dicts[key1] = {}\n",
    "    dicts[key1][key2] = value\n",
    "    \n",
    "print(dicts)"
   ]
  },
  {
   "cell_type": "markdown",
   "id": "a262b569-8969-4b87-a2bc-7aace5fa1395",
   "metadata": {},
   "source": [
    "### 🔷 4. JSON-like Key Search\n",
    "- Given a nested dictionary:\n",
    "    -  data = {\n",
    "    \"a\": {\n",
    "        \"b\": {\n",
    "            \"c\": 42\n",
    "        }\n",
    "    },\n",
    "    \"x\": 99\n",
    "}\n",
    "- Task: Write a function get_value(data, key_path) such that:\n",
    "    - get_value(data, \"a.b.c\") → 42  \n",
    "    - get_value(data, \"x\") → 99  \n",
    "\n"
   ]
  },
  {
   "cell_type": "code",
   "execution_count": 12,
   "id": "b398e19a-b6fc-4b0f-9948-82859e46a96f",
   "metadata": {},
   "outputs": [],
   "source": [
    "data = {\n",
    "    \"a\": {\n",
    "        \"b\": {\n",
    "            \"c\": 42\n",
    "        }\n",
    "    },\n",
    "    \"x\": 99\n",
    "}\n"
   ]
  },
  {
   "cell_type": "code",
   "execution_count": 19,
   "id": "be9843a9-ac16-4c60-b599-88c5780b28c3",
   "metadata": {},
   "outputs": [],
   "source": [
    "def get_value(dicts, key_path):\n",
    "    keys = key_path.split('.') # split string by dot into list of keys\n",
    "    current = dicts\n",
    "    for key in keys:\n",
    "        if key in current:\n",
    "            current = current[key] # Go deeper\n",
    "        else:\n",
    "            return None # key not found\n",
    "    return current\n",
    "\n"
   ]
  },
  {
   "cell_type": "code",
   "execution_count": 20,
   "id": "24751cdc-1926-4760-84fb-d1cb1763b738",
   "metadata": {},
   "outputs": [
    {
     "name": "stdout",
     "output_type": "stream",
     "text": [
      "The value: 42\n"
     ]
    }
   ],
   "source": [
    "print(f\"The value: {get_value(data,\"a.b.c\")}\")"
   ]
  },
  {
   "cell_type": "markdown",
   "id": "8d67d0cc-fdc1-4fb3-9404-2af3961c9f24",
   "metadata": {},
   "source": [
    "### 🔷 6. Nested Dictionary Sum with Key Filtering\n",
    "- Given:\n",
    "    - data = {\n",
    "    \"user1\": {\"math\": 70, \"science\": 80},\n",
    "    \"user2\": {\"math\": 90, \"english\": 70},\n",
    "    \"user3\": {\"science\": 60, \"english\": 80}\n",
    "}\n",
    "- Task: Calculate the total score per subject across all users.\n"
   ]
  },
  {
   "cell_type": "code",
   "execution_count": 27,
   "id": "c9e72b51-83e1-42e1-b06d-b17df1c287ed",
   "metadata": {},
   "outputs": [
    {
     "name": "stdout",
     "output_type": "stream",
     "text": [
      "Total score: {'math': 160, 'science': 140, 'english': 150} \n"
     ]
    }
   ],
   "source": [
    "data = {\n",
    "    \"user1\": {\"math\": 70, \"science\": 80},\n",
    "    \"user2\": {\"math\": 90, \"english\": 70},\n",
    "    \"user3\": {\"science\": 60, \"english\": 80}\n",
    "}\n",
    "\n",
    "total_score = {}\n",
    "for _,value in data.items():\n",
    "    for sub, mark in value.items():\n",
    "        if sub not in total_score:\n",
    "            total_score[sub] = mark\n",
    "        else:\n",
    "            total_score[sub] += mark\n",
    "print(f\"Total score: {total_score} \")"
   ]
  },
  {
   "cell_type": "markdown",
   "id": "f326d8a8-1933-4165-86eb-df75a8987e39",
   "metadata": {},
   "source": [
    "### 🔷 7. Frequency Map of Tuples\n",
    "- Given a list of tuples:\n",
    "    - data = [(\"A\", 1), (\"B\", 2), (\"A\", 1), (\"A\", 2), (\"B\", 2)]\n",
    "- Task: Count the number of times each tuple occurs. Output as a dictionary."
   ]
  },
  {
   "cell_type": "code",
   "execution_count": 29,
   "id": "b24e0cbe-48f0-423c-9ad8-eb9159ec90b9",
   "metadata": {},
   "outputs": [],
   "source": [
    "data = [(\"A\", 1), (\"B\", 2), (\"A\", 1), (\"A\", 2), (\"B\", 2)]\n",
    "frequency_counter ={}\n",
    "for t in data:\n",
    "    # print(t)\n",
    "    if t in frequency_counter:\n",
    "        frequency_counter[t] += 1\n",
    "    else: \n",
    "        frequency_counter[t] = 1"
   ]
  },
  {
   "cell_type": "code",
   "execution_count": 31,
   "id": "06d2583c-9945-4b5b-aae2-123277471860",
   "metadata": {},
   "outputs": [
    {
     "name": "stdout",
     "output_type": "stream",
     "text": [
      "The number of times each tuple occurs: \n",
      "{('A', 1): 2, ('B', 2): 2, ('A', 2): 1}\n"
     ]
    }
   ],
   "source": [
    "print(f\"The number of times each tuple occurs: \\n{frequency_counter}\")"
   ]
  },
  {
   "cell_type": "markdown",
   "id": "a2d66c3b-8e0c-4561-9fd8-e27ab06cd88d",
   "metadata": {},
   "source": [
    "### 🔷 8. Recursive Key Count\n",
    "- Given a deeply nested dictionary, count how many keys exist at any depth.\n",
    "\n"
   ]
  },
  {
   "cell_type": "code",
   "execution_count": 34,
   "id": "3caa1600-a9dc-4d52-8c01-1f3b5b0e1a49",
   "metadata": {},
   "outputs": [],
   "source": [
    "data = {\n",
    "    \"a\": {\n",
    "        \"b\": {\n",
    "            \"c\": 1,\n",
    "            \"d\": 2\n",
    "        },\n",
    "        \"e\": 3\n",
    "    },\n",
    "    \"f\": 4\n",
    "}\n",
    "def count_keys(data):\n",
    "    total_count = 0\n",
    "    for key, value in data.items():\n",
    "        total_count += 1 # count the current key\n",
    "        if isinstance(value,dict):\n",
    "            total_count += count_keys(value)\n",
    "    return total_count\n",
    "    "
   ]
  },
  {
   "cell_type": "code",
   "execution_count": 35,
   "id": "69e10820-6c58-49ce-bdd9-f8e126a8e4f0",
   "metadata": {},
   "outputs": [
    {
     "name": "stdout",
     "output_type": "stream",
     "text": [
      "6\n"
     ]
    }
   ],
   "source": [
    "print(count_keys(data))"
   ]
  },
  {
   "cell_type": "code",
   "execution_count": null,
   "id": "2e6d9f32-6635-4dc0-96c5-4db27c2ddaff",
   "metadata": {},
   "outputs": [],
   "source": []
  }
 ],
 "metadata": {
  "kernelspec": {
   "display_name": "Python 3 (ipykernel)",
   "language": "python",
   "name": "python3"
  },
  "language_info": {
   "codemirror_mode": {
    "name": "ipython",
    "version": 3
   },
   "file_extension": ".py",
   "mimetype": "text/x-python",
   "name": "python",
   "nbconvert_exporter": "python",
   "pygments_lexer": "ipython3",
   "version": "3.12.7"
  }
 },
 "nbformat": 4,
 "nbformat_minor": 5
}
