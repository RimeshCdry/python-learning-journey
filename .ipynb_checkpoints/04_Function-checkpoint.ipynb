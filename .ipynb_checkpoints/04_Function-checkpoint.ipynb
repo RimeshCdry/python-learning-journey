{
 "cells": [
  {
   "cell_type": "markdown",
   "id": "261351af-cdde-455b-bcc2-504d2d7a4bd7",
   "metadata": {},
   "source": [
    "### Day 11: Recursion Basics"
   ]
  },
  {
   "cell_type": "markdown",
   "id": "c9414be6-5e1d-45f8-90dc-caf844cc4748",
   "metadata": {},
   "source": [
    "### 1. Write a recursive function to calculate factorial of a number."
   ]
  },
  {
   "cell_type": "code",
   "execution_count": 1,
   "id": "5cd4829f-f6c8-42a3-9380-8426f9341be4",
   "metadata": {},
   "outputs": [],
   "source": [
    "def find_factorial(num):\n",
    "    if num <= 1:\n",
    "        return 1\n",
    "    return num * find_factorial(num - 1) "
   ]
  },
  {
   "cell_type": "code",
   "execution_count": 2,
   "id": "a379d9ba-9b16-44a0-a852-fe3ca7309a85",
   "metadata": {},
   "outputs": [
    {
     "data": {
      "text/plain": [
       "120"
      ]
     },
     "execution_count": 2,
     "metadata": {},
     "output_type": "execute_result"
    }
   ],
   "source": [
    "find_factorial(5)"
   ]
  },
  {
   "cell_type": "markdown",
   "id": "d38b37d0-a216-46fc-b474-8b295e4ee1c4",
   "metadata": {},
   "source": [
    "### 2. Write a recursive function to generate Fibonacci series up to n terms."
   ]
  },
  {
   "cell_type": "code",
   "execution_count": 4,
   "id": "01b6b823-4908-4f49-8102-f94ea9226ce9",
   "metadata": {},
   "outputs": [],
   "source": [
    "def generate_fibonacci(num):\n",
    "    if num <= 0:\n",
    "        return []\n",
    "    elif num == 1:\n",
    "        return [0]\n",
    "    elif num == 2:\n",
    "        return [0,1]\n",
    "    else:\n",
    "        series = generate_fibonacci(num - 1)\n",
    "        next_term = series[-1] + series[-2]\n",
    "        series.append(next_term)\n",
    "        return series"
   ]
  },
  {
   "cell_type": "code",
   "execution_count": 6,
   "id": "7d714660-4305-4b59-bdf7-79c834b4e199",
   "metadata": {},
   "outputs": [
    {
     "name": "stdout",
     "output_type": "stream",
     "text": [
      "Fibonacci Series: [0, 1, 1, 2, 3]\n"
     ]
    }
   ],
   "source": [
    "print(f\"Fibonacci Series: {generate_fibonacci(5)}\")"
   ]
  },
  {
   "cell_type": "markdown",
   "id": "1ffa7e98-2961-4bfb-b37e-8a22a359f9b2",
   "metadata": {},
   "source": [
    "### 3. Write a recursive function to reverse a string. "
   ]
  },
  {
   "cell_type": "code",
   "execution_count": 8,
   "id": "a440eb84-97f8-4489-8411-f0f41c288612",
   "metadata": {},
   "outputs": [],
   "source": [
    "def reverse_string(string):# Rimesh\n",
    "    if len(string) <= 1:\n",
    "        return string\n",
    "    return string[1:] + string[0] "
   ]
  },
  {
   "cell_type": "code",
   "execution_count": 10,
   "id": "f5f843e5-82d9-491c-aecc-459b0e98eb09",
   "metadata": {},
   "outputs": [
    {
     "name": "stdout",
     "output_type": "stream",
     "text": [
      "python -> ythonp\n"
     ]
    }
   ],
   "source": [
    "string = 'python'\n",
    "print(f\"{string} -> {reverse_string(string)}\")"
   ]
  },
  {
   "cell_type": "markdown",
   "id": "17bbbce0-accf-4df7-bb31-91ff1a9fdfa3",
   "metadata": {},
   "source": [
    "### 4. Write a recursive function to calculate the sum of digits of a number. "
   ]
  },
  {
   "cell_type": "code",
   "execution_count": 11,
   "id": "78c8f87c-f0ce-429e-8199-f3defa9fa634",
   "metadata": {},
   "outputs": [],
   "source": [
    "def cal_sum(num):\n",
    "    if num == 0:\n",
    "        return 0\n",
    "    return (num%10) + cal_sum(num // 10)"
   ]
  },
  {
   "cell_type": "code",
   "execution_count": 17,
   "id": "5b1c4b8b-f365-4d90-92fb-56bbf6c3678c",
   "metadata": {},
   "outputs": [
    {
     "data": {
      "text/plain": [
       "15"
      ]
     },
     "execution_count": 17,
     "metadata": {},
     "output_type": "execute_result"
    }
   ],
   "source": [
    "cal_sum(573)"
   ]
  },
  {
   "cell_type": "markdown",
   "id": "3df8c76d-c1e2-4a75-a250-59de43d72188",
   "metadata": {},
   "source": [
    "### 5. Try writing a recursive function to calculate power (e.g., power(2, 3) → 8). \n"
   ]
  },
  {
   "cell_type": "code",
   "execution_count": 24,
   "id": "f274d3f0-4680-47dc-8518-a16b9f5f598c",
   "metadata": {},
   "outputs": [],
   "source": [
    "def cal_power(num,power):\n",
    "    if power == 0:\n",
    "        return 1\n",
    "    return num * cal_power(num,power - 1)"
   ]
  },
  {
   "cell_type": "code",
   "execution_count": 25,
   "id": "241b578f-8dfe-4f62-b731-9e965d22b799",
   "metadata": {},
   "outputs": [
    {
     "data": {
      "text/plain": [
       "8"
      ]
     },
     "execution_count": 25,
     "metadata": {},
     "output_type": "execute_result"
    }
   ],
   "source": [
    "cal_power(2,3)"
   ]
  },
  {
   "cell_type": "code",
   "execution_count": null,
   "id": "0de867f2-a901-4ad3-89b8-d144ee647630",
   "metadata": {},
   "outputs": [],
   "source": []
  }
 ],
 "metadata": {
  "kernelspec": {
   "display_name": "Python 3 (ipykernel)",
   "language": "python",
   "name": "python3"
  },
  "language_info": {
   "codemirror_mode": {
    "name": "ipython",
    "version": 3
   },
   "file_extension": ".py",
   "mimetype": "text/x-python",
   "name": "python",
   "nbconvert_exporter": "python",
   "pygments_lexer": "ipython3",
   "version": "3.12.7"
  }
 },
 "nbformat": 4,
 "nbformat_minor": 5
}
