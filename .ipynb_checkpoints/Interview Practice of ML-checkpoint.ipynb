{
 "cells": [
  {
   "cell_type": "markdown",
   "id": "4ba1ef64-37fb-4086-85c2-dfee9de92126",
   "metadata": {},
   "source": [
    "### ✅ String Practice Questions"
   ]
  },
  {
   "cell_type": "markdown",
   "id": "f29bb7e0-028d-486c-815a-acfc981e6b61",
   "metadata": {},
   "source": [
    "#### 1. Write a Python program to:\n",
    "\n",
    " - Convert all letters of the string to uppercase using .upper()\n",
    "\n",
    " - Convert all letters to lowercase using .lower()"
   ]
  },
  {
   "cell_type": "code",
   "execution_count": 1,
   "id": "7403e1c9-ba72-4092-9f79-543c7359025f",
   "metadata": {},
   "outputs": [
    {
     "name": "stdout",
     "output_type": "stream",
     "text": [
      "Upper Case : WELCOME TO PYTHON PROGRAMMING\n",
      "Lower Case : welcome to python programming\n"
     ]
    }
   ],
   "source": [
    "text = \"Welcome to Python Programming\"\n",
    "print(f\"Upper Case : {text.upper()}\")\n",
    "print(f\"Lower Case : {text.lower()}\")"
   ]
  },
  {
   "cell_type": "markdown",
   "id": "62f14c48-0a69-417c-9838-ee46cefbf75c",
   "metadata": {},
   "source": [
    "#### 2. Count Substring Occurrence\n",
    "- Count how many times the word \"data\" appears in the following string using .count()."
   ]
  },
  {
   "cell_type": "code",
   "execution_count": 10,
   "id": "7b29c32c-bdcd-43bf-8f0f-81f3d1f49aa8",
   "metadata": {},
   "outputs": [
    {
     "name": "stdout",
     "output_type": "stream",
     "text": [
      "data appears: 3\n"
     ]
    }
   ],
   "source": [
    "s = \"Data is the new oil. Data drives decisions. Data is everywhere.\"\n",
    "print(f\"data appears: {s.lower().count(\"data\")}\")"
   ]
  },
  {
   "cell_type": "markdown",
   "id": "4d46398f-e8ff-469d-a9d7-e32d16bbb0e9",
   "metadata": {},
   "source": [
    "#### 3. Find a Word’s Position\n",
    "- Use the .find() method to get the index of the first occurrence of \"Python\" in the string."
   ]
  },
  {
   "cell_type": "code",
   "execution_count": 11,
   "id": "3f187e29-acbb-48ec-8b0b-dfdaa13516dd",
   "metadata": {},
   "outputs": [
    {
     "name": "stdout",
     "output_type": "stream",
     "text": [
      "The position of Python is 9\n"
     ]
    }
   ],
   "source": [
    "sentence = \"Learning Python is fun because Python is powerful.\"\n",
    "print(f\"The position of Python is {sentence.find(\"Python\")}\")"
   ]
  },
  {
   "cell_type": "markdown",
   "id": "0c295784-cb00-4eb4-be01-88082381528b",
   "metadata": {},
   "source": [
    "#### 4. Check Start and End\n",
    " - Use .startswith() and .endswith() to check:\n",
    "\n",
    " - Does the string start with \"Hello\"?\n",
    "\n",
    " - Does the string end with \"world!\"?"
   ]
  },
  {
   "cell_type": "code",
   "execution_count": 14,
   "id": "d9d2a88a-739b-4ae9-8b38-e7d1db83180d",
   "metadata": {},
   "outputs": [
    {
     "name": "stdout",
     "output_type": "stream",
     "text": [
      "Yes the string starts with Hello \n",
      "Yes the string ends with world! \n"
     ]
    }
   ],
   "source": [
    "msg = \"Hello, welcome to the world!\"\n",
    "if msg.startswith(\"Hello\"):\n",
    "    print(f\"Yes the string starts with Hello \")\n",
    "if msg.endswith(\"world!\"):\n",
    "    print(f\"Yes the string ends with world! \")"
   ]
  },
  {
   "cell_type": "markdown",
   "id": "65161b5e-72c9-4d43-82bf-b5b201485bb4",
   "metadata": {},
   "source": [
    "#### 5. Remove Extra Spaces\n",
    " - Use .strip(), .lstrip(), and .rstrip() to clean the following string:"
   ]
  },
  {
   "cell_type": "code",
   "execution_count": 19,
   "id": "f2e5d314-574e-4751-ac6f-0474a73bb513",
   "metadata": {},
   "outputs": [
    {
     "name": "stdout",
     "output_type": "stream",
     "text": [
      "string with removed extra space from left: Python is awesome!    \n",
      "string with removed extra space from right:    Python is awesome!\n",
      "string with removed extra space: Python is awesome!\n"
     ]
    }
   ],
   "source": [
    "line = \"   Python is awesome!    \"\n",
    "print(f\"string with removed extra space from left: {line.lstrip()}\")\n",
    "print(f\"string with removed extra space from right: {line.rstrip()}\")\n",
    "print(f\"string with removed extra space: {line.strip()}\")"
   ]
  },
  {
   "cell_type": "markdown",
   "id": "a2e4a06b-97fd-4fe5-93b5-92d74ffddcdc",
   "metadata": {},
   "source": [
    "#### 6. Check Character Type\n",
    " - Given this string:\n",
    "   - info = \"Python3\"\n",
    " - Use:\n",
    "\n",
    "    - isalpha() to check if it contains only alphabets\n",
    "\n",
    "    - isdigit() to check if it contains only digits\n",
    "\n",
    "    - isalnum() to check if it's alphanumeric"
   ]
  },
  {
   "cell_type": "code",
   "execution_count": 23,
   "id": "a805f23d-4c5b-49b5-bb7e-45c461d42bf7",
   "metadata": {},
   "outputs": [
    {
     "name": "stdout",
     "output_type": "stream",
     "text": [
      "The given string contain Alphanumeric\n"
     ]
    }
   ],
   "source": [
    "info = \"Python3\"\n",
    "if info.isalpha():\n",
    "    print(\"The given string contain only Alphabet.\")\n",
    "elif info.isdigit():\n",
    "    print(\"The given string contain only Digits\")\n",
    "else:\n",
    "    print(\"The given string contain Alphanumeric\")"
   ]
  },
  {
   "cell_type": "markdown",
   "id": "c1966d5c-18e7-4e1b-8904-f635d3319f03",
   "metadata": {},
   "source": [
    "#### 7. Replace Words\n",
    "- Replace \"C++\" with \"Python\" using .replace()."
   ]
  },
  {
   "cell_type": "code",
   "execution_count": 26,
   "id": "c12bd0b3-f34b-497e-a68e-74771c2d31c9",
   "metadata": {},
   "outputs": [
    {
     "name": "stdout",
     "output_type": "stream",
     "text": [
      "Before: I love C++ because C++ is fast. \n",
      "After: I love Python because Python is fast.\n"
     ]
    }
   ],
   "source": [
    "lang = \"I love C++ because C++ is fast.\"\n",
    "print(f\"Before: {lang} \")\n",
    "print(f\"After: {lang.replace(\"C++\",\"Python\")}\")"
   ]
  },
  {
   "cell_type": "markdown",
   "id": "eef96cc2-26db-44b4-84a0-fbb943d30fc0",
   "metadata": {},
   "source": [
    "#### 8. Split and Join Words\n",
    "- Split the sentence into words using .split()\n",
    "\n",
    "- Join the list of words using a hyphen (-) using .join()"
   ]
  },
  {
   "cell_type": "code",
   "execution_count": 28,
   "id": "79ec9aae-d2d8-4ee6-a7bc-8cdf210a3393",
   "metadata": {},
   "outputs": [
    {
     "name": "stdout",
     "output_type": "stream",
     "text": [
      "Python-is-easy-to-learn\n"
     ]
    }
   ],
   "source": [
    "sentence = \"Python is easy to learn\"\n",
    "splitted_words = sentence.split()\n",
    "new_sentence = \"-\".join(splitted_words)\n",
    "print(new_sentence)"
   ]
  },
  {
   "cell_type": "markdown",
   "id": "f3720b43-8231-4461-bd92-0fb7e30a1c59",
   "metadata": {},
   "source": [
    "#### 9. Capitalize Words\n",
    "- Use .capitalize() to capitalize the first letter of the string.\n",
    "\n",
    "- Use .title() to capitalize the first letter of each word."
   ]
  },
  {
   "cell_type": "code",
   "execution_count": 29,
   "id": "3333268c-0e2c-4568-a9f2-296f96da9809",
   "metadata": {},
   "outputs": [
    {
     "name": "stdout",
     "output_type": "stream",
     "text": [
      "Capitalize: Machine learning with python\n",
      "Title: Machine Learning With Python\n"
     ]
    }
   ],
   "source": [
    "txt = \"machine learning with python\"\n",
    "print(f\"Capitalize: {txt.capitalize()}\")\n",
    "print(f\"Title: {txt.title()}\")"
   ]
  },
  {
   "cell_type": "markdown",
   "id": "56175804-e84e-4977-bdf7-4b462498bfa8",
   "metadata": {},
   "source": [
    "#### 10. Check for Substring\n",
    "- Use the 'in' keyword or .find() to check if \"ML\" exists in the string."
   ]
  },
  {
   "cell_type": "code",
   "execution_count": 36,
   "id": "4bd8ce20-2716-43d1-875d-3bb2fc64d281",
   "metadata": {},
   "outputs": [
    {
     "data": {
      "text/plain": [
       "'ML exist in the sting'"
      ]
     },
     "execution_count": 36,
     "metadata": {},
     "output_type": "execute_result"
    }
   ],
   "source": [
    "s = \"AI and ML are transforming the world.\"\n",
    "\"ML exist in the sting\" if \"ML\" in s else \"ML Doesn't exist in string\""
   ]
  },
  {
   "cell_type": "code",
   "execution_count": 35,
   "id": "b7d8407a-becc-4350-83e1-a9dfc25775b5",
   "metadata": {},
   "outputs": [
    {
     "name": "stdout",
     "output_type": "stream",
     "text": [
      "ML exists at index: 7\n"
     ]
    }
   ],
   "source": [
    "print(f\"ML exists at index: {s.find(\"ML\")}\")"
   ]
  },
  {
   "cell_type": "markdown",
   "id": "f8348616-94a9-46e0-a546-62431c5cac4c",
   "metadata": {},
   "source": [
    "#### 11. Reverse Words in a Sentence\n",
    "- Split the sentence, reverse the word order, and then join it back."
   ]
  },
  {
   "cell_type": "code",
   "execution_count": 43,
   "id": "ee8db5d7-a56e-4fb9-a7b4-5ba6e5c2c317",
   "metadata": {},
   "outputs": [
    {
     "name": "stdout",
     "output_type": "stream",
     "text": [
      "amazing is Science Data\n"
     ]
    }
   ],
   "source": [
    "sentence = \"Data Science is amazing\"\n",
    "lst_word = sentence.split()\n",
    "print(\" \".join((lst_word[::-1])))"
   ]
  },
  {
   "cell_type": "markdown",
   "id": "bfa7ab66-5bf3-4570-9be8-41e1f8df8cb0",
   "metadata": {},
   "source": [
    "#### 12. Count Vowels Using String Methods\n",
    "- Write a program that:\n",
    "\n",
    "  - Converts the string to lowercase using .lower()\n",
    "\n",
    "  - Counts the total number of vowels (a, e, i, o, u)\n",
    "\n"
   ]
  },
  {
   "cell_type": "code",
   "execution_count": 45,
   "id": "75c24883-eb31-40e1-9303-31dab86e9d15",
   "metadata": {},
   "outputs": [
    {
     "name": "stdout",
     "output_type": "stream",
     "text": [
      "10 vowel presents in the text\n"
     ]
    }
   ],
   "source": [
    "text = \"Artificial Intelligence\"\n",
    "vowels = ['a','e', 'i', 'o', 'u']\n",
    "counts = 0\n",
    "for char in text:\n",
    "    if char.lower() in vowels:\n",
    "        counts += 1\n",
    "\n",
    "print(f\"{counts} vowel presents in the text\")"
   ]
  },
  {
   "cell_type": "markdown",
   "id": "c355942e-5db4-4f58-96d0-e8fa1a43a659",
   "metadata": {},
   "source": [
    "#### 13. Mask Digits in a String\n",
    "- Replace all digits with * using .replace() or a loop + .isdigit()."
   ]
  },
  {
   "cell_type": "code",
   "execution_count": 53,
   "id": "fa6b6db8-d033-4db5-947a-e89837e90141",
   "metadata": {},
   "outputs": [
    {
     "name": "stdout",
     "output_type": "stream",
     "text": [
      "User*** has access to code***\n"
     ]
    }
   ],
   "source": [
    "data = \"User123 has access to code456\"\n",
    "masked = \"\"\n",
    "for char in data:\n",
    "    if char.isdigit():\n",
    "        masked += \"*\"\n",
    "    else:\n",
    "        masked += char\n",
    "\n",
    "print(masked)"
   ]
  },
  {
   "cell_type": "code",
   "execution_count": 57,
   "id": "609f4627-b6c2-408f-aa53-c4ea5059c151",
   "metadata": {},
   "outputs": [
    {
     "name": "stdout",
     "output_type": "stream",
     "text": [
      "User*** has access to code***\n"
     ]
    }
   ],
   "source": [
    "data = \"User123 has access to code456\"\n",
    "for digit in '0123456789':\n",
    "    data = data.replace(digit,\"*\")\n",
    "print(data)"
   ]
  },
  {
   "cell_type": "markdown",
   "id": "d8ec081e-2c42-41dd-9fbe-6c4b7a84298d",
   "metadata": {},
   "source": [
    "14. Validate Password Strength\n",
    "- Check a password string and ensure it:\n",
    "\n",
    "  - Has at least 1 digit using .isdigit()\n",
    "\n",
    "  - Has at least 1 uppercase letter using .isupper()\n",
    "\n",
    "  - Has at least 1 lowercase letter using .islower()"
   ]
  },
  {
   "cell_type": "code",
   "execution_count": 66,
   "id": "f8685c16-d3d8-4bd9-842c-346ed4aacfaa",
   "metadata": {},
   "outputs": [
    {
     "name": "stdin",
     "output_type": "stream",
     "text": [
      "Enter your password:  Text123\n"
     ]
    },
    {
     "name": "stdout",
     "output_type": "stream",
     "text": [
      "Password is good\n"
     ]
    }
   ],
   "source": [
    "password = input(\"Enter your password: \")\n",
    "has_lower = False\n",
    "has_upper = False\n",
    "has_digit = False\n",
    "\n",
    "for char in password:\n",
    "    if char.isdigit():\n",
    "        has_digit = True\n",
    "    elif char.isupper():\n",
    "        has_upper = True\n",
    "    elif char.islower():\n",
    "        has_lower = True\n",
    "    # it make break the code when all values are True{no unnecessary checks}\n",
    "    if has_digit and has_upper and has_lower:\n",
    "        break \n",
    "\n",
    "if has_digit and has_lower and has_upper:\n",
    "    print(\"Password is good\")\n",
    "else:\n",
    "    print(\"Password is bad\")"
   ]
  },
  {
   "cell_type": "markdown",
   "id": "48ccba8a-eb16-4e23-a360-59d26807ac50",
   "metadata": {},
   "source": [
    "#### 15. Word Frequency Counter\n",
    "- Use .split() and .count() to count how many times each word appears."
   ]
  },
  {
   "cell_type": "code",
   "execution_count": 68,
   "id": "0ad9e9da-95dc-4902-9dab-ba5f887d95ac",
   "metadata": {},
   "outputs": [
    {
     "name": "stdout",
     "output_type": "stream",
     "text": [
      "Count of data: 3\n",
      "Count of science: 1\n",
      "Count of data: 3\n",
      "Count of analysis: 1\n",
      "Count of machine: 1\n",
      "Count of learning: 1\n",
      "Count of data: 3\n"
     ]
    }
   ],
   "source": [
    "text = \"data science data analysis machine learning data\"\n",
    "splitted_text = text.split()\n",
    "\n",
    "for word in splitted_text:\n",
    "    print(f\"Count of {word}: {splitted_text.count(word)}\")"
   ]
  },
  {
   "cell_type": "markdown",
   "id": "7793f445-8d09-49d8-8e04-20737422a7ee",
   "metadata": {},
   "source": [
    "#### String Slicing Question\n",
    "- Question:\n",
    "  - Given the string:\n",
    "    - text = \"DataScienceWithPython\"\n",
    "\n",
    "- Write a Python program to:\n",
    "\n",
    "  - Print the first 4 characters.\n",
    "\n",
    "  - Print the last 6 characters.\n",
    "\n",
    "  - Print the characters from index 4 to 10 (inclusive of index 4, exclusive of 10).\n",
    "\n",
    "  - Print every 2nd character from the whole string.\n",
    "\n",
    "  - Reverse the string using slicing."
   ]
  },
  {
   "cell_type": "code",
   "execution_count": 69,
   "id": "1f3c53dc-f8eb-42c0-b7e6-c76e7d3386b4",
   "metadata": {},
   "outputs": [],
   "source": [
    "text = \"DataScienceWithPython\""
   ]
  },
  {
   "cell_type": "code",
   "execution_count": 76,
   "id": "c4a8475e-8841-4449-8bed-d0ade04417f5",
   "metadata": {},
   "outputs": [
    {
     "name": "stdout",
     "output_type": "stream",
     "text": [
      "First 4 Character from text: Data\n",
      "First 6 Character from text: DataSc\n",
      "The characters from index 4 to 10: Scienc\n",
      "Every 2nd character from the whole string: DtSineihyhn\n",
      "Reversing the string: nohtyPhtiWecneicSataD \n"
     ]
    }
   ],
   "source": [
    "print(f\"First 4 Character from text: {text[0:4]}\")\n",
    "print(f\"First 6 Character from text: {text[0:6]}\")\n",
    "print(f\"The characters from index 4 to 10: {text[4:10]}\")\n",
    "print(f\"Every 2nd character from the whole string: {text[::2]}\")\n",
    "print(f\"Reversing the string: {text[::-1]} \")"
   ]
  },
  {
   "cell_type": "markdown",
   "id": "07888be3-8109-445d-82e3-b69f29e9b174",
   "metadata": {},
   "source": [
    "### ✅ List Practice Questions"
   ]
  },
  {
   "cell_type": "markdown",
   "id": "3922c5b8-7bb4-403d-b53f-819f9573c62c",
   "metadata": {},
   "source": [
    "#### 1. Write a Python program to find the second largest number in a list."
   ]
  },
  {
   "cell_type": "code",
   "execution_count": 2,
   "id": "cdea4dfb-0d3f-44ee-8d7c-71a121ef98bc",
   "metadata": {},
   "outputs": [],
   "source": [
    "def second_largest(lst):\n",
    "    if len(lst) < 2:\n",
    "        return \"List must have at least two elements.\"\n",
    "    lst = list(set(lst))\n",
    "    lst.sort(reverse=True)\n",
    "    return lst[1]"
   ]
  },
  {
   "cell_type": "code",
   "execution_count": 4,
   "id": "93908b7e-a840-4e2f-b1b3-8b5e8b7847a5",
   "metadata": {},
   "outputs": [
    {
     "name": "stdout",
     "output_type": "stream",
     "text": [
      "Second largest number is: 14\n"
     ]
    }
   ],
   "source": [
    "lst = [14,1,2,3,45,8,9,10]   \n",
    "print(\"Second largest number is:\", second_largest(lst))"
   ]
  },
  {
   "cell_type": "markdown",
   "id": "2e4b58d7-630d-47b7-ad3d-9940dd2030b1",
   "metadata": {},
   "source": [
    "#### 2. Access Elements by Index\n",
    "- Print the first and last element.\n",
    "\n",
    "- Print the second-to-last element."
   ]
  },
  {
   "cell_type": "code",
   "execution_count": 79,
   "id": "adda188d-c983-435e-a566-87e687a2a8d0",
   "metadata": {},
   "outputs": [
    {
     "name": "stdout",
     "output_type": "stream",
     "text": [
      "The first element of list:  red\n",
      "The last element of list:  yellow\n",
      "Second to last elements: ['blue', 'yellow']\n"
     ]
    }
   ],
   "source": [
    "colors = ['red', 'green', 'blue', 'yellow']\n",
    "print(\"The first element of list: \", colors[0])\n",
    "print(\"The last element of list: \", colors[len(colors) - 1])\n",
    "print(f\"Second to last elements: {colors[(len(colors) - 2):]}\")"
   ]
  },
  {
   "cell_type": "markdown",
   "id": "b2c3d3a4-709e-4250-a38c-7955c3da5c7b",
   "metadata": {},
   "source": [
    "#### 3. List Slicing\n",
    "- Given:\n",
    "\n",
    "  - numbers = [10, 20, 30, 40, 50, 60]\n",
    "\n",
    "- Print the first 3 elements.\n",
    "\n",
    "- Print the last 2 elements.\n",
    "\n",
    "- Reverse the list using slicing."
   ]
  },
  {
   "cell_type": "code",
   "execution_count": 83,
   "id": "be7f1269-c933-4eef-9f85-e45f9e3e9eca",
   "metadata": {},
   "outputs": [
    {
     "name": "stdout",
     "output_type": "stream",
     "text": [
      "First 3 elements:  [10, 20, 30]\n",
      "Last 2 elements:  [50, 60]\n",
      "List Reversed:  [60, 50, 40, 30, 20, 10]\n"
     ]
    }
   ],
   "source": [
    "numbers = [10, 20, 30, 40, 50, 60]\n",
    "print(\"First 3 elements: \",numbers[:3])\n",
    "print(\"Last 2 elements: \", numbers[(len(numbers)-2):])\n",
    "print(\"List Reversed: \", numbers[::-1])"
   ]
  },
  {
   "cell_type": "markdown",
   "id": "7eff0151-26a2-4a94-b214-534207f8cbe6",
   "metadata": {},
   "source": [
    "#### 4. Change an Item\n",
    "- Change the third item in this list to 'cherry':\n",
    "  - fruits = ['apple', 'banana', 'orange']\n"
   ]
  },
  {
   "cell_type": "code",
   "execution_count": 87,
   "id": "0f817c2f-11f8-4a8c-9e4e-f50baa5e56a1",
   "metadata": {},
   "outputs": [
    {
     "name": "stdout",
     "output_type": "stream",
     "text": [
      "List after insert of cherry:  ['apple', 'banana', 'cherry', 'orange']\n"
     ]
    }
   ],
   "source": [
    "fruits = ['apple', 'banana', 'orange']\n",
    "fruits.insert(2,\"cherry\")\n",
    "print(\"List after insert of cherry: \", fruits)"
   ]
  },
  {
   "cell_type": "markdown",
   "id": "5e6e127b-1a55-4c6f-a6d8-f419fdcfc094",
   "metadata": {},
   "source": [
    "#### 5. Add and Remove Items\n",
    "- Using .append() and .remove() on this list:\n",
    "\n",
    " - names = ['Alice', 'Bob', 'Charlie']\n",
    "\n",
    "- Add 'David' to the list\n",
    "\n",
    "- Remove 'Bob' from the list"
   ]
  },
  {
   "cell_type": "code",
   "execution_count": 91,
   "id": "d0cdb17d-6661-47de-8411-35fb4df82b5c",
   "metadata": {},
   "outputs": [
    {
     "name": "stdout",
     "output_type": "stream",
     "text": [
      "Appended List:  ['Alice', 'Bob', 'Charlie', 'David']\n",
      "Updated List:  ['Alice', 'Charlie', 'David']\n"
     ]
    }
   ],
   "source": [
    "names = ['Alice', 'Bob', 'Charlie']\n",
    "# adding David to the list\n",
    "names.append(\"David\")\n",
    "print(\"Appended List: \",names)\n",
    "\n",
    "# removing Bob from the list\n",
    "names.remove(\"Bob\")\n",
    "print(\"Updated List: \", names)"
   ]
  },
  {
   "cell_type": "markdown",
   "id": "73497f95-c206-4708-a47b-02d431f52373",
   "metadata": {},
   "source": [
    "#### 6. List Length\n",
    "- Find the length of this list:\n",
    "     - lst = [3, 5, 7, 9, 11, 13]"
   ]
  },
  {
   "cell_type": "code",
   "execution_count": 92,
   "id": "2eca77bd-de0b-4b26-878b-07def0a9a01f",
   "metadata": {},
   "outputs": [
    {
     "name": "stdout",
     "output_type": "stream",
     "text": [
      "Length of the list:  6\n"
     ]
    }
   ],
   "source": [
    "lst = [3, 5, 7, 9, 11, 13]\n",
    "print(\"Length of the list: \", len(lst))"
   ]
  },
  {
   "cell_type": "markdown",
   "id": "4ca951c9-6bbe-45a7-af80-55d12546d1d7",
   "metadata": {},
   "source": [
    "#### 7. List Concatenation\n",
    "- Combine these two lists into one:\n",
    "  - even = [2, 4, 6]\n",
    "  - odd = [1, 3, 5]"
   ]
  },
  {
   "cell_type": "code",
   "execution_count": 95,
   "id": "fb6598ff-b30b-4a92-b46e-68456268d44d",
   "metadata": {},
   "outputs": [
    {
     "name": "stdout",
     "output_type": "stream",
     "text": [
      "Combined list:  [2, 4, 6, 1, 3, 5]\n"
     ]
    }
   ],
   "source": [
    "even = [2, 4, 6]\n",
    "odd = [1, 3, 5]\n",
    "num = even + odd\n",
    "print(\"Combined list: \", num)"
   ]
  },
  {
   "cell_type": "markdown",
   "id": "2e1d2f75-4e78-49e0-8075-4298b75fa117",
   "metadata": {},
   "source": [
    "#### 8. Sort and Reverse a List\n",
    "- Sort the list in ascending and descending order:"
   ]
  },
  {
   "cell_type": "code",
   "execution_count": 106,
   "id": "a2f404af-8fff-44d9-9dbe-8b014d2a13d2",
   "metadata": {},
   "outputs": [
    {
     "name": "stdout",
     "output_type": "stream",
     "text": [
      "Ascending Order: [66, 75, 88, 92, 95]\n",
      "Descending Order: [95, 92, 88, 75, 66]\n"
     ]
    }
   ],
   "source": [
    "scores = [88, 92, 75, 95, 66]\n",
    "scores.sort()\n",
    "print(f\"Ascending Order: {scores}\")\n",
    "scores.sort(reverse=True)\n",
    "print(f\"Descending Order: {scores}\")"
   ]
  },
  {
   "cell_type": "markdown",
   "id": "09b62335-d2e2-4c42-b618-34263b023ecd",
   "metadata": {},
   "source": [
    "#### 9. Check Item in List\n",
    "- Check if 'Python' exists in this list:"
   ]
  },
  {
   "cell_type": "code",
   "execution_count": 108,
   "id": "a5ec6d8f-63de-4dff-8338-ba018cf57ba0",
   "metadata": {},
   "outputs": [
    {
     "data": {
      "text/plain": [
       "'Python Exists'"
      ]
     },
     "execution_count": 108,
     "metadata": {},
     "output_type": "execute_result"
    }
   ],
   "source": [
    "langs = ['Java', 'C++', 'Python', 'Ruby']\n",
    "\"Python Exists\" if \"Python\" in langs else \"Python doesn't exists\""
   ]
  },
  {
   "cell_type": "markdown",
   "id": "e4bd45c1-6a0a-4cf0-be7a-ab4c95b01944",
   "metadata": {},
   "source": [
    "#### 10. Sum and Average of List Items\n",
    "- Write a program to calculate the sum and average of:\n",
    "     - marks = [70, 80, 65, 90, 85]"
   ]
  },
  {
   "cell_type": "code",
   "execution_count": 110,
   "id": "92f18e7c-9552-49bd-b266-6c6e07e5890f",
   "metadata": {},
   "outputs": [
    {
     "name": "stdout",
     "output_type": "stream",
     "text": [
      "Sum: 390\n",
      "Average: 78.0\n"
     ]
    }
   ],
   "source": [
    "marks = [70, 80, 65, 90, 85]\n",
    "sum_list = sum(marks)\n",
    "avg = sum_list / len(marks) \n",
    "print(f\"Sum: {sum_list}\")\n",
    "print(f\"Average: {avg}\")"
   ]
  },
  {
   "cell_type": "markdown",
   "id": "c8c35106-2178-440d-b992-7acb2f27e879",
   "metadata": {},
   "source": [
    "#### 11. Remove Duplicates from List\n",
    "- Remove duplicates from this list and keep the order:\n",
    "\n"
   ]
  },
  {
   "cell_type": "code",
   "execution_count": 115,
   "id": "d310bbf9-feb6-42ca-a41c-72dbc9a3c521",
   "metadata": {},
   "outputs": [
    {
     "name": "stdout",
     "output_type": "stream",
     "text": [
      "Removed Duplicates from list:  [1, 2, 3, 4, 5]\n"
     ]
    }
   ],
   "source": [
    "data = [1, 2, 2, 3, 4, 4, 5]\n",
    "new_lst = []\n",
    "for n in data:\n",
    "    if n not in new_lst:\n",
    "        new_lst.append(n)\n",
    "\n",
    "print(\"Removed Duplicates from list: \", new_lst)"
   ]
  },
  {
   "cell_type": "markdown",
   "id": "ea26d4b8-069a-4b63-9358-4d31437a8126",
   "metadata": {},
   "source": [
    "#### 12. Find Maximum and Minimum\n",
    "- Find the largest and smallest number from this list:"
   ]
  },
  {
   "cell_type": "code",
   "execution_count": 117,
   "id": "443a4266-4d89-439f-b0ee-0ea361abf482",
   "metadata": {},
   "outputs": [
    {
     "name": "stdout",
     "output_type": "stream",
     "text": [
      "Maximum: 28\n",
      "Minimum: 4\n"
     ]
    }
   ],
   "source": [
    "nums = [15, 6, 28, 4, 19]\n",
    "print(f\"Maximum: {max(nums)}\")\n",
    "print(f\"Minimum: {min(nums)}\")"
   ]
  },
  {
   "cell_type": "markdown",
   "id": "cfe6fa1c-558a-4795-b5dd-a63e95ffd82a",
   "metadata": {},
   "source": [
    "#### 13. List Comprehension\n",
    "- Write a list comprehension to create a list of squares of numbers from 1 to 10."
   ]
  },
  {
   "cell_type": "code",
   "execution_count": 119,
   "id": "d0ce652f-fbbe-4bb9-b346-ebf8ca51f018",
   "metadata": {},
   "outputs": [
    {
     "name": "stdout",
     "output_type": "stream",
     "text": [
      "[1, 4, 9, 16, 25, 36, 49, 64, 81, 100]\n"
     ]
    }
   ],
   "source": [
    "square = [num**2 for num in range(1,11)]\n",
    "print(square)"
   ]
  },
  {
   "cell_type": "markdown",
   "id": "d4863510-b02a-4d8b-8f88-98bf6e20d6fe",
   "metadata": {},
   "source": [
    "#### 14. Filter Even Numbers\n",
    "- From the list below, create a new list of only even numbers using list comprehension.\n"
   ]
  },
  {
   "cell_type": "code",
   "execution_count": 120,
   "id": "6d7e8160-42ff-45db-bf30-0711b8120aa3",
   "metadata": {},
   "outputs": [
    {
     "name": "stdout",
     "output_type": "stream",
     "text": [
      "List of even:  [2, 4, 6, 8, 10]\n"
     ]
    }
   ],
   "source": [
    "nums = [1, 2, 3, 4, 5, 6, 7, 8, 9, 10]\n",
    "only_even = [n for n in nums if n % 2 == 0]\n",
    "print(\"List of even: \", only_even)"
   ]
  },
  {
   "cell_type": "markdown",
   "id": "f6cd0097-5cbd-4c3b-83f9-46d42f217243",
   "metadata": {},
   "source": [
    "#### 15. Nested Lists (2D List)\n",
    "- Access the number 5 in this nested list:"
   ]
  },
  {
   "cell_type": "code",
   "execution_count": 124,
   "id": "1bd77bc5-018c-4965-b35d-e3780ceff24b",
   "metadata": {},
   "outputs": [
    {
     "name": "stdout",
     "output_type": "stream",
     "text": [
      "Accessed 5\n"
     ]
    }
   ],
   "source": [
    "matrix = [[1, 2], [3, 4], [5, 6]]\n",
    "print(\"Accessed\",matrix[2][0])"
   ]
  },
  {
   "cell_type": "markdown",
   "id": "ef1548c4-1cb2-4d03-a8dd-04e599426393",
   "metadata": {},
   "source": [
    "### 🛠️ Python List Method Practice Questions\n"
   ]
  },
  {
   "cell_type": "markdown",
   "id": "ef2bbc7c-c83f-4313-b76e-49eefa164a26",
   "metadata": {},
   "source": [
    "#### 🔹 1. Append and Insert\n",
    "- Write a program to:\n",
    "   - Create a list fruits = ['apple', 'banana']\n",
    "   - Add 'mango' to the end using .append()\n",
    "   - Insert 'orange' at the 1st index using .insert()"
   ]
  },
  {
   "cell_type": "code",
   "execution_count": 128,
   "id": "a6abf156-1ba1-4c57-ac17-9908310bc5e7",
   "metadata": {},
   "outputs": [
    {
     "name": "stdout",
     "output_type": "stream",
     "text": [
      "Appended:  ['apple', 'banana', 'mango']\n",
      "Inserted:  ['apple', 'orange', 'banana', 'mango']\n"
     ]
    }
   ],
   "source": [
    "fruits = ['apple', 'banana']\n",
    "# appending \n",
    "fruits.append(\"mango\")\n",
    "print(\"Appended: \", fruits)\n",
    "fruits.insert(1,\"orange\")\n",
    "print(\"Inserted: \", fruits)"
   ]
  },
  {
   "cell_type": "markdown",
   "id": "7b43af9c-b2db-4fea-9880-5fe2e662fbe3",
   "metadata": {},
   "source": [
    "#### 🔹 2. Extend a List\n",
    "- You have two lists:\n",
    "  - list1 = [1, 2, 3]\n",
    "  - list2 = [4, 5]\n",
    "\n",
    "- Extend list1 with elements of list2 using .extend()."
   ]
  },
  {
   "cell_type": "code",
   "execution_count": 131,
   "id": "4671339e-d27e-4567-bad7-56a268105245",
   "metadata": {},
   "outputs": [
    {
     "name": "stdout",
     "output_type": "stream",
     "text": [
      "Extended List:  [1, 2, 3, 4, 5]\n"
     ]
    }
   ],
   "source": [
    "list1 = [1, 2, 3]\n",
    "list2 = [4, 5]\n",
    "list1.extend(list2)\n",
    "print(\"Extended List: \",list1 )"
   ]
  },
  {
   "cell_type": "markdown",
   "id": "3704651e-6437-4539-ab9c-7d174afa3db0",
   "metadata": {},
   "source": [
    "#### 🔹 3. Remove vs Pop\n",
    "- Given:\n",
    "  - items = ['pen', 'pencil', 'eraser', 'sharpener']\n",
    "- Remove 'eraser' using .remove()\n",
    "- Remove the last item using .pop()"
   ]
  },
  {
   "cell_type": "code",
   "execution_count": 133,
   "id": "2dfd6ff0-81ec-4a25-8f3c-989eddefb73e",
   "metadata": {},
   "outputs": [
    {
     "name": "stdout",
     "output_type": "stream",
     "text": [
      "List after eraser removed:  ['pen', 'pencil', 'sharpener']\n",
      "Removed item:  sharpener\n"
     ]
    }
   ],
   "source": [
    "items = ['pen', 'pencil', 'eraser', 'sharpener']\n",
    "# using .remove()\n",
    "items.remove(\"eraser\")\n",
    "print(\"List after eraser removed: \", items )\n",
    "# using pop()\n",
    "removed_item = items.pop()\n",
    "print(\"Removed item: \", removed_item)"
   ]
  },
  {
   "cell_type": "markdown",
   "id": "b28a6a2c-7897-4c53-99bb-b88a136d6067",
   "metadata": {},
   "source": [
    "#### 🔹 4. Sort and Reverse\n",
    "- Given:\n",
    "    - scores = [55, 75, 35, 90, 65]\n",
    "- Sort the list in ascending order using .sort()\n",
    "- Then reverse the list using .reverse()"
   ]
  },
  {
   "cell_type": "code",
   "execution_count": 136,
   "id": "3571aa7a-854f-4d70-b84c-bcacdec95403",
   "metadata": {},
   "outputs": [
    {
     "name": "stdout",
     "output_type": "stream",
     "text": [
      "Ascending order:  [35, 55, 65, 75, 90]\n",
      "Descending order:  [90, 75, 65, 55, 35]\n"
     ]
    }
   ],
   "source": [
    "scores = [55, 75, 35, 90, 65]\n",
    "scores.sort()\n",
    "print(\"Ascending order: \", scores)\n",
    "scores.sort(reverse=True)\n",
    "print(\"Descending order: \", scores)"
   ]
  },
  {
   "cell_type": "markdown",
   "id": "0b719e85-e1ed-49d1-8171-2a86499bbf93",
   "metadata": {},
   "source": [
    "#### 🔹 5. Count and Index\n",
    "- From this list:\n",
    "    - colors = ['red', 'blue', 'green', 'blue', 'yellow']\n",
    "\n",
    "- Find how many times 'blue' appears using .count()\n",
    "- Find the index of 'green' using .index()"
   ]
  },
  {
   "cell_type": "code",
   "execution_count": 137,
   "id": "be07083b-4452-4b56-9a7d-53e20822458e",
   "metadata": {},
   "outputs": [
    {
     "name": "stdout",
     "output_type": "stream",
     "text": [
      "2 times blue appears.\n",
      "Index of green is 2\n"
     ]
    }
   ],
   "source": [
    "colors = ['red', 'blue', 'green', 'blue', 'yellow']\n",
    "print(f\"{colors.count('blue')} times blue appears.\")\n",
    "print(f\"Index of green is {colors.index(\"green\")}\")"
   ]
  },
  {
   "cell_type": "markdown",
   "id": "f9c9251a-5942-4ff8-b597-273619455b30",
   "metadata": {},
   "source": [
    "#### 🔹 6. Copy a List\n",
    "- Create a copy of this list using .copy():\n",
    "\n",
    "    - names = ['Alice', 'Bob', 'Charlie']\n",
    "- Then modify the copied list by appending 'David'. Print both lists to show the original is unchanged."
   ]
  },
  {
   "cell_type": "code",
   "execution_count": 142,
   "id": "2540ed3a-add8-421c-b0f2-573fbdc10d64",
   "metadata": {},
   "outputs": [
    {
     "name": "stdout",
     "output_type": "stream",
     "text": [
      "Original List: ['Alice', 'Bob', 'Charlie']\n",
      "Copied List: ['Alice', 'Bob', 'Charlie', 'David']\n"
     ]
    }
   ],
   "source": [
    "names = ['Alice', 'Bob', 'Charlie']\n",
    "names_copy = names.copy()\n",
    "names_copy.append(\"David\")\n",
    "print(f\"Original List: {names}\")\n",
    "print(f\"Copied List: {names_copy}\")"
   ]
  },
  {
   "cell_type": "markdown",
   "id": "8ef3260f-3e72-47b9-850d-ea803c3703b0",
   "metadata": {},
   "source": [
    "#### 🔹 7. Clear a List\n",
    "- Create a list of any 4 countries, then remove all elements using .clear()."
   ]
  },
  {
   "cell_type": "code",
   "execution_count": 146,
   "id": "fc36788e-6eb9-435b-98a9-a30c2fb32f26",
   "metadata": {},
   "outputs": [
    {
     "name": "stdout",
     "output_type": "stream",
     "text": [
      "Country List before:  ['Nepal', 'Germany', 'USA', 'India']\n",
      "Country List after:  []\n"
     ]
    }
   ],
   "source": [
    "country = [\"Nepal\", \"Germany\", \"USA\", \"India\"]\n",
    "print(\"Country List before: \", country)\n",
    "country.clear()\n",
    "print(\"Country List after: \", country)"
   ]
  },
  {
   "cell_type": "markdown",
   "id": "486d1e61-e7b6-4043-887c-5f1d8e4fa784",
   "metadata": {},
   "source": [
    "#### 🔹 8. List Method Chain Practice\n",
    "- Given:\n",
    "\n",
    "    - numbers = [3, 1, 4, 1, 5, 9]\n",
    "- Write code to:\n",
    "\n",
    "    - Remove the first 1\n",
    "\n",
    "    - Append 2\n",
    "\n",
    "    - Sort the list\n",
    "\n",
    "    - Reverse it"
   ]
  },
  {
   "cell_type": "code",
   "execution_count": 155,
   "id": "12841e35-7b47-4e7f-bdd2-216a6e43fa1b",
   "metadata": {},
   "outputs": [
    {
     "name": "stdout",
     "output_type": "stream",
     "text": [
      "Removing 1:  [3, 4, 1, 5, 9]\n",
      "Appended 2 to the list:  [3, 4, 1, 5, 9, 2]\n",
      "Sorted list:  [1, 2, 3, 4, 5, 9]\n",
      "Reversed List:  [9, 5, 4, 3, 2, 1]\n"
     ]
    }
   ],
   "source": [
    "numbers = [3, 1, 4, 1, 5, 9]\n",
    "# removing 1st 1\n",
    "numbers.remove(1)\n",
    "print(\"Removing 1: \", numbers)\n",
    "\n",
    "# appending 2\n",
    "numbers.append(2)\n",
    "print(\"Appended 2 to the list: \", numbers)\n",
    "\n",
    "# sorting \n",
    "numbers.sort()\n",
    "print(\"Sorted list: \", numbers)\n",
    "\n",
    "# reversing\n",
    "rev = list(reversed(numbers))\n",
    "print(\"Reversed List: \", rev)"
   ]
  },
  {
   "cell_type": "markdown",
   "id": "aabeafab-58f4-4793-8308-71df2a18d35f",
   "metadata": {},
   "source": [
    "#### 🔹 9. Use All Add Methods Together\n",
    "- Start with an empty list. Then:\n",
    "\n",
    "    - Use .append() to add 3 items\n",
    "\n",
    "    - Use .insert() to add an item at index 1\n",
    "\n",
    "    - Use .extend() to add another list [10, 20]"
   ]
  },
  {
   "cell_type": "code",
   "execution_count": 158,
   "id": "42386776-6ef9-4c49-ab24-f6adfb1152ae",
   "metadata": {},
   "outputs": [
    {
     "name": "stdout",
     "output_type": "stream",
     "text": [
      "Append List:  [1, 2, 3]\n",
      "List after inserted:  [1, 'insert', 2, 3]\n",
      "List after extended:  [1, 'insert', 2, 3, 10, 20]\n"
     ]
    }
   ],
   "source": [
    "lst = []\n",
    "\n",
    "lst.append(1)\n",
    "lst.append(2)\n",
    "lst.append(3)\n",
    "\n",
    "print(\"Append List: \", lst)\n",
    "\n",
    "lst.insert(1,\"insert\")\n",
    "print(\"List after inserted: \", lst)\n",
    "\n",
    "lst2 = [10, 20]\n",
    "lst.extend(lst2)\n",
    "print(\"List after extended: \", lst)"
   ]
  },
  {
   "cell_type": "markdown",
   "id": "dfab2122-6b08-4524-abdc-d077b515ed80",
   "metadata": {},
   "source": [
    "#### 🔹 10. Mixed Method Challenge\n",
    "- You are given:\n",
    "\n",
    "    - data = [4, 2, 8, 6]\n",
    "- Perform the following operations:\n",
    "\n",
    "    - Insert 5 at index 2\n",
    "\n",
    "    - Remove 2\n",
    "\n",
    "    - Append 9\n",
    "\n",
    "    - Sort the list in descending order"
   ]
  },
  {
   "cell_type": "code",
   "execution_count": 159,
   "id": "3c50c5ba-6a65-420d-a370-41e8dfd496ba",
   "metadata": {},
   "outputs": [
    {
     "name": "stdout",
     "output_type": "stream",
     "text": [
      "Insert Operation:  [4, 2, 5, 8, 6]\n",
      "Remove Operation:  [4, 5, 8, 6]\n",
      "Append Operation:  [4, 5, 8, 6, 9]\n",
      "Descending:  [9, 8, 6, 5, 4]\n"
     ]
    }
   ],
   "source": [
    "data = [4, 2, 8, 6]\n",
    "\n",
    "data.insert(2,5)\n",
    "print(\"Insert Operation: \", data)\n",
    "\n",
    "data.remove(2)\n",
    "print(\"Remove Operation: \", data)\n",
    "\n",
    "data.append(9)\n",
    "print(\"Append Operation: \", data)\n",
    "\n",
    "data.sort(reverse= True)\n",
    "print(\"Descending: \", data)\n"
   ]
  },
  {
   "cell_type": "markdown",
   "id": "fff6a42c-002a-42b8-84aa-4d73ff99ccc5",
   "metadata": {},
   "source": [
    "#### -------------------------------------------------------------------------------"
   ]
  },
  {
   "cell_type": "markdown",
   "id": "db42723e-bc32-448f-8f89-bd65ed0c0bff",
   "metadata": {},
   "source": [
    "## ✅Dictionary Practice Questions"
   ]
  },
  {
   "cell_type": "markdown",
   "id": "cc1860b6-f823-4bb8-90aa-b98b5dc4c960",
   "metadata": {},
   "source": [
    "### 🔹 Basic Level\n",
    "#### 1. Create a Dictionary\n",
    "- Create a dictionary of 3 countries and their capitals."
   ]
  },
  {
   "cell_type": "code",
   "execution_count": 41,
   "id": "b7ae2209-4e45-4302-8f62-c149c6dbc21f",
   "metadata": {},
   "outputs": [
    {
     "name": "stdout",
     "output_type": "stream",
     "text": [
      "{'Nepal': 'Kathmandu', 'India': 'New Delhi', 'Japan': 'Tokyo'}\n"
     ]
    }
   ],
   "source": [
    "dictionary = {\n",
    "    \"Nepal\": \"Kathmandu\",\n",
    "    \"India\": \"New Delhi\",\n",
    "    \"Japan\": \"Tokyo\"\n",
    "}\n",
    "\n",
    "print(dictionary)"
   ]
  },
  {
   "cell_type": "markdown",
   "id": "f5909c54-10ed-427e-8163-0c6837f6ce0b",
   "metadata": {},
   "source": [
    "#### 2. Access Value by Key\n",
    "Given:\n",
    "    - student = {\"name\": \"Ramesh\", \"age\": 21, \"Faculty\":\"BIT\"}\n",
    "\n",
    "- Print the value of \"name\" and \"Faculty\" using square bracket and .get()."
   ]
  },
  {
   "cell_type": "code",
   "execution_count": 42,
   "id": "151bd855-9e12-408f-a480-6fbcea1149fe",
   "metadata": {},
   "outputs": [
    {
     "name": "stdout",
     "output_type": "stream",
     "text": [
      "key doesn't exist\n"
     ]
    }
   ],
   "source": [
    "student = {\n",
    "    \"name\": \"Ramesh\", \"age\": 21, \"Faculty\":\"BIT\"\n",
    "}\n",
    "print(student.get(\"grade\",\"key doesn't exist\"))"
   ]
  },
  {
   "cell_type": "code",
   "execution_count": 43,
   "id": "550a0e04-4cf0-463d-ac1c-efb1c5b655a9",
   "metadata": {},
   "outputs": [
    {
     "name": "stdout",
     "output_type": "stream",
     "text": [
      "Ramesh\n",
      "BIT\n"
     ]
    }
   ],
   "source": [
    "print(student.get(\"name\",\"key doesn't exist\"))\n",
    "print(student.get(\"Faculty\",\"key doesn't exist\"))"
   ]
  },
  {
   "cell_type": "code",
   "execution_count": 44,
   "id": "c525cfd8-1f02-48c1-b5a3-0c9c4337786d",
   "metadata": {},
   "outputs": [
    {
     "name": "stdout",
     "output_type": "stream",
     "text": [
      "{'name': 'Ramesh', 'age': 21, 'Faculty': 'BIT'}\n"
     ]
    }
   ],
   "source": [
    "print(student)"
   ]
  },
  {
   "cell_type": "markdown",
   "id": "71ad56b0-6e5f-424c-a9a2-7a0495572774",
   "metadata": {},
   "source": [
    "#### 3. Add and Update Key-Value Pairs\n",
    "- Add a new key \"email\" to the dictionary. Then update the \"age\" to 22."
   ]
  },
  {
   "cell_type": "code",
   "execution_count": 45,
   "id": "ed69ffa9-2aae-40dd-a8cf-9ce6d6debcac",
   "metadata": {},
   "outputs": [],
   "source": [
    "student.update({\n",
    "    \"email\": \"rameshbit@gmail.com\",\n",
    "    \"age\": 22\n",
    "})"
   ]
  },
  {
   "cell_type": "code",
   "execution_count": 46,
   "id": "e274f8fd-fb8c-4942-833b-df8f811c00e1",
   "metadata": {},
   "outputs": [
    {
     "name": "stdout",
     "output_type": "stream",
     "text": [
      "{'name': 'Ramesh', 'age': 22, 'Faculty': 'BIT', 'email': 'rameshbit@gmail.com'}\n"
     ]
    }
   ],
   "source": [
    "print(student)"
   ]
  },
  {
   "cell_type": "markdown",
   "id": "c1f697be-63e3-4988-8bc1-1ca09508728d",
   "metadata": {},
   "source": [
    "#### 4. Delete a Key-Value Pair\n",
    "- Remove \"Faculaty\" from the dictionary using .pop().\n",
    "\n"
   ]
  },
  {
   "cell_type": "code",
   "execution_count": 47,
   "id": "e600dbee-bc37-4969-9ff9-c348d575b96f",
   "metadata": {},
   "outputs": [
    {
     "name": "stdout",
     "output_type": "stream",
     "text": [
      "BIT\n"
     ]
    }
   ],
   "source": [
    "\n",
    "print(student.pop(\"Faculty\",\"No key present\")) # here pop return the removed value of key \"Faculty\""
   ]
  },
  {
   "cell_type": "code",
   "execution_count": 48,
   "id": "97489f33-56e2-4d52-a0e5-17aed1c1092e",
   "metadata": {},
   "outputs": [
    {
     "data": {
      "text/plain": [
       "{'name': 'Ramesh', 'age': 22, 'email': 'rameshbit@gmail.com'}"
      ]
     },
     "execution_count": 48,
     "metadata": {},
     "output_type": "execute_result"
    }
   ],
   "source": [
    "student"
   ]
  },
  {
   "cell_type": "code",
   "execution_count": null,
   "id": "38978db1-5335-4078-8775-fa8401dd2772",
   "metadata": {},
   "outputs": [],
   "source": []
  },
  {
   "cell_type": "markdown",
   "id": "745b915c-a3db-4214-9ed6-7fecdd7e81e1",
   "metadata": {},
   "source": [
    "### 🔸 Intermediate Level"
   ]
  },
  {
   "cell_type": "markdown",
   "id": "4578cbbc-d1a7-4843-88b1-a7e73db08001",
   "metadata": {},
   "source": [
    "#### 5. Use .keys() and .values()\n",
    "Given:- \n",
    "- fruits = {\"apple\": 2, \"banana\": 3, \"mango\": 5}\n",
    "    - Print all keys\n",
    "\n",
    "    - Print all values\n",
    "\n",
    "    - Print all key-value pairs using .items()"
   ]
  },
  {
   "cell_type": "code",
   "execution_count": 57,
   "id": "213c5c13-8281-4ab4-9a09-36bde909d5a4",
   "metadata": {},
   "outputs": [
    {
     "name": "stdout",
     "output_type": "stream",
     "text": [
      "All keys of dictionary: dict_keys(['apple', 'banana', 'mango']) \n",
      "All Values of dictionary: dict_values([2, 3, 5])\n"
     ]
    }
   ],
   "source": [
    "fruits = {\"apple\": 2, \"banana\": 3, \"mango\": 5}\n",
    "\n",
    "print(f\"All keys of dictionary: {fruits.keys()} \", )\n",
    "print(f\"All Values of dictionary: {fruits.values()}\")"
   ]
  },
  {
   "cell_type": "code",
   "execution_count": 63,
   "id": "e3a1a6c0-9910-4a4b-9d9b-2d38953fe7f5",
   "metadata": {},
   "outputs": [
    {
     "name": "stdout",
     "output_type": "stream",
     "text": [
      "Print all key-value pairs using .items()\n",
      "apple : 2\n",
      "banana : 3\n",
      "mango : 5\n"
     ]
    }
   ],
   "source": [
    "print(\"Print all key-value pairs using .items()\")\n",
    "for key,value in fruits.items():\n",
    "    print(f\"{key} : {value}\")"
   ]
  },
  {
   "cell_type": "markdown",
   "id": "c9e1ae24-c552-458c-b76e-9cd6c729ff89",
   "metadata": {},
   "source": [
    "#### 6. Check Key Existence\n",
    "- Check whether \"apple\" exists in the dictionary using the **in** keyword."
   ]
  },
  {
   "cell_type": "code",
   "execution_count": 65,
   "id": "fea0dc83-86ec-4e27-a66a-41cbe5e0cfd7",
   "metadata": {},
   "outputs": [
    {
     "data": {
      "text/plain": [
       "'apple exists'"
      ]
     },
     "execution_count": 65,
     "metadata": {},
     "output_type": "execute_result"
    }
   ],
   "source": [
    "\"apple exists\" if \"apple\" in fruits else \"apple not exists\" # using ternary operator\n",
    "## used 'in' membership operator"
   ]
  },
  {
   "cell_type": "markdown",
   "id": "99826e2e-7c50-4d16-a26d-53e838fcddf1",
   "metadata": {},
   "source": [
    "#### 7. Loop Through Dictionary\n",
    "Given:\n",
    "    - marks = {\"Math\": 90, \"Science\": 85, \"English\": 88}\n",
    "\n",
    "- Write a program to print each subject and its marks like:\n",
    "\n",
    "    - Math -> 90\n",
    "    - Science -> 85\n",
    "    - English -> 88"
   ]
  },
  {
   "cell_type": "code",
   "execution_count": 66,
   "id": "9351651c-4d7a-430d-ae77-1d8afa8e3bc9",
   "metadata": {},
   "outputs": [
    {
     "name": "stdout",
     "output_type": "stream",
     "text": [
      "Math -> 90\n",
      "Science -> 85\n",
      "English -> 88\n"
     ]
    }
   ],
   "source": [
    "marks = {\"Math\": 90, \"Science\": 85, \"English\": 88}\n",
    "\n",
    "for key,val in marks.items():\n",
    "    print(f\"{key} -> {val}\")"
   ]
  },
  {
   "cell_type": "markdown",
   "id": "4e8447a8-1910-4668-845f-bb2d4931421e",
   "metadata": {},
   "source": [
    "#### 8. Create Dictionary from Two Lists\n",
    "- Given:\n",
    "    - keys = [\"name\", \"age\", \"city\"]\n",
    "    - values = [\"Sita\", 24, \"Pokhara\"]\n",
    "- Create a dictionary by pairing them."
   ]
  },
  {
   "cell_type": "code",
   "execution_count": 69,
   "id": "c3cbbb5a-28ef-4345-b423-ccfd57a001aa",
   "metadata": {},
   "outputs": [],
   "source": [
    "keys = [\"name\", \"age\", \"city\"]\n",
    "values = [\"Sita\", 24, \"Pokhara\"]\n",
    "\n",
    "person ={}\n",
    "for i in range(len(keys)):\n",
    "    person.update({keys[i]: values[i]})\n"
   ]
  },
  {
   "cell_type": "code",
   "execution_count": 70,
   "id": "c7dc9eee-61ed-4fb4-8762-d76a7bdf2ad1",
   "metadata": {},
   "outputs": [
    {
     "data": {
      "text/plain": [
       "{'name': 'Sita', 'age': 24, 'city': 'Pokhara'}"
      ]
     },
     "execution_count": 70,
     "metadata": {},
     "output_type": "execute_result"
    }
   ],
   "source": [
    "person"
   ]
  },
  {
   "cell_type": "markdown",
   "id": "7bc858bb-b754-4871-968f-8336466fc28f",
   "metadata": {},
   "source": [
    "OR"
   ]
  },
  {
   "cell_type": "code",
   "execution_count": 75,
   "id": "ad86e4c8-2272-42b0-811d-4735dca51af2",
   "metadata": {},
   "outputs": [],
   "source": [
    "persons = dict(zip(keys,values))"
   ]
  },
  {
   "cell_type": "code",
   "execution_count": 76,
   "id": "4efc7c77-b794-4fa6-b4b8-55e213bf2246",
   "metadata": {},
   "outputs": [
    {
     "data": {
      "text/plain": [
       "{'name': 'Sita', 'age': 24, 'city': 'Pokhara'}"
      ]
     },
     "execution_count": 76,
     "metadata": {},
     "output_type": "execute_result"
    }
   ],
   "source": [
    "persons"
   ]
  },
  {
   "cell_type": "markdown",
   "id": "eacc2695-3e94-46da-aa9c-6742e3f6b9af",
   "metadata": {},
   "source": [
    "## 🔺 Advanced / Application Level"
   ]
  },
  {
   "cell_type": "markdown",
   "id": "db66db32-135d-4726-9e39-cbb43f384498",
   "metadata": {},
   "source": [
    "#### 9. Count Character Frequency\n",
    "- Write a program that counts the frequency of each character in a string and stores it in a dictionary."
   ]
  },
  {
   "cell_type": "code",
   "execution_count": 79,
   "id": "31c93003-803f-45b6-bbf4-23e75891b6f1",
   "metadata": {},
   "outputs": [
    {
     "name": "stdin",
     "output_type": "stream",
     "text": [
      "Enter string:  BANANA\n"
     ]
    },
    {
     "name": "stdout",
     "output_type": "stream",
     "text": [
      "{'b': 1, 'a': 3, 'n': 2}\n"
     ]
    }
   ],
   "source": [
    "string = input(\"Enter string: \").lower()\n",
    "my_dict = {}\n",
    "for char in string:\n",
    "    if char in my_dict:\n",
    "        my_dict[char]+= 1\n",
    "    else:\n",
    "        my_dict[char] = 1\n",
    "\n",
    "print(my_dict)"
   ]
  },
  {
   "cell_type": "markdown",
   "id": "0a46d1c9-f8c7-4ac8-9caf-eebd16d32b37",
   "metadata": {},
   "source": [
    "#### 10. Merge Two Dictionaries\n",
    "- Merge the following dictionaries using .update():\n",
    "\n",
    "    - dict1 = {\"a\": 1, \"b\": 2}\n",
    "    - dict2 = {\"c\": 3, \"d\": 4}"
   ]
  },
  {
   "cell_type": "code",
   "execution_count": 83,
   "id": "a98ecfd1-6f62-4e63-843a-2b27f7bbcacd",
   "metadata": {},
   "outputs": [
    {
     "name": "stdout",
     "output_type": "stream",
     "text": [
      "{'a': 1, 'b': 2, 'c': 3, 'd': 4}\n"
     ]
    }
   ],
   "source": [
    "dict1 = {\"a\": 1, \"b\": 2}\n",
    "dict2 = {\"c\": 3, \"d\": 4}\n",
    "\n",
    "for key in dict2:\n",
    "    dict1[key]= dict2[key]\n",
    "print(dict1)"
   ]
  },
  {
   "cell_type": "markdown",
   "id": "85b8e91c-e341-4a89-8523-57a1ad67d2de",
   "metadata": {},
   "source": [
    "OR"
   ]
  },
  {
   "cell_type": "code",
   "execution_count": 85,
   "id": "10f32e0a-11c6-4f74-b0cf-4c7b11d90093",
   "metadata": {},
   "outputs": [
    {
     "data": {
      "text/plain": [
       "{'a': 1, 'b': 2, 'c': 3, 'd': 4}"
      ]
     },
     "execution_count": 85,
     "metadata": {},
     "output_type": "execute_result"
    }
   ],
   "source": [
    "dict1 = {\"a\": 1, \"b\": 2}\n",
    "dict2 = {\"c\": 3, \"d\": 4}\n",
    "\n",
    "dict1.update(dict2)\n",
    "dict1"
   ]
  },
  {
   "cell_type": "markdown",
   "id": "cae99519-5874-44eb-8d1d-f26b40e617b3",
   "metadata": {},
   "source": [
    "#### 11. Nested Dictionary Access\n",
    "- Given:\n",
    "    - user = {\n",
    "    \"name\": \"Raju\",\n",
    "    \"address\": {\n",
    "        \"city\": \"Lalitpur\",\n",
    "        \"zipcode\": 44600\n",
    "    }\n",
    "}\n",
    "\n",
    "- Access the \"city\" value from the nested dictionary.\n"
   ]
  },
  {
   "cell_type": "code",
   "execution_count": 91,
   "id": "bcf381e5-8d9d-4374-a51f-058b1854f2fc",
   "metadata": {},
   "outputs": [
    {
     "name": "stdout",
     "output_type": "stream",
     "text": [
      "Lalitpur\n"
     ]
    }
   ],
   "source": [
    "user = {\n",
    "    \"name\": \"Raju\",\n",
    "    \"address\": {\n",
    "        \"city\": \"Lalitpur\",\n",
    "        \"zipcode\": 44600\n",
    "    }\n",
    "}\n",
    "\n",
    "print(user.get(\"address\", {}).get(\"city\"))"
   ]
  },
  {
   "cell_type": "markdown",
   "id": "76bcaafe-26af-44cb-94ce-b31a9af9de3e",
   "metadata": {},
   "source": [
    "#### 12. Remove Last Inserted Item\n",
    "- Use .popitem() to remove the last inserted item from a dictionary:"
   ]
  },
  {
   "cell_type": "code",
   "execution_count": 94,
   "id": "c0252fd1-846e-4afd-bc3a-dc5f0351c5c8",
   "metadata": {},
   "outputs": [
    {
     "name": "stdout",
     "output_type": "stream",
     "text": [
      "{'Python': 120, 'C++': 100}\n"
     ]
    }
   ],
   "source": [
    "books = {\"Python\": 120, \"C++\": 100, \"Java\": 150}\n",
    "\n",
    "books.popitem()\n",
    "print(books)"
   ]
  },
  {
   "cell_type": "markdown",
   "id": "94aced7a-a9c2-4737-aa33-09b710b5fe30",
   "metadata": {},
   "source": [
    "#### 13. Clear All Items\n",
    "- Clear all key-value pairs from a dictionary using .clear("
   ]
  },
  {
   "cell_type": "code",
   "execution_count": 96,
   "id": "34414b56-f84b-40f8-b454-ce4c92f1059a",
   "metadata": {},
   "outputs": [],
   "source": [
    "books.clear()"
   ]
  },
  {
   "cell_type": "code",
   "execution_count": 97,
   "id": "10b0c875-bfe2-4c15-9f08-0a58397247a0",
   "metadata": {},
   "outputs": [
    {
     "data": {
      "text/plain": [
       "{}"
      ]
     },
     "execution_count": 97,
     "metadata": {},
     "output_type": "execute_result"
    }
   ],
   "source": [
    "books"
   ]
  },
  {
   "cell_type": "code",
   "execution_count": null,
   "id": "7c1642c4-873d-4378-954d-a95a8ab4cb39",
   "metadata": {},
   "outputs": [],
   "source": []
  }
 ],
 "metadata": {
  "kernelspec": {
   "display_name": "Python 3 (ipykernel)",
   "language": "python",
   "name": "python3"
  },
  "language_info": {
   "codemirror_mode": {
    "name": "ipython",
    "version": 3
   },
   "file_extension": ".py",
   "mimetype": "text/x-python",
   "name": "python",
   "nbconvert_exporter": "python",
   "pygments_lexer": "ipython3",
   "version": "3.12.7"
  }
 },
 "nbformat": 4,
 "nbformat_minor": 5
}
