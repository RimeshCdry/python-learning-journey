{
 "cells": [
  {
   "cell_type": "markdown",
   "id": "809e85a9-4027-4c3a-9c4f-63a4edbe06a1",
   "metadata": {},
   "source": [
    "# ✅Beginner Python Programmming Questions"
   ]
  },
  {
   "cell_type": "markdown",
   "id": "18a14c32-a6aa-4e44-86a7-66cd904d88fb",
   "metadata": {},
   "source": [
    "### 1️⃣Variable & Data Types "
   ]
  },
  {
   "cell_type": "markdown",
   "id": "c8cce9a5-dc17-49f3-b455-65b5de64619f",
   "metadata": {},
   "source": [
    "#### 1. Write a Python program to swap two variables."
   ]
  },
  {
   "cell_type": "code",
   "execution_count": 1,
   "id": "86f217ad-9777-433d-b8d7-e055c50eab4f",
   "metadata": {},
   "outputs": [
    {
     "name": "stdin",
     "output_type": "stream",
     "text": [
      "Enter first number:  5\n",
      "Enter second number:  4\n"
     ]
    },
    {
     "name": "stdout",
     "output_type": "stream",
     "text": [
      "Before swapping: \n",
      "var_1 = 5 \n",
      "var_2 = 4\n",
      "After swapping: \n",
      "var_1 = 4 \n",
      "var_2 = 5\n"
     ]
    }
   ],
   "source": [
    "# approach - 1\n",
    "\n",
    "var_1 = int(input(\"Enter first number: \"))\n",
    "var_2 = int(input(\"Enter second number: \"))\n",
    "\n",
    "# before swapping\n",
    "print(f\"Before swapping: \")\n",
    "print(f\"var_1 = {var_1} \\nvar_2 = {var_2}\")\n",
    "\n",
    "# swapping\n",
    "var_1,var_2 = var_2, var_1 \n",
    "\n",
    "# after swapping\n",
    "print(f\"After swapping: \")\n",
    "print(f\"var_1 = {var_1} \\nvar_2 = {var_2}\")"
   ]
  },
  {
   "cell_type": "code",
   "execution_count": 2,
   "id": "55de253a-d007-4196-a0b1-0ec944fbc901",
   "metadata": {},
   "outputs": [
    {
     "name": "stdin",
     "output_type": "stream",
     "text": [
      "Enter first number:  5\n",
      "Enter second number:  4\n"
     ]
    },
    {
     "name": "stdout",
     "output_type": "stream",
     "text": [
      "Before swapping: \n",
      "var_1 = 5 \n",
      "var_2 = 4\n",
      "After swapping: \n",
      "var_1 = 4 \n",
      "var_2 = 5\n"
     ]
    }
   ],
   "source": [
    "# approach - 2(Using XOR operator) \n",
    "\n",
    "var_1 = int(input(\"Enter first number: \"))\n",
    "var_2 = int(input(\"Enter second number: \"))\n",
    "\n",
    "# before swapping\n",
    "print(f\"Before swapping: \")\n",
    "print(f\"var_1 = {var_1} \\nvar_2 = {var_2}\")\n",
    "\n",
    "# swapping\n",
    "var_1 = var_1 ^ var_2\n",
    "var_2 = var_1 ^ var_2\n",
    "var_1 = var_1 ^ var_2\n",
    "\n",
    "# after swapping\n",
    "print(f\"After swapping: \")\n",
    "print(f\"var_1 = {var_1} \\nvar_2 = {var_2}\")"
   ]
  },
  {
   "cell_type": "code",
   "execution_count": 3,
   "id": "7c33bf8f-6448-41d1-966d-c710eb83bfad",
   "metadata": {},
   "outputs": [
    {
     "name": "stdin",
     "output_type": "stream",
     "text": [
      "Enter first number:  5\n",
      "Enter second number:  4\n"
     ]
    },
    {
     "name": "stdout",
     "output_type": "stream",
     "text": [
      "Before swapping: \n",
      "var_1 = 5 \n",
      "var_2 = 4\n",
      "After swapping: \n",
      "var_1 = 4 \n",
      "var_2 = 5\n"
     ]
    }
   ],
   "source": [
    "# approach - 3 (using \"+\" and \"-\" operator)\n",
    "\n",
    "var_1 = int(input(\"Enter first number: \"))\n",
    "var_2 = int(input(\"Enter second number: \"))\n",
    "\n",
    "# before swapping\n",
    "print(f\"Before swapping: \")\n",
    "print(f\"var_1 = {var_1} \\nvar_2 = {var_2}\")\n",
    "\n",
    "# swapping\n",
    "var_1 = var_1 + var_2\n",
    "var_2 = var_1 - var_2\n",
    "var_1 = var_1 - var_2\n",
    "\n",
    "# after swapping\n",
    "print(f\"After swapping: \")\n",
    "print(f\"var_1 = {var_1} \\nvar_2 = {var_2}\")"
   ]
  },
  {
   "cell_type": "code",
   "execution_count": null,
   "id": "65350a57-8384-487f-a29f-97d3d9603d0b",
   "metadata": {},
   "outputs": [],
   "source": []
  },
  {
   "cell_type": "markdown",
   "id": "092029ff-34e2-4460-a6ad-2638bd9fccfc",
   "metadata": {},
   "source": [
    "#### 2. Take user input of name and age, then print: \"Hello, name. You will be <age+1> next year.\""
   ]
  },
  {
   "cell_type": "code",
   "execution_count": 4,
   "id": "39c5c602-94d9-498c-ad17-a6d3c676a037",
   "metadata": {},
   "outputs": [
    {
     "name": "stdin",
     "output_type": "stream",
     "text": [
      "Enter your name:  John Doe\n",
      "Enter your current age:  20\n"
     ]
    },
    {
     "name": "stdout",
     "output_type": "stream",
     "text": [
      "Hello, John Doe. You will be 21 next year.\n"
     ]
    }
   ],
   "source": [
    "name = input(\"Enter your name: \")\n",
    "age = int(input(\"Enter your current age: \"))\n",
    "\n",
    "print(f\"Hello, {name}. You will be {age + 1} next year.\")"
   ]
  },
  {
   "cell_type": "markdown",
   "id": "e9cc9310-6185-4c90-8ffd-c08852745560",
   "metadata": {},
   "source": [
    "#### 3. Convert temperature from Celsius to Fahrenheit."
   ]
  },
  {
   "cell_type": "code",
   "execution_count": 5,
   "id": "eef1f525-706e-41e1-a8df-810e25168ec1",
   "metadata": {},
   "outputs": [
    {
     "name": "stdin",
     "output_type": "stream",
     "text": [
      "Enter temperature in Celsius:  30\n"
     ]
    },
    {
     "name": "stdout",
     "output_type": "stream",
     "text": [
      "30°C = 86.0°F \n"
     ]
    }
   ],
   "source": [
    "# Celsius into Fahrenheit\n",
    "\n",
    "def celsius_to_fahrenheit(temp_cel):\n",
    "    doubled = temp_cel * 2\n",
    "    ten_percent = (10 / 100) * doubled # instead -->  0.1 * doubled\n",
    "    adjusted = doubled - ten_percent\n",
    "    fahrenheit = adjusted + 32   \n",
    "    return fahrenheit\n",
    "\n",
    "\n",
    "temp_cel = int(input(\"Enter temperature in Celsius: \"))\n",
    "print(f\"{temp_cel}°C = {celsius_to_fahrenheit(temp_cel)}°F \")"
   ]
  },
  {
   "cell_type": "code",
   "execution_count": 6,
   "id": "49fd2124-f35c-4f14-b94b-6402aecce004",
   "metadata": {},
   "outputs": [
    {
     "name": "stdin",
     "output_type": "stream",
     "text": [
      "Enter temperature in Celsius:  86\n"
     ]
    },
    {
     "name": "stdout",
     "output_type": "stream",
     "text": [
      "86°C = 186.8°F \n"
     ]
    }
   ],
   "source": [
    "def celsius_to_fahrenheit(temp_cel):\n",
    "    return (temp_cel * 1.8) + 32\n",
    "\n",
    "temp_cel = int(input(\"Enter temperature in Celsius: \"))\n",
    "print(f\"{temp_cel}°C = {celsius_to_fahrenheit(temp_cel)}°F \")"
   ]
  },
  {
   "cell_type": "markdown",
   "id": "b1175421-8caa-4a17-bf83-d02d0bc2785d",
   "metadata": {},
   "source": [
    "#### 4. Convert temperature from Fahrenheit to Celsius ."
   ]
  },
  {
   "cell_type": "code",
   "execution_count": 7,
   "id": "b653fa16-b387-4fa2-936b-d09c74ab1e4e",
   "metadata": {},
   "outputs": [
    {
     "name": "stdin",
     "output_type": "stream",
     "text": [
      "Enter temperature in Fahrenheit:  86\n"
     ]
    },
    {
     "name": "stdout",
     "output_type": "stream",
     "text": [
      "86°F = 30.0°C \n"
     ]
    }
   ],
   "source": [
    "def fahrenheit_to_celsius(temp_feh):\n",
    "    return (temp_feh - 32)/1.8\n",
    "\n",
    "temp_feh = int(input(\"Enter temperature in Fahrenheit: \"))\n",
    "print(f\"{temp_feh}°F = {fahrenheit_to_celsius(temp_feh)}°C \")"
   ]
  },
  {
   "cell_type": "code",
   "execution_count": 8,
   "id": "76a76139-20a3-4f35-89b6-98bd6f9b186a",
   "metadata": {},
   "outputs": [
    {
     "name": "stdin",
     "output_type": "stream",
     "text": [
      "Enter temperature in Fahrenheit:  86\n"
     ]
    },
    {
     "name": "stdout",
     "output_type": "stream",
     "text": [
      "86.0°F ≈ 29.7°C (estimated)\n"
     ]
    }
   ],
   "source": [
    "def estimate_f_to_c(temp_f):\n",
    "    step1 = temp_f - 32\n",
    "    step2 = step1 / 2\n",
    "    step3 = step2 + (10 / 100) * step2\n",
    "    return round(step3, 2)\n",
    "\n",
    "temp_f = float(input(\"Enter temperature in Fahrenheit: \"))\n",
    "print(f\"{temp_f}°F ≈ {estimate_f_to_c(temp_f)}°C (estimated)\")\n"
   ]
  },
  {
   "cell_type": "markdown",
   "id": "d7d78b81-57f8-4bee-84d8-8e5973d03cb6",
   "metadata": {},
   "source": [
    "#### ----------------------------------------------------------------------------------------"
   ]
  },
  {
   "cell_type": "markdown",
   "id": "4d6773f9-f1e7-4325-be23-ab8b50066041",
   "metadata": {},
   "source": [
    "### 2️⃣Conditionals"
   ]
  },
  {
   "cell_type": "markdown",
   "id": "9faec94b-b24d-4dea-959c-76fec6b31054",
   "metadata": {},
   "source": [
    "#### 5. Write a program to check if a number is even or odd."
   ]
  },
  {
   "cell_type": "code",
   "execution_count": 9,
   "id": "99f61643-7462-49c8-b422-fcfe37519ef8",
   "metadata": {},
   "outputs": [
    {
     "name": "stdin",
     "output_type": "stream",
     "text": [
      "Enter a number:  85\n"
     ]
    },
    {
     "name": "stdout",
     "output_type": "stream",
     "text": [
      "85 is Odd number.\n"
     ]
    }
   ],
   "source": [
    "def is_even():\n",
    "    num = int(input(\"Enter a number: \"))\n",
    "    if num % 2 != 0:\n",
    "        print(f\"{num} is Odd number.\")\n",
    "    else:\n",
    "        print(f\"{num} is Even number.\")\n",
    "\n",
    "is_even()"
   ]
  },
  {
   "cell_type": "markdown",
   "id": "12f70c25-c9b0-45db-ab42-fd8608aacf4d",
   "metadata": {},
   "source": [
    "#### 6. Take input from the user and determine if it is positive, negative, or zero.\n",
    "\n"
   ]
  },
  {
   "cell_type": "code",
   "execution_count": 10,
   "id": "30289975-1e5c-45ca-ac61-a29dc6b1bd99",
   "metadata": {},
   "outputs": [
    {
     "name": "stdin",
     "output_type": "stream",
     "text": [
      "Enter any number:  86\n"
     ]
    },
    {
     "name": "stdout",
     "output_type": "stream",
     "text": [
      "86 is Positive Number.\n"
     ]
    }
   ],
   "source": [
    "def determine_PNZ():\n",
    "    num = int(input(\"Enter any number: \"))\n",
    "\n",
    "    if num > 0:\n",
    "        print(f\"{num} is Positive Number.\")\n",
    "    elif num < 0:\n",
    "        print(f\"{num} is Negative Number.\")\n",
    "    else:\n",
    "        print(f\"{num} is Zero.\")\n",
    "\n",
    "determine_PNZ()"
   ]
  },
  {
   "cell_type": "markdown",
   "id": "aec23645-2478-4c6e-aa62-484cfa1f12d8",
   "metadata": {},
   "source": [
    "#### 7. Check whether a given year is a leap year or not.\n",
    "\n"
   ]
  },
  {
   "cell_type": "code",
   "execution_count": 11,
   "id": "b31afd9c-8de5-487f-9a21-1ce88f94632a",
   "metadata": {},
   "outputs": [
    {
     "name": "stdin",
     "output_type": "stream",
     "text": [
      "Enter year:  2000\n"
     ]
    },
    {
     "name": "stdout",
     "output_type": "stream",
     "text": [
      "2000 is a leap year.\n"
     ]
    }
   ],
   "source": [
    "def is_leap_year(year):\n",
    "    return (year % 4 == 0 and year % 100 != 0) or (year % 400 == 0)\n",
    "\n",
    "year = int(input(\"Enter year: \"))\n",
    "if is_leap_year(year):\n",
    "    print(f\"{year} is a leap year.\")\n",
    "else: \n",
    "    print(f\"{year} is not leap year.\")"
   ]
  },
  {
   "cell_type": "markdown",
   "id": "d9e58715-99ce-4a93-9a9c-d5dfea657043",
   "metadata": {},
   "source": [
    "#### ----------------------------------------------------------------------------------------"
   ]
  },
  {
   "cell_type": "markdown",
   "id": "857ec894-3cf2-4d89-ac3e-2b5e495663de",
   "metadata": {},
   "source": [
    "## 3️⃣Loops"
   ]
  },
  {
   "cell_type": "markdown",
   "id": "c0f99ddd-fdc9-4f7a-8960-839896c89629",
   "metadata": {},
   "source": [
    "#### 8. Print numbers from 1 to 100 using a loop.\n",
    "\n"
   ]
  },
  {
   "cell_type": "code",
   "execution_count": 12,
   "id": "5a3eb839-9d7a-4f60-afd8-471ff7442e4c",
   "metadata": {},
   "outputs": [
    {
     "name": "stdout",
     "output_type": "stream",
     "text": [
      "Number at index 0: 1\n",
      "Number at index 1: 2\n",
      "Number at index 2: 3\n",
      "Number at index 3: 4\n",
      "Number at index 4: 5\n",
      "Number at index 5: 6\n",
      "Number at index 6: 7\n",
      "Number at index 7: 8\n",
      "Number at index 8: 9\n",
      "Number at index 9: 10\n",
      "Number at index 10: 11\n",
      "Number at index 11: 12\n",
      "Number at index 12: 13\n",
      "Number at index 13: 14\n",
      "Number at index 14: 15\n",
      "Number at index 15: 16\n",
      "Number at index 16: 17\n",
      "Number at index 17: 18\n",
      "Number at index 18: 19\n",
      "Number at index 19: 20\n",
      "Number at index 20: 21\n",
      "Number at index 21: 22\n",
      "Number at index 22: 23\n",
      "Number at index 23: 24\n",
      "Number at index 24: 25\n",
      "Number at index 25: 26\n",
      "Number at index 26: 27\n",
      "Number at index 27: 28\n",
      "Number at index 28: 29\n",
      "Number at index 29: 30\n",
      "Number at index 30: 31\n",
      "Number at index 31: 32\n",
      "Number at index 32: 33\n",
      "Number at index 33: 34\n",
      "Number at index 34: 35\n",
      "Number at index 35: 36\n",
      "Number at index 36: 37\n",
      "Number at index 37: 38\n",
      "Number at index 38: 39\n",
      "Number at index 39: 40\n",
      "Number at index 40: 41\n",
      "Number at index 41: 42\n",
      "Number at index 42: 43\n",
      "Number at index 43: 44\n",
      "Number at index 44: 45\n",
      "Number at index 45: 46\n",
      "Number at index 46: 47\n",
      "Number at index 47: 48\n",
      "Number at index 48: 49\n",
      "Number at index 49: 50\n",
      "Number at index 50: 51\n",
      "Number at index 51: 52\n",
      "Number at index 52: 53\n",
      "Number at index 53: 54\n",
      "Number at index 54: 55\n",
      "Number at index 55: 56\n",
      "Number at index 56: 57\n",
      "Number at index 57: 58\n",
      "Number at index 58: 59\n",
      "Number at index 59: 60\n",
      "Number at index 60: 61\n",
      "Number at index 61: 62\n",
      "Number at index 62: 63\n",
      "Number at index 63: 64\n",
      "Number at index 64: 65\n",
      "Number at index 65: 66\n",
      "Number at index 66: 67\n",
      "Number at index 67: 68\n",
      "Number at index 68: 69\n",
      "Number at index 69: 70\n",
      "Number at index 70: 71\n",
      "Number at index 71: 72\n",
      "Number at index 72: 73\n",
      "Number at index 73: 74\n",
      "Number at index 74: 75\n",
      "Number at index 75: 76\n",
      "Number at index 76: 77\n",
      "Number at index 77: 78\n",
      "Number at index 78: 79\n",
      "Number at index 79: 80\n",
      "Number at index 80: 81\n",
      "Number at index 81: 82\n",
      "Number at index 82: 83\n",
      "Number at index 83: 84\n",
      "Number at index 84: 85\n",
      "Number at index 85: 86\n",
      "Number at index 86: 87\n",
      "Number at index 87: 88\n",
      "Number at index 88: 89\n",
      "Number at index 89: 90\n",
      "Number at index 90: 91\n",
      "Number at index 91: 92\n",
      "Number at index 92: 93\n",
      "Number at index 93: 94\n",
      "Number at index 94: 95\n",
      "Number at index 95: 96\n",
      "Number at index 96: 97\n",
      "Number at index 97: 98\n",
      "Number at index 98: 99\n",
      "Number at index 99: 100\n"
     ]
    }
   ],
   "source": [
    "for i in range(1,101):\n",
    "    print(f\"Number at index {i-1}: {i}\")"
   ]
  },
  {
   "cell_type": "markdown",
   "id": "8a6d568a-d2bd-49eb-b898-c21fb4fc2c09",
   "metadata": {},
   "source": [
    "#### 9. Print the multiplication table of a number entered by the user."
   ]
  },
  {
   "cell_type": "code",
   "execution_count": 13,
   "id": "3ee9fa37-2a80-4022-ba1f-86bb46dc83da",
   "metadata": {},
   "outputs": [
    {
     "name": "stdin",
     "output_type": "stream",
     "text": [
      "Enter a number:  45\n"
     ]
    },
    {
     "name": "stdout",
     "output_type": "stream",
     "text": [
      "45 x 1 = 45\n",
      "45 x 2 = 90\n",
      "45 x 3 = 135\n",
      "45 x 4 = 180\n",
      "45 x 5 = 225\n",
      "45 x 6 = 270\n",
      "45 x 7 = 315\n",
      "45 x 8 = 360\n",
      "45 x 9 = 405\n",
      "45 x 10 = 450\n"
     ]
    }
   ],
   "source": [
    "def print_table(num):\n",
    "    for i in range(1,11):\n",
    "        print(f\"{num} x {i} = {num*i}\")\n",
    "\n",
    "num = int(input(\"Enter a number: \"))\n",
    "print_table(num)"
   ]
  },
  {
   "cell_type": "markdown",
   "id": "f09ad25b-3479-41a2-b5c4-547652f1af71",
   "metadata": {},
   "source": [
    "#### 10. Calculate the sum of all numbers from 1 to n."
   ]
  },
  {
   "cell_type": "code",
   "execution_count": 14,
   "id": "31d349da-75dd-4c07-bb58-796eadf125e1",
   "metadata": {},
   "outputs": [],
   "source": [
    "def sum_of_nth():\n",
    "    sum = 0\n",
    "    num = int(input(\"Enter the nth number: \"))\n",
    "    for i in range(1,num + 1):\n",
    "        sum += i \n",
    "    return sum"
   ]
  },
  {
   "cell_type": "code",
   "execution_count": 15,
   "id": "5dd58573-4a7b-4ea4-9d25-33e71b0c68bd",
   "metadata": {},
   "outputs": [
    {
     "name": "stdin",
     "output_type": "stream",
     "text": [
      "Enter the nth number:  50\n"
     ]
    },
    {
     "name": "stdout",
     "output_type": "stream",
     "text": [
      "The sum of all numbers from 1 to n : 1275\n"
     ]
    }
   ],
   "source": [
    "print(f\"The sum of all numbers from 1 to n : {sum_of_nth()}\")"
   ]
  },
  {
   "cell_type": "markdown",
   "id": "b36f8949-42ca-4cf2-bd6f-ea381efaf67f",
   "metadata": {},
   "source": [
    "#### ----------------------------------------------------------------------------------------"
   ]
  },
  {
   "cell_type": "markdown",
   "id": "a29862a9-b83b-4c15-8a6b-7cd246850194",
   "metadata": {},
   "source": [
    "### 4️⃣Strings"
   ]
  },
  {
   "cell_type": "markdown",
   "id": "83626cb5-569a-4059-a2ff-2200a5033819",
   "metadata": {},
   "source": [
    "#### 11. Count vowels in a given string.\n",
    "\n"
   ]
  },
  {
   "cell_type": "code",
   "execution_count": 16,
   "id": "9df1685f-11b2-4d26-8d56-155569f277c4",
   "metadata": {},
   "outputs": [],
   "source": [
    "def count_vowel(words):\n",
    "    count = 0\n",
    "    for char in words:\n",
    "        if char.upper() in ['A','E','I','O','U']:\n",
    "            count += 1\n",
    "    return count"
   ]
  },
  {
   "cell_type": "code",
   "execution_count": 17,
   "id": "665ca32c-281f-4d19-b64d-40914fd3e580",
   "metadata": {},
   "outputs": [
    {
     "name": "stdin",
     "output_type": "stream",
     "text": [
      "Enter a string:  I love Python\n"
     ]
    },
    {
     "name": "stdout",
     "output_type": "stream",
     "text": [
      "I love Python contain 4 vowels\n"
     ]
    }
   ],
   "source": [
    "string = input(\"Enter a string: \")\n",
    "print(f\"{string} contain {count_vowel(string)} vowels\")"
   ]
  },
  {
   "cell_type": "markdown",
   "id": "0e0249c5-865c-4877-854b-e5d4666b9c34",
   "metadata": {},
   "source": [
    "#### 12. Check whether a string is a palindrome."
   ]
  },
  {
   "cell_type": "code",
   "execution_count": 18,
   "id": "0102a9ad-a1f1-4612-8c93-ac827cc261b7",
   "metadata": {},
   "outputs": [],
   "source": [
    "def is_palindrome(word):\n",
    "    rev_word = word[::-1]\n",
    "    if word == rev_word:\n",
    "        print(f\"{word} is palindrome\")\n",
    "    else:\n",
    "        print(f\"{word} is not a palindrome\")"
   ]
  },
  {
   "cell_type": "code",
   "execution_count": 19,
   "id": "cedd0d83-0691-47cb-869d-042e7dcac90b",
   "metadata": {},
   "outputs": [
    {
     "name": "stdin",
     "output_type": "stream",
     "text": [
      "Enter a string:  mam\n"
     ]
    },
    {
     "name": "stdout",
     "output_type": "stream",
     "text": [
      "mam is palindrome\n"
     ]
    }
   ],
   "source": [
    "word = input(\"Enter a string: \")\n",
    "is_palindrome(word)"
   ]
  },
  {
   "cell_type": "markdown",
   "id": "b8db5c5e-de6a-4618-a910-c04fc8a6d03b",
   "metadata": {},
   "source": [
    "#### 13. Reverse a string without using built-in functions."
   ]
  },
  {
   "cell_type": "code",
   "execution_count": 20,
   "id": "9df5308a-da9b-4f0e-b4cb-6bab288787b7",
   "metadata": {},
   "outputs": [],
   "source": [
    "def rev_string(string):\n",
    "    return string[::-1]"
   ]
  },
  {
   "cell_type": "code",
   "execution_count": 21,
   "id": "784764b8-1d73-4d0d-b4ea-ee0d144a3585",
   "metadata": {},
   "outputs": [
    {
     "name": "stdin",
     "output_type": "stream",
     "text": [
      "Enter string:  python\n"
     ]
    },
    {
     "name": "stdout",
     "output_type": "stream",
     "text": [
      "Reverse of python : nohtyp\n"
     ]
    }
   ],
   "source": [
    "string = input(\"Enter string: \")\n",
    "print(f\"Reverse of {string} : {rev_string(string)}\")"
   ]
  },
  {
   "cell_type": "markdown",
   "id": "9f17cd9a-03e1-4556-a70b-192c919b79fb",
   "metadata": {},
   "source": [
    "#### ----------------------------------------------------------------------------------------"
   ]
  },
  {
   "cell_type": "markdown",
   "id": "36562abd-9cfa-4b52-a8d0-7e07f29fbc29",
   "metadata": {},
   "source": [
    "### 5️⃣ Lists"
   ]
  },
  {
   "cell_type": "markdown",
   "id": "356844a4-e096-4d50-b4ad-d88766be8cdd",
   "metadata": {},
   "source": [
    "#### 14. Find the maximum and minimum in a list without using max() or min().\n"
   ]
  },
  {
   "cell_type": "code",
   "execution_count": 22,
   "id": "fc309d8e-cb2e-4a59-b594-7fddd5a45c51",
   "metadata": {},
   "outputs": [],
   "source": [
    "def find_max_min(lists):\n",
    "    max = min =  lists[0]\n",
    "    for num in lists[1:]:\n",
    "        if num > max:\n",
    "            max = num\n",
    "        if num < min:\n",
    "            min = num\n",
    "    return max, min      "
   ]
  },
  {
   "cell_type": "code",
   "execution_count": 23,
   "id": "e13c8fc3-9709-45f3-a780-7118a3d59e2b",
   "metadata": {},
   "outputs": [
    {
     "name": "stdout",
     "output_type": "stream",
     "text": [
      "Maximum value in list :  15\n",
      "Minimum value in list :  1\n"
     ]
    }
   ],
   "source": [
    "nums = [1,9,3,8,15,7]\n",
    "max_val, min_val = find_max_min(nums)\n",
    "print(\"Maximum value in list : \", max_val)\n",
    "print(\"Minimum value in list : \", min_val)"
   ]
  },
  {
   "cell_type": "markdown",
   "id": "741d77ef-9801-439f-89f1-c538314b2bbc",
   "metadata": {},
   "source": [
    "#### 15. Remove duplicates from a list."
   ]
  },
  {
   "cell_type": "code",
   "execution_count": 24,
   "id": "821aa88e-e23b-4243-affa-99ece7890e44",
   "metadata": {},
   "outputs": [],
   "source": [
    "def remove_duplicate(lists):\n",
    "    remove_dup = set(lists)\n",
    "    return list(remove_dup)"
   ]
  },
  {
   "cell_type": "code",
   "execution_count": 25,
   "id": "c3846eab-35ae-4f85-8e7e-4e9a78d4c523",
   "metadata": {},
   "outputs": [
    {
     "name": "stdout",
     "output_type": "stream",
     "text": [
      "Removed Duplicated list: [1, 2, 3, 4, 5, 8, 9]\n"
     ]
    }
   ],
   "source": [
    "li = [1,4,2,1,5,8,9,8,3,3,4]\n",
    "print(f\"Removed Duplicated list: {remove_duplicate(li)}\")"
   ]
  },
  {
   "cell_type": "markdown",
   "id": "11d9bc9a-7e7c-416d-b6de-80507321a8f7",
   "metadata": {},
   "source": [
    "#### 16. Sort a list in ascending order (without using built-in sort())."
   ]
  },
  {
   "cell_type": "code",
   "execution_count": 26,
   "id": "e35fd3fd-de53-4bc1-86c0-4f2623b3cb36",
   "metadata": {},
   "outputs": [],
   "source": [
    "def sort_ascending(lst):\n",
    "    n = len(lst)\n",
    "    for i in range(n):\n",
    "        for j in range(n - 1):\n",
    "            if lst[j] > lst[j + 1]:\n",
    "                lst[j],lst[j + 1] = lst[j + 1], lst[j]\n",
    "    return lst"
   ]
  },
  {
   "cell_type": "code",
   "execution_count": 27,
   "id": "8dbf6ee7-7ac8-47f0-a9c4-0fbefecb9a42",
   "metadata": {},
   "outputs": [
    {
     "name": "stdout",
     "output_type": "stream",
     "text": [
      "Arranged into ascending order: [1, 3, 4, 5, 8]\n"
     ]
    }
   ],
   "source": [
    "lst = [4,8,3,5,1]\n",
    "print(f\"Arranged into ascending order: {sort_ascending(lst)}\")"
   ]
  },
  {
   "cell_type": "markdown",
   "id": "b2976cfc-28b2-458b-b082-2dd48bd2035c",
   "metadata": {},
   "source": [
    "#### ----------------------------------------------------------------------------------------"
   ]
  },
  {
   "cell_type": "markdown",
   "id": "89ba5981-9a72-4f91-996c-06e6fda73e97",
   "metadata": {},
   "source": [
    "### 6️⃣ Functions\n"
   ]
  },
  {
   "cell_type": "markdown",
   "id": "83d1abc0-c82c-4361-9978-78d855c91b31",
   "metadata": {},
   "source": [
    "#### 17. Write a function to find the factorial of a number."
   ]
  },
  {
   "cell_type": "code",
   "execution_count": 28,
   "id": "3a850d5e-886a-4c01-b6b8-afddc6303d3b",
   "metadata": {},
   "outputs": [],
   "source": [
    "def find_factorial(num):\n",
    "    fact = 1\n",
    "    for i in range(1,num+1):\n",
    "        fact *= i\n",
    "    return fact"
   ]
  },
  {
   "cell_type": "code",
   "execution_count": 29,
   "id": "26247444-6a31-460d-a2a1-25f7db40d0ff",
   "metadata": {},
   "outputs": [
    {
     "name": "stdin",
     "output_type": "stream",
     "text": [
      "Enter a number:  5\n"
     ]
    },
    {
     "name": "stdout",
     "output_type": "stream",
     "text": [
      "Factorial of 5 : 120\n"
     ]
    }
   ],
   "source": [
    "num = int(input(\"Enter a number: \"))\n",
    "print(f\"Factorial of {num} : {find_factorial(num)}\")"
   ]
  },
  {
   "cell_type": "markdown",
   "id": "f4b1ca0b-32c4-4a6a-b6f8-7e7fb90c53ac",
   "metadata": {},
   "source": [
    "#### 18. Write a function that returns the sum of all elements in a list."
   ]
  },
  {
   "cell_type": "code",
   "execution_count": 30,
   "id": "4bc1b3b9-0fe7-41d3-afd2-397b58195cb2",
   "metadata": {},
   "outputs": [],
   "source": [
    "def sum_of_list(lst):\n",
    "    sum = 0\n",
    "    for num in lst:\n",
    "        sum += num\n",
    "    return sum"
   ]
  },
  {
   "cell_type": "code",
   "execution_count": 31,
   "id": "b97453c5-f135-4978-8c7d-70c922c355a1",
   "metadata": {},
   "outputs": [
    {
     "name": "stdout",
     "output_type": "stream",
     "text": [
      "The sum of all elements: 21\n"
     ]
    }
   ],
   "source": [
    "lst = [1,2,3,4,5,6]\n",
    "print(f\"The sum of all elements: {sum_of_list(lst)}\")"
   ]
  },
  {
   "cell_type": "markdown",
   "id": "6df85103-352b-44c1-b860-f79855e01567",
   "metadata": {},
   "source": [
    "#### 19. Create a function to check if a number is prime."
   ]
  },
  {
   "cell_type": "code",
   "execution_count": 32,
   "id": "35b6be54-5365-4f06-af5d-a97cad5fd206",
   "metadata": {},
   "outputs": [],
   "source": [
    "def is_prime(num):\n",
    "    if num == 0 or num == 1:\n",
    "        return False\n",
    "    if num == 2:\n",
    "        return True\n",
    "    if num % 2 == 0:\n",
    "        return False\n",
    "\n",
    "    for i in range(3,int(num**0.5)+1,2):\n",
    "        if num % i == 0:\n",
    "            return False\n",
    "    return True"
   ]
  },
  {
   "cell_type": "code",
   "execution_count": 33,
   "id": "2a67b009-280b-4843-83f4-89ebb062946c",
   "metadata": {},
   "outputs": [
    {
     "name": "stdin",
     "output_type": "stream",
     "text": [
      "Enter a number:  56\n"
     ]
    },
    {
     "name": "stdout",
     "output_type": "stream",
     "text": [
      "56 is Not a Prime Number.\n"
     ]
    }
   ],
   "source": [
    "num = int(input(\"Enter a number: \"))\n",
    "if is_prime(num):\n",
    "    print(f\"{num} is a Prime Number.\")\n",
    "else:\n",
    "    print(f\"{num} is Not a Prime Number.\")"
   ]
  },
  {
   "cell_type": "markdown",
   "id": "99db30e3-e629-407f-b08f-878edfb57f03",
   "metadata": {},
   "source": [
    "#### ----------------------------------------------------------------------------------------"
   ]
  },
  {
   "cell_type": "markdown",
   "id": "74016bed-2491-4807-be1a-91562c83e87c",
   "metadata": {},
   "source": [
    "### 7️⃣ Dictionaries & Sets"
   ]
  },
  {
   "cell_type": "markdown",
   "id": "7aaad30a-b801-4147-93ec-771f60163d90",
   "metadata": {},
   "source": [
    "#### 20. Count frequency of each word in a sentence using a dictionary."
   ]
  },
  {
   "cell_type": "code",
   "execution_count": 52,
   "id": "8d7efa55-b095-40fb-8075-9ba849428f79",
   "metadata": {},
   "outputs": [],
   "source": [
    "import string\n",
    "def count_words(sentence):\n",
    "    table = str.maketrans(\"\",\"\",string.punctuation)\n",
    "    cleaned_sentence = sentence.translate(table).lower()\n",
    "    words = cleaned_sentence.split()\n",
    "    count_freq = {}\n",
    "\n",
    "    for word in words:\n",
    "        if word in count_freq:\n",
    "            count_freq[word] += 1\n",
    "        else:\n",
    "            count_freq[word] = 1\n",
    "    return count_freq"
   ]
  },
  {
   "cell_type": "code",
   "execution_count": 53,
   "id": "19a0dd89-34c9-4b3c-aa81-82474d4b9f29",
   "metadata": {},
   "outputs": [
    {
     "name": "stdin",
     "output_type": "stream",
     "text": [
      "Enter a sentence:  I love Python Programming. I am Learning Python Programming. Python is a Dynamic Programming\n"
     ]
    },
    {
     "name": "stdout",
     "output_type": "stream",
     "text": [
      "Word frequencies: {'i': 2, 'love': 1, 'python': 3, 'programming.': 2, 'am': 1, 'learning': 1, 'is': 1, 'a': 1, 'dynamic': 1, 'programming': 1}\n"
     ]
    }
   ],
   "source": [
    "sentence = input(\"Enter a sentence: \")\n",
    "result = count_word_frequency(sentence)\n",
    "print(\"Word frequencies:\", result)"
   ]
  },
  {
   "cell_type": "markdown",
   "id": "1ad1ba16-8048-49f5-8892-7a9672734647",
   "metadata": {},
   "source": [
    "#### 21. Create a dictionary of squares of numbers from 1 to 10."
   ]
  },
  {
   "cell_type": "code",
   "execution_count": 36,
   "id": "7c3e38b3-42d5-4198-8b7a-0f9915020432",
   "metadata": {},
   "outputs": [],
   "source": [
    "def sqr_of_dict_():\n",
    "    num_dict = {}\n",
    "    for i in range(1,11):\n",
    "        num_dict[i]=i**2\n",
    "    return num_dict\n"
   ]
  },
  {
   "cell_type": "code",
   "execution_count": 37,
   "id": "3d8fb746-3ef7-4f48-82a7-61d1bc7b57ba",
   "metadata": {},
   "outputs": [
    {
     "name": "stdout",
     "output_type": "stream",
     "text": [
      "A dictionary of squares of numbers from 1 to 10: \n",
      "{1: 1, 2: 4, 3: 9, 4: 16, 5: 25, 6: 36, 7: 49, 8: 64, 9: 81, 10: 100}\n"
     ]
    }
   ],
   "source": [
    "print(\"A dictionary of squares of numbers from 1 to 10: \")\n",
    "print(sqr_of_dict_())"
   ]
  },
  {
   "cell_type": "markdown",
   "id": "06269447-3a43-496d-b1ce-41a77d68589d",
   "metadata": {},
   "source": [
    "#### 22. Remove duplicate elements from a list using a set."
   ]
  },
  {
   "cell_type": "code",
   "execution_count": 38,
   "id": "94bc54d0-f960-42c0-8f30-7e9114af84a0",
   "metadata": {},
   "outputs": [],
   "source": [
    "def remove_duplicate(lst):\n",
    "    removed = set(lst)\n",
    "    return list(removed)"
   ]
  },
  {
   "cell_type": "code",
   "execution_count": 39,
   "id": "70d7af8d-a714-46aa-8be9-15f46766ab47",
   "metadata": {},
   "outputs": [
    {
     "name": "stdout",
     "output_type": "stream",
     "text": [
      "Removed Duplicated: [1, 2, 3, 6, 8, 15, 48, 18]\n"
     ]
    }
   ],
   "source": [
    "lst = [1,2,3,1,15,2,8,6,15,18,48,18]\n",
    "print(f\"Removed Duplicated: {remove_duplicate(lst)}\")"
   ]
  },
  {
   "cell_type": "markdown",
   "id": "c30fe2d9-23f4-4caa-b15e-7eaa9d7a50e2",
   "metadata": {},
   "source": [
    "#### ----------------------------------------------------------------------------------------"
   ]
  },
  {
   "cell_type": "markdown",
   "id": "3ea696be-b5cc-4b0d-a7a9-700ca6d7ca42",
   "metadata": {},
   "source": [
    "### 8️⃣ File Handling"
   ]
  },
  {
   "cell_type": "markdown",
   "id": "175e5458-e4cf-4931-a339-a147f5427a72",
   "metadata": {},
   "source": [
    "### 23. Write to a file and then read the contents."
   ]
  },
  {
   "cell_type": "code",
   "execution_count": 58,
   "id": "e9651d96-0ce3-426e-9334-eb856bb42d87",
   "metadata": {},
   "outputs": [
    {
     "name": "stdout",
     "output_type": "stream",
     "text": [
      "\"text.txt\" file created & content written successfully!!\n",
      "\n",
      "File Contents:  Hello, i am learning python programming.\n"
     ]
    }
   ],
   "source": [
    "file = open(\"text.txt\",\"w\")\n",
    "file.write(\"Hello, i am learning python programming.\")\n",
    "file.close()\n",
    "print(\"\\\"text.txt\\\" file created & content written successfully!!\\n\")\n",
    "\n",
    "file = open(\"text.txt\",\"r\")\n",
    "contents = file.read()\n",
    "print(\"File Contents: \",contents)\n",
    "file.close()\n"
   ]
  },
  {
   "cell_type": "markdown",
   "id": "49d20238-24c3-452b-974b-cae620819753",
   "metadata": {},
   "source": [
    "#### 24. Count the number of lines, words, and characters in a text file."
   ]
  },
  {
   "cell_type": "code",
   "execution_count": 71,
   "id": "8c0c755b-5a87-4125-8682-bc81c911f898",
   "metadata": {},
   "outputs": [],
   "source": [
    "def count_func(filename):\n",
    "    count_line = 0\n",
    "    count_char = 0\n",
    "    count_words = 0\n",
    "    with open(filename,\"r\") as file:\n",
    "        for line in file:\n",
    "            count_line += 1\n",
    "            count_char += len(line)\n",
    "            count_words += len(line.split())\n",
    "    return count_line,count_char, count_words"
   ]
  },
  {
   "cell_type": "code",
   "execution_count": 72,
   "id": "474acb99-4f4c-4add-903e-4ad1b3535e33",
   "metadata": {},
   "outputs": [
    {
     "name": "stdin",
     "output_type": "stream",
     "text": [
      "Enter file name:  example.txt\n"
     ]
    },
    {
     "name": "stdout",
     "output_type": "stream",
     "text": [
      "Numbers of Line in \"example.txt\": 3\n",
      "Number of count: 52\n",
      "Number of words: 6\n"
     ]
    }
   ],
   "source": [
    "filename= input(\"Enter file name: \")\n",
    "count_line,count_char,count_words = count_func(filename)\n",
    "print(f\"Numbers of Line in \\\"{filename}\\\": {count_line}\")\n",
    "print(f\"Number of count: {count_char}\")\n",
    "print(f\"Number of words: {count_words}\")"
   ]
  },
  {
   "cell_type": "markdown",
   "id": "d991fdb5-62eb-4e1e-8307-5cb04f78fbef",
   "metadata": {},
   "source": [
    "#### 25. Copy content from one file to another."
   ]
  },
  {
   "cell_type": "code",
   "execution_count": 75,
   "id": "0002b83a-f515-47e8-a4f2-85020589f67f",
   "metadata": {},
   "outputs": [
    {
     "name": "stdout",
     "output_type": "stream",
     "text": [
      "Content Copied Successfully!!\n"
     ]
    }
   ],
   "source": [
    "with open(\"example.txt\",\"r\") as sourcefile:\n",
    "    content = sourcefile.read()\n",
    "\n",
    "with open(\"example_copy.txt\",\"w\") as destinationfile:\n",
    "    destinationfile.write(content)\n",
    "\n",
    "print(\"Content Copied Successfully!!\")"
   ]
  },
  {
   "cell_type": "code",
   "execution_count": 77,
   "id": "c36d2edf-6553-4395-aa4f-7bd6053a577d",
   "metadata": {},
   "outputs": [
    {
     "name": "stdout",
     "output_type": "stream",
     "text": [
      "Content in file:\n",
      "Rimesh Chaudhary\n",
      "RishiKant Chaudhary\n",
      "Gaurab Shrestha\n"
     ]
    }
   ],
   "source": [
    "with open(\"example_copy.txt\") as file:\n",
    "    content = file.read()\n",
    "\n",
    "print(f\"Content in file:\\n{content}\")"
   ]
  },
  {
   "cell_type": "code",
   "execution_count": null,
   "id": "520b727a-3008-41f5-b984-3337e1eabba1",
   "metadata": {},
   "outputs": [],
   "source": []
  }
 ],
 "metadata": {
  "kernelspec": {
   "display_name": "Python 3 (ipykernel)",
   "language": "python",
   "name": "python3"
  },
  "language_info": {
   "codemirror_mode": {
    "name": "ipython",
    "version": 3
   },
   "file_extension": ".py",
   "mimetype": "text/x-python",
   "name": "python",
   "nbconvert_exporter": "python",
   "pygments_lexer": "ipython3",
   "version": "3.12.7"
  }
 },
 "nbformat": 4,
 "nbformat_minor": 5
}
